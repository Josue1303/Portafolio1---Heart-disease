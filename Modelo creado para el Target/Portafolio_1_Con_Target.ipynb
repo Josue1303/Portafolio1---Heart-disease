{
  "cells": [
    {
      "cell_type": "markdown",
      "metadata": {
        "id": "z9zE-MODH8XP"
      },
      "source": [
        "# **Josué Emmanuel Flores Mendoza A00833132**"
      ]
    },
    {
      "cell_type": "markdown",
      "metadata": {
        "id": "DJqSQCWmIDes"
      },
      "source": [
        " **Parte 1: Cargar datos, verificarlos y analizar features importantes**"
      ]
    },
    {
      "cell_type": "code",
      "execution_count": null,
      "metadata": {
        "colab": {
          "base_uri": "https://localhost:8080/"
        },
        "id": "WvPpbZfpHbTW",
        "outputId": "e5fd25dd-e15c-47c5-a958-982c9d88173e"
      },
      "outputs": [
        {
          "name": "stdout",
          "output_type": "stream",
          "text": [
            "Mounted at /content/gdrive\n",
            "/content\n"
          ]
        }
      ],
      "source": [
        "#from google.colab import drive\n",
        "\n",
        "#drive.mount(\"/content/gdrive\")\n",
        "#!pwd # directorio de trabajo"
      ]
    },
    {
      "cell_type": "code",
      "execution_count": null,
      "metadata": {
        "colab": {
          "base_uri": "https://localhost:8080/"
        },
        "id": "StKlUCmwIZdq",
        "outputId": "16559961-e3b7-4e74-8ef4-f6a8644f85d6"
      },
      "outputs": [
        {
          "name": "stdout",
          "output_type": "stream",
          "text": [
            "/content/gdrive/MyDrive/Actividades IA avanzada/Módulo ML/Portafolio 1\n",
            " heart-disease.csv\t\t 'Portafolio 1.ipynb'\n",
            "'Portafolio 1 Con Target.ipynb'  'Portafolio 1 Mejorado.ipynb'\n"
          ]
        }
      ],
      "source": [
        "#%cd \"/content/gdrive/MyDrive/Actividades IA avanzada/Módulo ML/Portafolio 1\"\n",
        "#!ls # Lista de archivos ubicados en el folder"
      ]
    },
    {
      "cell_type": "code",
      "execution_count": null,
      "metadata": {
        "id": "K4udcXS8IlZg"
      },
      "outputs": [],
      "source": [
        "# Importaciones\n",
        "import pandas as pd\n",
        "import numpy as np\n",
        "import matplotlib.pyplot as plt\n",
        "from sklearn.preprocessing import StandardScaler\n",
        "import math"
      ]
    },
    {
      "cell_type": "code",
      "execution_count": null,
      "metadata": {
        "colab": {
          "base_uri": "https://localhost:8080/",
          "height": 423
        },
        "id": "wH8uVyKhIeOh",
        "outputId": "d430bf68-e773-448c-a31a-618a9d1f1cbe"
      },
      "outputs": [
        {
          "data": {
            "application/vnd.google.colaboratory.intrinsic+json": {
              "summary": "{\n  \"name\": \"df\",\n  \"rows\": 303,\n  \"fields\": [\n    {\n      \"column\": \"age\",\n      \"properties\": {\n        \"dtype\": \"number\",\n        \"std\": 9,\n        \"min\": 29,\n        \"max\": 77,\n        \"num_unique_values\": 41,\n        \"samples\": [\n          46,\n          66,\n          48\n        ],\n        \"semantic_type\": \"\",\n        \"description\": \"\"\n      }\n    },\n    {\n      \"column\": \"sex\",\n      \"properties\": {\n        \"dtype\": \"number\",\n        \"std\": 0,\n        \"min\": 0,\n        \"max\": 1,\n        \"num_unique_values\": 2,\n        \"samples\": [\n          0,\n          1\n        ],\n        \"semantic_type\": \"\",\n        \"description\": \"\"\n      }\n    },\n    {\n      \"column\": \"cp\",\n      \"properties\": {\n        \"dtype\": \"number\",\n        \"std\": 1,\n        \"min\": 0,\n        \"max\": 3,\n        \"num_unique_values\": 4,\n        \"samples\": [\n          2,\n          0\n        ],\n        \"semantic_type\": \"\",\n        \"description\": \"\"\n      }\n    },\n    {\n      \"column\": \"trestbps\",\n      \"properties\": {\n        \"dtype\": \"number\",\n        \"std\": 17,\n        \"min\": 94,\n        \"max\": 200,\n        \"num_unique_values\": 49,\n        \"samples\": [\n          104,\n          123\n        ],\n        \"semantic_type\": \"\",\n        \"description\": \"\"\n      }\n    },\n    {\n      \"column\": \"chol\",\n      \"properties\": {\n        \"dtype\": \"number\",\n        \"std\": 51,\n        \"min\": 126,\n        \"max\": 564,\n        \"num_unique_values\": 152,\n        \"samples\": [\n          277,\n          169\n        ],\n        \"semantic_type\": \"\",\n        \"description\": \"\"\n      }\n    },\n    {\n      \"column\": \"fbs\",\n      \"properties\": {\n        \"dtype\": \"number\",\n        \"std\": 0,\n        \"min\": 0,\n        \"max\": 1,\n        \"num_unique_values\": 2,\n        \"samples\": [\n          0,\n          1\n        ],\n        \"semantic_type\": \"\",\n        \"description\": \"\"\n      }\n    },\n    {\n      \"column\": \"restecg\",\n      \"properties\": {\n        \"dtype\": \"number\",\n        \"std\": 0,\n        \"min\": 0,\n        \"max\": 2,\n        \"num_unique_values\": 3,\n        \"samples\": [\n          0,\n          1\n        ],\n        \"semantic_type\": \"\",\n        \"description\": \"\"\n      }\n    },\n    {\n      \"column\": \"thalach\",\n      \"properties\": {\n        \"dtype\": \"number\",\n        \"std\": 22,\n        \"min\": 71,\n        \"max\": 202,\n        \"num_unique_values\": 91,\n        \"samples\": [\n          159,\n          152\n        ],\n        \"semantic_type\": \"\",\n        \"description\": \"\"\n      }\n    },\n    {\n      \"column\": \"exang\",\n      \"properties\": {\n        \"dtype\": \"number\",\n        \"std\": 0,\n        \"min\": 0,\n        \"max\": 1,\n        \"num_unique_values\": 2,\n        \"samples\": [\n          1,\n          0\n        ],\n        \"semantic_type\": \"\",\n        \"description\": \"\"\n      }\n    },\n    {\n      \"column\": \"oldpeak\",\n      \"properties\": {\n        \"dtype\": \"number\",\n        \"std\": 1.1610750220686348,\n        \"min\": 0.0,\n        \"max\": 6.2,\n        \"num_unique_values\": 40,\n        \"samples\": [\n          1.9,\n          3.0\n        ],\n        \"semantic_type\": \"\",\n        \"description\": \"\"\n      }\n    },\n    {\n      \"column\": \"slope\",\n      \"properties\": {\n        \"dtype\": \"number\",\n        \"std\": 0,\n        \"min\": 0,\n        \"max\": 2,\n        \"num_unique_values\": 3,\n        \"samples\": [\n          0,\n          2\n        ],\n        \"semantic_type\": \"\",\n        \"description\": \"\"\n      }\n    },\n    {\n      \"column\": \"ca\",\n      \"properties\": {\n        \"dtype\": \"number\",\n        \"std\": 1,\n        \"min\": 0,\n        \"max\": 4,\n        \"num_unique_values\": 5,\n        \"samples\": [\n          2,\n          4\n        ],\n        \"semantic_type\": \"\",\n        \"description\": \"\"\n      }\n    },\n    {\n      \"column\": \"thal\",\n      \"properties\": {\n        \"dtype\": \"number\",\n        \"std\": 0,\n        \"min\": 0,\n        \"max\": 3,\n        \"num_unique_values\": 4,\n        \"samples\": [\n          2,\n          0\n        ],\n        \"semantic_type\": \"\",\n        \"description\": \"\"\n      }\n    },\n    {\n      \"column\": \"target\",\n      \"properties\": {\n        \"dtype\": \"number\",\n        \"std\": 0,\n        \"min\": 0,\n        \"max\": 1,\n        \"num_unique_values\": 2,\n        \"samples\": [\n          0,\n          1\n        ],\n        \"semantic_type\": \"\",\n        \"description\": \"\"\n      }\n    }\n  ]\n}",
              "type": "dataframe",
              "variable_name": "df"
            },
            "text/html": [
              "\n",
              "  <div id=\"df-25ef7066-daf1-4065-8315-07847c4c8c6f\" class=\"colab-df-container\">\n",
              "    <div>\n",
              "<style scoped>\n",
              "    .dataframe tbody tr th:only-of-type {\n",
              "        vertical-align: middle;\n",
              "    }\n",
              "\n",
              "    .dataframe tbody tr th {\n",
              "        vertical-align: top;\n",
              "    }\n",
              "\n",
              "    .dataframe thead th {\n",
              "        text-align: right;\n",
              "    }\n",
              "</style>\n",
              "<table border=\"1\" class=\"dataframe\">\n",
              "  <thead>\n",
              "    <tr style=\"text-align: right;\">\n",
              "      <th></th>\n",
              "      <th>age</th>\n",
              "      <th>sex</th>\n",
              "      <th>cp</th>\n",
              "      <th>trestbps</th>\n",
              "      <th>chol</th>\n",
              "      <th>fbs</th>\n",
              "      <th>restecg</th>\n",
              "      <th>thalach</th>\n",
              "      <th>exang</th>\n",
              "      <th>oldpeak</th>\n",
              "      <th>slope</th>\n",
              "      <th>ca</th>\n",
              "      <th>thal</th>\n",
              "      <th>target</th>\n",
              "    </tr>\n",
              "  </thead>\n",
              "  <tbody>\n",
              "    <tr>\n",
              "      <th>0</th>\n",
              "      <td>63</td>\n",
              "      <td>1</td>\n",
              "      <td>3</td>\n",
              "      <td>145</td>\n",
              "      <td>233</td>\n",
              "      <td>1</td>\n",
              "      <td>0</td>\n",
              "      <td>150</td>\n",
              "      <td>0</td>\n",
              "      <td>2.3</td>\n",
              "      <td>0</td>\n",
              "      <td>0</td>\n",
              "      <td>1</td>\n",
              "      <td>1</td>\n",
              "    </tr>\n",
              "    <tr>\n",
              "      <th>1</th>\n",
              "      <td>37</td>\n",
              "      <td>1</td>\n",
              "      <td>2</td>\n",
              "      <td>130</td>\n",
              "      <td>250</td>\n",
              "      <td>0</td>\n",
              "      <td>1</td>\n",
              "      <td>187</td>\n",
              "      <td>0</td>\n",
              "      <td>3.5</td>\n",
              "      <td>0</td>\n",
              "      <td>0</td>\n",
              "      <td>2</td>\n",
              "      <td>1</td>\n",
              "    </tr>\n",
              "    <tr>\n",
              "      <th>2</th>\n",
              "      <td>41</td>\n",
              "      <td>0</td>\n",
              "      <td>1</td>\n",
              "      <td>130</td>\n",
              "      <td>204</td>\n",
              "      <td>0</td>\n",
              "      <td>0</td>\n",
              "      <td>172</td>\n",
              "      <td>0</td>\n",
              "      <td>1.4</td>\n",
              "      <td>2</td>\n",
              "      <td>0</td>\n",
              "      <td>2</td>\n",
              "      <td>1</td>\n",
              "    </tr>\n",
              "    <tr>\n",
              "      <th>3</th>\n",
              "      <td>56</td>\n",
              "      <td>1</td>\n",
              "      <td>1</td>\n",
              "      <td>120</td>\n",
              "      <td>236</td>\n",
              "      <td>0</td>\n",
              "      <td>1</td>\n",
              "      <td>178</td>\n",
              "      <td>0</td>\n",
              "      <td>0.8</td>\n",
              "      <td>2</td>\n",
              "      <td>0</td>\n",
              "      <td>2</td>\n",
              "      <td>1</td>\n",
              "    </tr>\n",
              "    <tr>\n",
              "      <th>4</th>\n",
              "      <td>57</td>\n",
              "      <td>0</td>\n",
              "      <td>0</td>\n",
              "      <td>120</td>\n",
              "      <td>354</td>\n",
              "      <td>0</td>\n",
              "      <td>1</td>\n",
              "      <td>163</td>\n",
              "      <td>1</td>\n",
              "      <td>0.6</td>\n",
              "      <td>2</td>\n",
              "      <td>0</td>\n",
              "      <td>2</td>\n",
              "      <td>1</td>\n",
              "    </tr>\n",
              "    <tr>\n",
              "      <th>...</th>\n",
              "      <td>...</td>\n",
              "      <td>...</td>\n",
              "      <td>...</td>\n",
              "      <td>...</td>\n",
              "      <td>...</td>\n",
              "      <td>...</td>\n",
              "      <td>...</td>\n",
              "      <td>...</td>\n",
              "      <td>...</td>\n",
              "      <td>...</td>\n",
              "      <td>...</td>\n",
              "      <td>...</td>\n",
              "      <td>...</td>\n",
              "      <td>...</td>\n",
              "    </tr>\n",
              "    <tr>\n",
              "      <th>298</th>\n",
              "      <td>57</td>\n",
              "      <td>0</td>\n",
              "      <td>0</td>\n",
              "      <td>140</td>\n",
              "      <td>241</td>\n",
              "      <td>0</td>\n",
              "      <td>1</td>\n",
              "      <td>123</td>\n",
              "      <td>1</td>\n",
              "      <td>0.2</td>\n",
              "      <td>1</td>\n",
              "      <td>0</td>\n",
              "      <td>3</td>\n",
              "      <td>0</td>\n",
              "    </tr>\n",
              "    <tr>\n",
              "      <th>299</th>\n",
              "      <td>45</td>\n",
              "      <td>1</td>\n",
              "      <td>3</td>\n",
              "      <td>110</td>\n",
              "      <td>264</td>\n",
              "      <td>0</td>\n",
              "      <td>1</td>\n",
              "      <td>132</td>\n",
              "      <td>0</td>\n",
              "      <td>1.2</td>\n",
              "      <td>1</td>\n",
              "      <td>0</td>\n",
              "      <td>3</td>\n",
              "      <td>0</td>\n",
              "    </tr>\n",
              "    <tr>\n",
              "      <th>300</th>\n",
              "      <td>68</td>\n",
              "      <td>1</td>\n",
              "      <td>0</td>\n",
              "      <td>144</td>\n",
              "      <td>193</td>\n",
              "      <td>1</td>\n",
              "      <td>1</td>\n",
              "      <td>141</td>\n",
              "      <td>0</td>\n",
              "      <td>3.4</td>\n",
              "      <td>1</td>\n",
              "      <td>2</td>\n",
              "      <td>3</td>\n",
              "      <td>0</td>\n",
              "    </tr>\n",
              "    <tr>\n",
              "      <th>301</th>\n",
              "      <td>57</td>\n",
              "      <td>1</td>\n",
              "      <td>0</td>\n",
              "      <td>130</td>\n",
              "      <td>131</td>\n",
              "      <td>0</td>\n",
              "      <td>1</td>\n",
              "      <td>115</td>\n",
              "      <td>1</td>\n",
              "      <td>1.2</td>\n",
              "      <td>1</td>\n",
              "      <td>1</td>\n",
              "      <td>3</td>\n",
              "      <td>0</td>\n",
              "    </tr>\n",
              "    <tr>\n",
              "      <th>302</th>\n",
              "      <td>57</td>\n",
              "      <td>0</td>\n",
              "      <td>1</td>\n",
              "      <td>130</td>\n",
              "      <td>236</td>\n",
              "      <td>0</td>\n",
              "      <td>0</td>\n",
              "      <td>174</td>\n",
              "      <td>0</td>\n",
              "      <td>0.0</td>\n",
              "      <td>1</td>\n",
              "      <td>1</td>\n",
              "      <td>2</td>\n",
              "      <td>0</td>\n",
              "    </tr>\n",
              "  </tbody>\n",
              "</table>\n",
              "<p>303 rows × 14 columns</p>\n",
              "</div>\n",
              "    <div class=\"colab-df-buttons\">\n",
              "\n",
              "  <div class=\"colab-df-container\">\n",
              "    <button class=\"colab-df-convert\" onclick=\"convertToInteractive('df-25ef7066-daf1-4065-8315-07847c4c8c6f')\"\n",
              "            title=\"Convert this dataframe to an interactive table.\"\n",
              "            style=\"display:none;\">\n",
              "\n",
              "  <svg xmlns=\"http://www.w3.org/2000/svg\" height=\"24px\" viewBox=\"0 -960 960 960\">\n",
              "    <path d=\"M120-120v-720h720v720H120Zm60-500h600v-160H180v160Zm220 220h160v-160H400v160Zm0 220h160v-160H400v160ZM180-400h160v-160H180v160Zm440 0h160v-160H620v160ZM180-180h160v-160H180v160Zm440 0h160v-160H620v160Z\"/>\n",
              "  </svg>\n",
              "    </button>\n",
              "\n",
              "  <style>\n",
              "    .colab-df-container {\n",
              "      display:flex;\n",
              "      gap: 12px;\n",
              "    }\n",
              "\n",
              "    .colab-df-convert {\n",
              "      background-color: #E8F0FE;\n",
              "      border: none;\n",
              "      border-radius: 50%;\n",
              "      cursor: pointer;\n",
              "      display: none;\n",
              "      fill: #1967D2;\n",
              "      height: 32px;\n",
              "      padding: 0 0 0 0;\n",
              "      width: 32px;\n",
              "    }\n",
              "\n",
              "    .colab-df-convert:hover {\n",
              "      background-color: #E2EBFA;\n",
              "      box-shadow: 0px 1px 2px rgba(60, 64, 67, 0.3), 0px 1px 3px 1px rgba(60, 64, 67, 0.15);\n",
              "      fill: #174EA6;\n",
              "    }\n",
              "\n",
              "    .colab-df-buttons div {\n",
              "      margin-bottom: 4px;\n",
              "    }\n",
              "\n",
              "    [theme=dark] .colab-df-convert {\n",
              "      background-color: #3B4455;\n",
              "      fill: #D2E3FC;\n",
              "    }\n",
              "\n",
              "    [theme=dark] .colab-df-convert:hover {\n",
              "      background-color: #434B5C;\n",
              "      box-shadow: 0px 1px 3px 1px rgba(0, 0, 0, 0.15);\n",
              "      filter: drop-shadow(0px 1px 2px rgba(0, 0, 0, 0.3));\n",
              "      fill: #FFFFFF;\n",
              "    }\n",
              "  </style>\n",
              "\n",
              "    <script>\n",
              "      const buttonEl =\n",
              "        document.querySelector('#df-25ef7066-daf1-4065-8315-07847c4c8c6f button.colab-df-convert');\n",
              "      buttonEl.style.display =\n",
              "        google.colab.kernel.accessAllowed ? 'block' : 'none';\n",
              "\n",
              "      async function convertToInteractive(key) {\n",
              "        const element = document.querySelector('#df-25ef7066-daf1-4065-8315-07847c4c8c6f');\n",
              "        const dataTable =\n",
              "          await google.colab.kernel.invokeFunction('convertToInteractive',\n",
              "                                                    [key], {});\n",
              "        if (!dataTable) return;\n",
              "\n",
              "        const docLinkHtml = 'Like what you see? Visit the ' +\n",
              "          '<a target=\"_blank\" href=https://colab.research.google.com/notebooks/data_table.ipynb>data table notebook</a>'\n",
              "          + ' to learn more about interactive tables.';\n",
              "        element.innerHTML = '';\n",
              "        dataTable['output_type'] = 'display_data';\n",
              "        await google.colab.output.renderOutput(dataTable, element);\n",
              "        const docLink = document.createElement('div');\n",
              "        docLink.innerHTML = docLinkHtml;\n",
              "        element.appendChild(docLink);\n",
              "      }\n",
              "    </script>\n",
              "  </div>\n",
              "\n",
              "\n",
              "<div id=\"df-a0ec2ee1-75e8-4ffa-9d20-b36c125bee6f\">\n",
              "  <button class=\"colab-df-quickchart\" onclick=\"quickchart('df-a0ec2ee1-75e8-4ffa-9d20-b36c125bee6f')\"\n",
              "            title=\"Suggest charts\"\n",
              "            style=\"display:none;\">\n",
              "\n",
              "<svg xmlns=\"http://www.w3.org/2000/svg\" height=\"24px\"viewBox=\"0 0 24 24\"\n",
              "     width=\"24px\">\n",
              "    <g>\n",
              "        <path d=\"M19 3H5c-1.1 0-2 .9-2 2v14c0 1.1.9 2 2 2h14c1.1 0 2-.9 2-2V5c0-1.1-.9-2-2-2zM9 17H7v-7h2v7zm4 0h-2V7h2v10zm4 0h-2v-4h2v4z\"/>\n",
              "    </g>\n",
              "</svg>\n",
              "  </button>\n",
              "\n",
              "<style>\n",
              "  .colab-df-quickchart {\n",
              "      --bg-color: #E8F0FE;\n",
              "      --fill-color: #1967D2;\n",
              "      --hover-bg-color: #E2EBFA;\n",
              "      --hover-fill-color: #174EA6;\n",
              "      --disabled-fill-color: #AAA;\n",
              "      --disabled-bg-color: #DDD;\n",
              "  }\n",
              "\n",
              "  [theme=dark] .colab-df-quickchart {\n",
              "      --bg-color: #3B4455;\n",
              "      --fill-color: #D2E3FC;\n",
              "      --hover-bg-color: #434B5C;\n",
              "      --hover-fill-color: #FFFFFF;\n",
              "      --disabled-bg-color: #3B4455;\n",
              "      --disabled-fill-color: #666;\n",
              "  }\n",
              "\n",
              "  .colab-df-quickchart {\n",
              "    background-color: var(--bg-color);\n",
              "    border: none;\n",
              "    border-radius: 50%;\n",
              "    cursor: pointer;\n",
              "    display: none;\n",
              "    fill: var(--fill-color);\n",
              "    height: 32px;\n",
              "    padding: 0;\n",
              "    width: 32px;\n",
              "  }\n",
              "\n",
              "  .colab-df-quickchart:hover {\n",
              "    background-color: var(--hover-bg-color);\n",
              "    box-shadow: 0 1px 2px rgba(60, 64, 67, 0.3), 0 1px 3px 1px rgba(60, 64, 67, 0.15);\n",
              "    fill: var(--button-hover-fill-color);\n",
              "  }\n",
              "\n",
              "  .colab-df-quickchart-complete:disabled,\n",
              "  .colab-df-quickchart-complete:disabled:hover {\n",
              "    background-color: var(--disabled-bg-color);\n",
              "    fill: var(--disabled-fill-color);\n",
              "    box-shadow: none;\n",
              "  }\n",
              "\n",
              "  .colab-df-spinner {\n",
              "    border: 2px solid var(--fill-color);\n",
              "    border-color: transparent;\n",
              "    border-bottom-color: var(--fill-color);\n",
              "    animation:\n",
              "      spin 1s steps(1) infinite;\n",
              "  }\n",
              "\n",
              "  @keyframes spin {\n",
              "    0% {\n",
              "      border-color: transparent;\n",
              "      border-bottom-color: var(--fill-color);\n",
              "      border-left-color: var(--fill-color);\n",
              "    }\n",
              "    20% {\n",
              "      border-color: transparent;\n",
              "      border-left-color: var(--fill-color);\n",
              "      border-top-color: var(--fill-color);\n",
              "    }\n",
              "    30% {\n",
              "      border-color: transparent;\n",
              "      border-left-color: var(--fill-color);\n",
              "      border-top-color: var(--fill-color);\n",
              "      border-right-color: var(--fill-color);\n",
              "    }\n",
              "    40% {\n",
              "      border-color: transparent;\n",
              "      border-right-color: var(--fill-color);\n",
              "      border-top-color: var(--fill-color);\n",
              "    }\n",
              "    60% {\n",
              "      border-color: transparent;\n",
              "      border-right-color: var(--fill-color);\n",
              "    }\n",
              "    80% {\n",
              "      border-color: transparent;\n",
              "      border-right-color: var(--fill-color);\n",
              "      border-bottom-color: var(--fill-color);\n",
              "    }\n",
              "    90% {\n",
              "      border-color: transparent;\n",
              "      border-bottom-color: var(--fill-color);\n",
              "    }\n",
              "  }\n",
              "</style>\n",
              "\n",
              "  <script>\n",
              "    async function quickchart(key) {\n",
              "      const quickchartButtonEl =\n",
              "        document.querySelector('#' + key + ' button');\n",
              "      quickchartButtonEl.disabled = true;  // To prevent multiple clicks.\n",
              "      quickchartButtonEl.classList.add('colab-df-spinner');\n",
              "      try {\n",
              "        const charts = await google.colab.kernel.invokeFunction(\n",
              "            'suggestCharts', [key], {});\n",
              "      } catch (error) {\n",
              "        console.error('Error during call to suggestCharts:', error);\n",
              "      }\n",
              "      quickchartButtonEl.classList.remove('colab-df-spinner');\n",
              "      quickchartButtonEl.classList.add('colab-df-quickchart-complete');\n",
              "    }\n",
              "    (() => {\n",
              "      let quickchartButtonEl =\n",
              "        document.querySelector('#df-a0ec2ee1-75e8-4ffa-9d20-b36c125bee6f button');\n",
              "      quickchartButtonEl.style.display =\n",
              "        google.colab.kernel.accessAllowed ? 'block' : 'none';\n",
              "    })();\n",
              "  </script>\n",
              "</div>\n",
              "\n",
              "  <div id=\"id_f35dff7c-b534-4baa-8d9d-c1b8e7d078c0\">\n",
              "    <style>\n",
              "      .colab-df-generate {\n",
              "        background-color: #E8F0FE;\n",
              "        border: none;\n",
              "        border-radius: 50%;\n",
              "        cursor: pointer;\n",
              "        display: none;\n",
              "        fill: #1967D2;\n",
              "        height: 32px;\n",
              "        padding: 0 0 0 0;\n",
              "        width: 32px;\n",
              "      }\n",
              "\n",
              "      .colab-df-generate:hover {\n",
              "        background-color: #E2EBFA;\n",
              "        box-shadow: 0px 1px 2px rgba(60, 64, 67, 0.3), 0px 1px 3px 1px rgba(60, 64, 67, 0.15);\n",
              "        fill: #174EA6;\n",
              "      }\n",
              "\n",
              "      [theme=dark] .colab-df-generate {\n",
              "        background-color: #3B4455;\n",
              "        fill: #D2E3FC;\n",
              "      }\n",
              "\n",
              "      [theme=dark] .colab-df-generate:hover {\n",
              "        background-color: #434B5C;\n",
              "        box-shadow: 0px 1px 3px 1px rgba(0, 0, 0, 0.15);\n",
              "        filter: drop-shadow(0px 1px 2px rgba(0, 0, 0, 0.3));\n",
              "        fill: #FFFFFF;\n",
              "      }\n",
              "    </style>\n",
              "    <button class=\"colab-df-generate\" onclick=\"generateWithVariable('df')\"\n",
              "            title=\"Generate code using this dataframe.\"\n",
              "            style=\"display:none;\">\n",
              "\n",
              "  <svg xmlns=\"http://www.w3.org/2000/svg\" height=\"24px\"viewBox=\"0 0 24 24\"\n",
              "       width=\"24px\">\n",
              "    <path d=\"M7,19H8.4L18.45,9,17,7.55,7,17.6ZM5,21V16.75L18.45,3.32a2,2,0,0,1,2.83,0l1.4,1.43a1.91,1.91,0,0,1,.58,1.4,1.91,1.91,0,0,1-.58,1.4L9.25,21ZM18.45,9,17,7.55Zm-12,3A5.31,5.31,0,0,0,4.9,8.1,5.31,5.31,0,0,0,1,6.5,5.31,5.31,0,0,0,4.9,4.9,5.31,5.31,0,0,0,6.5,1,5.31,5.31,0,0,0,8.1,4.9,5.31,5.31,0,0,0,12,6.5,5.46,5.46,0,0,0,6.5,12Z\"/>\n",
              "  </svg>\n",
              "    </button>\n",
              "    <script>\n",
              "      (() => {\n",
              "      const buttonEl =\n",
              "        document.querySelector('#id_f35dff7c-b534-4baa-8d9d-c1b8e7d078c0 button.colab-df-generate');\n",
              "      buttonEl.style.display =\n",
              "        google.colab.kernel.accessAllowed ? 'block' : 'none';\n",
              "\n",
              "      buttonEl.onclick = () => {\n",
              "        google.colab.notebook.generateWithVariable('df');\n",
              "      }\n",
              "      })();\n",
              "    </script>\n",
              "  </div>\n",
              "\n",
              "    </div>\n",
              "  </div>\n"
            ],
            "text/plain": [
              "     age  sex  cp  trestbps  chol  fbs  restecg  thalach  exang  oldpeak  \\\n",
              "0     63    1   3       145   233    1        0      150      0      2.3   \n",
              "1     37    1   2       130   250    0        1      187      0      3.5   \n",
              "2     41    0   1       130   204    0        0      172      0      1.4   \n",
              "3     56    1   1       120   236    0        1      178      0      0.8   \n",
              "4     57    0   0       120   354    0        1      163      1      0.6   \n",
              "..   ...  ...  ..       ...   ...  ...      ...      ...    ...      ...   \n",
              "298   57    0   0       140   241    0        1      123      1      0.2   \n",
              "299   45    1   3       110   264    0        1      132      0      1.2   \n",
              "300   68    1   0       144   193    1        1      141      0      3.4   \n",
              "301   57    1   0       130   131    0        1      115      1      1.2   \n",
              "302   57    0   1       130   236    0        0      174      0      0.0   \n",
              "\n",
              "     slope  ca  thal  target  \n",
              "0        0   0     1       1  \n",
              "1        0   0     2       1  \n",
              "2        2   0     2       1  \n",
              "3        2   0     2       1  \n",
              "4        2   0     2       1  \n",
              "..     ...  ..   ...     ...  \n",
              "298      1   0     3       0  \n",
              "299      1   0     3       0  \n",
              "300      1   2     3       0  \n",
              "301      1   1     3       0  \n",
              "302      1   1     2       0  \n",
              "\n",
              "[303 rows x 14 columns]"
            ]
          },
          "execution_count": 4,
          "metadata": {},
          "output_type": "execute_result"
        }
      ],
      "source": [
        "# Cargar dataframe\n",
        "df = pd.read_csv('heart-disease.csv')\n",
        "df"
      ]
    },
    {
      "cell_type": "code",
      "execution_count": null,
      "metadata": {
        "colab": {
          "base_uri": "https://localhost:8080/"
        },
        "id": "OSv9-0G4NrdX",
        "outputId": "88641c5f-e092-49c8-b172-436d4d1316ac"
      },
      "outputs": [
        {
          "data": {
            "text/plain": [
              "Index(['age', 'sex', 'cp', 'trestbps', 'chol', 'fbs', 'restecg', 'thalach',\n",
              "       'exang', 'oldpeak', 'slope', 'ca', 'thal', 'target'],\n",
              "      dtype='object')"
            ]
          },
          "execution_count": 5,
          "metadata": {},
          "output_type": "execute_result"
        }
      ],
      "source": [
        "df.columns"
      ]
    },
    {
      "cell_type": "markdown",
      "metadata": {
        "id": "zvDeXTgRJD-E"
      },
      "source": [
        "Columns\n",
        "\n",
        "*   age: Age of the patient (in years)\n",
        "*   sex: Sex of the patient (1 = male, 0 = female)\n",
        "*   cp: Chest pain type (1-4) Chest pain type (0 = typical angina, 1 = atypical angina, 2 = non-anginal pain, 3 = asymptomatic)\n",
        "*   trestbps: Resting blood pressure (in mm Hg on admission to the hospital)\n",
        "*   chol: Serum cholesterol in mg/dl\n",
        "*   fbs: Fasting blood sugar > 120 mg/dl (1 = true; 0 = false)\n",
        "*   restecg: Resting electrocardiographic results (0-2)\n",
        "*   thalach: Maximum heart rate achieved\n",
        "*   exang: Exercise-induced angina (1 = yes; 0 = no)\n",
        "*   oldpeak: ST depression induced by exercise relative to rest\n",
        "*   target: If patient have heart-disease (1 = true, 0 = false)\n"
      ]
    },
    {
      "cell_type": "code",
      "execution_count": null,
      "metadata": {
        "colab": {
          "base_uri": "https://localhost:8080/",
          "height": 467
        },
        "id": "x3hBv_xRL2F-",
        "outputId": "83c4224c-4ca6-4463-fee9-78a442d3758a"
      },
      "outputs": [
        {
          "data": {
            "image/png": "[encoded data removed]",
            "text/plain": [
              "<Figure size 640x480 with 1 Axes>"
            ]
          },
          "metadata": {},
          "output_type": "display_data"
        }
      ],
      "source": [
        "import matplotlib.pyplot as plt\n",
        "\n",
        "# Ver la distribución de la columna 'cp'\n",
        "df['target'].value_counts().plot(kind='bar')\n",
        "plt.xlabel('Heart disease')\n",
        "plt.ylabel('Count')\n",
        "plt.title('Distribución de Heart disease')\n",
        "plt.show()\n"
      ]
    },
    {
      "cell_type": "markdown",
      "metadata": {
        "id": "rwkIWU_oMAUu"
      },
      "source": [
        "\n",
        "**Descripción de la selección de datos:**\n",
        "\n",
        "Los datos estan muy bien distribuidos, se pueden encontrar gran cantidad de datos para ambos casos\n"
      ]
    },
    {
      "cell_type": "markdown",
      "metadata": {
        "id": "I_0aPxQPanQX"
      },
      "source": [
        "Procederé a graficar los datos para identificar posibles relaciones entre las características (features) y la variable objetivo (label). Adicionalmente, calcularé la correlación de cada una de las características con la variable objetivo para determinar cuáles son las características más relevantes del conjunto de datos."
      ]
    },
    {
      "cell_type": "code",
      "execution_count": null,
      "metadata": {
        "colab": {
          "base_uri": "https://localhost:8080/",
          "height": 582
        },
        "id": "rv_Kzk8pVnOg",
        "outputId": "0fc6e7b4-d7d2-40ae-e035-90777dd82488"
      },
      "outputs": [
        {
          "data": {
            "image/png": "[encoded data removed]",
            "text/plain": [
              "<Figure size 1200x600 with 1 Axes>"
            ]
          },
          "metadata": {},
          "output_type": "display_data"
        },
        {
          "name": "stdout",
          "output_type": "stream",
          "text": [
            "Correlación: -0.23\n"
          ]
        }
      ],
      "source": [
        "import matplotlib.pyplot as plt\n",
        "\n",
        "# Histogramas para comparar la distribución de la edad\n",
        "plt.figure(figsize=(12, 6))\n",
        "for target_type in df['target'].unique():\n",
        "    plt.hist(df[df['target'] == target_type]['age'], bins=20, alpha=0.5, label=f'Target {target_type}')\n",
        "plt.xlabel('Age')\n",
        "plt.ylabel('Frequency')\n",
        "plt.title('Distribution of Age by Target')\n",
        "plt.legend()\n",
        "plt.show()\n",
        "correlation_age = df[['target', 'age']].corr().iloc[0, 1]\n",
        "print(f'Correlación: {correlation_age:.2f}')"
      ]
    },
    {
      "cell_type": "code",
      "execution_count": null,
      "metadata": {
        "colab": {
          "base_uri": "https://localhost:8080/",
          "height": 577
        },
        "id": "NmU4zMhxY0vu",
        "outputId": "725a6904-45d9-4211-868e-16d725887a76"
      },
      "outputs": [
        {
          "data": {
            "image/png": "[encoded data removed]",
            "text/plain": [
              "<Figure size 1000x600 with 1 Axes>"
            ]
          },
          "metadata": {},
          "output_type": "display_data"
        },
        {
          "name": "stdout",
          "output_type": "stream",
          "text": [
            "Correlación: -0.28\n"
          ]
        }
      ],
      "source": [
        "# Contar la frecuencia de sexo por tipo de dolor en el pecho\n",
        "sex_counts = df.groupby(['target', 'sex']).size().unstack()\n",
        "\n",
        "# Graficar\n",
        "sex_counts.plot(kind='bar', stacked=True, figsize=(10, 6))\n",
        "plt.xlabel('Target')\n",
        "plt.ylabel('Count')\n",
        "plt.title('Distribution of Sex by Target')\n",
        "plt.legend(title='Sex')\n",
        "plt.show()\n",
        "\n",
        "correlation_sex = df[['target', 'sex']].corr().iloc[0, 1]\n",
        "print(f'Correlación: {correlation_sex:.2f}')\n"
      ]
    },
    {
      "cell_type": "code",
      "execution_count": null,
      "metadata": {
        "colab": {
          "base_uri": "https://localhost:8080/",
          "height": 498
        },
        "id": "U2XKR46AZI7T",
        "outputId": "0ad505eb-6f08-4afc-d10f-f7eadb9045b8"
      },
      "outputs": [
        {
          "data": {
            "text/plain": [
              "<Figure size 1200x600 with 0 Axes>"
            ]
          },
          "metadata": {},
          "output_type": "display_data"
        },
        {
          "data": {
            "image/png": "[encoded data removed]",
            "text/plain": [
              "<Figure size 640x480 with 1 Axes>"
            ]
          },
          "metadata": {},
          "output_type": "display_data"
        },
        {
          "name": "stdout",
          "output_type": "stream",
          "text": [
            "Correlación: -0.14\n"
          ]
        }
      ],
      "source": [
        "# Gráfico de caja para presión arterial en reposo\n",
        "plt.figure(figsize=(12, 6))\n",
        "df.boxplot(column='trestbps', by='target')\n",
        "plt.xlabel('Target')\n",
        "plt.ylabel('Resting Blood Pressure (mm Hg)')\n",
        "plt.title('Boxplot of Resting Blood Pressure by Target')\n",
        "plt.suptitle('')\n",
        "plt.show()\n",
        "\n",
        "correlation_trestbps = df[['target', 'trestbps']].corr().iloc[0, 1]\n",
        "print(f'Correlación: {correlation_trestbps:.2f}')"
      ]
    },
    {
      "cell_type": "code",
      "execution_count": null,
      "metadata": {
        "colab": {
          "base_uri": "https://localhost:8080/",
          "height": 498
        },
        "id": "F4rysphVZNrk",
        "outputId": "969d5b90-3590-4f9d-e9dd-0e3ddfd4873d"
      },
      "outputs": [
        {
          "data": {
            "text/plain": [
              "<Figure size 1200x600 with 0 Axes>"
            ]
          },
          "metadata": {},
          "output_type": "display_data"
        },
        {
          "data": {
            "image/png": "[encoded data removed]",
            "text/plain": [
              "<Figure size 640x480 with 1 Axes>"
            ]
          },
          "metadata": {},
          "output_type": "display_data"
        },
        {
          "name": "stdout",
          "output_type": "stream",
          "text": [
            "Correlación: -0.09\n"
          ]
        }
      ],
      "source": [
        "# Gráfico de caja para colesterol\n",
        "plt.figure(figsize=(12, 6))\n",
        "df.boxplot(column='chol', by='target')\n",
        "plt.xlabel('Target')\n",
        "plt.ylabel('Serum Cholesterol (mg/dl)')\n",
        "plt.title('Boxplot of Serum Cholesterol by Target')\n",
        "plt.suptitle('')\n",
        "plt.show()\n",
        "correlation_chol = df[['target', 'chol']].corr().iloc[0, 1]\n",
        "print(f'Correlación: {correlation_chol:.2f}')"
      ]
    },
    {
      "cell_type": "code",
      "execution_count": null,
      "metadata": {
        "colab": {
          "base_uri": "https://localhost:8080/",
          "height": 577
        },
        "id": "Z7GaUJ3DZUPB",
        "outputId": "7913010a-fa0a-4f6b-c37c-76c754e88c8f"
      },
      "outputs": [
        {
          "data": {
            "image/png": "[encoded data removed]",
            "text/plain": [
              "<Figure size 1000x600 with 1 Axes>"
            ]
          },
          "metadata": {},
          "output_type": "display_data"
        },
        {
          "name": "stdout",
          "output_type": "stream",
          "text": [
            "Correlación: -0.03\n"
          ]
        }
      ],
      "source": [
        "# Contar la frecuencia de azúcar en sangre en ayunas por tipo de dolor en el pecho\n",
        "fbs_counts = df.groupby(['target', 'fbs']).size().unstack()\n",
        "\n",
        "#fbs: Fasting blood sugar > 120 mg/dl (1 = true; 0 = false)\n",
        "# Graficar\n",
        "fbs_counts.plot(kind='bar', stacked=True, figsize=(10, 6))\n",
        "plt.xlabel('Target')\n",
        "plt.ylabel('Count')\n",
        "plt.title('Distribution of Fasting Blood Sugar by Target')\n",
        "plt.legend(title='FBS')\n",
        "plt.show()\n",
        "# Calcular la correlación entre cp y fbs\n",
        "correlation_fbs = df[['target', 'fbs']].corr().iloc[0, 1]\n",
        "print(f'Correlación: {correlation_fbs:.2f}')"
      ]
    },
    {
      "cell_type": "code",
      "execution_count": null,
      "metadata": {
        "colab": {
          "base_uri": "https://localhost:8080/",
          "height": 577
        },
        "id": "DoZ6f1IWZhMc",
        "outputId": "e7305e0b-d680-495d-9816-06a8867fe674"
      },
      "outputs": [
        {
          "data": {
            "image/png": "[encoded data removed]",
            "text/plain": [
              "<Figure size 1000x600 with 1 Axes>"
            ]
          },
          "metadata": {},
          "output_type": "display_data"
        },
        {
          "name": "stdout",
          "output_type": "stream",
          "text": [
            "Correlación: 0.14\n"
          ]
        }
      ],
      "source": [
        "# Contar la frecuencia de resultados electrocardiográficos por tipo de dolor en el pecho\n",
        "restecg_counts = df.groupby(['target', 'restecg']).size().unstack()\n",
        "\n",
        "# Graficar\n",
        "restecg_counts.plot(kind='bar', stacked=True, figsize=(10, 6))\n",
        "plt.xlabel('Target')\n",
        "plt.ylabel('Count')\n",
        "plt.title('Distribution of Resting ECG Results by Target')\n",
        "plt.legend(title='Rest ECG')\n",
        "plt.show()\n",
        "correlation_restecg = df[['target', 'restecg']].corr().iloc[0, 1]\n",
        "print(f'Correlación: {correlation_restecg:.2f}')"
      ]
    },
    {
      "cell_type": "code",
      "execution_count": null,
      "metadata": {
        "colab": {
          "base_uri": "https://localhost:8080/",
          "height": 582
        },
        "id": "_NLZ3dNOZm93",
        "outputId": "334ce6b6-4049-450b-eb54-e7d79636db35"
      },
      "outputs": [
        {
          "data": {
            "image/png": "[encoded data removed]",
            "text/plain": [
              "<Figure size 1200x600 with 1 Axes>"
            ]
          },
          "metadata": {},
          "output_type": "display_data"
        },
        {
          "name": "stdout",
          "output_type": "stream",
          "text": [
            "Correlación: 0.42\n"
          ]
        }
      ],
      "source": [
        "# Histogramas para comparar la distribución de la frecuencia cardíaca máxima\n",
        "plt.figure(figsize=(12, 6))\n",
        "for target_type in df['target'].unique():\n",
        "    plt.hist(df[df['target'] == target_type]['thalach'], bins=20, alpha=0.5, label=f'Target {target_type}')\n",
        "plt.xlabel('Maximum Heart Rate Achieved')\n",
        "plt.ylabel('Frequency')\n",
        "plt.title('Distribution of Maximum Heart Rate by Target')\n",
        "plt.legend()\n",
        "plt.show()\n",
        "# Calcular la correlación entre cp y thalach\n",
        "correlation_thalach = df[['target', 'thalach']].corr().iloc[0, 1]\n",
        "print(f'Correlación: {correlation_thalach:.2f}')"
      ]
    },
    {
      "cell_type": "code",
      "execution_count": null,
      "metadata": {
        "colab": {
          "base_uri": "https://localhost:8080/",
          "height": 577
        },
        "id": "b9Hjp-nAaQZp",
        "outputId": "53645e36-e261-47a9-c40e-56f3dfeb476b"
      },
      "outputs": [
        {
          "data": {
            "image/png": "[encoded data removed]",
            "text/plain": [
              "<Figure size 1000x600 with 1 Axes>"
            ]
          },
          "metadata": {},
          "output_type": "display_data"
        },
        {
          "name": "stdout",
          "output_type": "stream",
          "text": [
            "Correlación: -0.44\n"
          ]
        }
      ],
      "source": [
        "# Contar la frecuencia de angina inducida por ejercicio por tipo de dolor en el pecho\n",
        "exang_counts = df.groupby(['target', 'exang']).size().unstack()\n",
        "\n",
        "# Graficar\n",
        "exang_counts.plot(kind='bar', stacked=True, figsize=(10, 6))\n",
        "plt.xlabel('Target')\n",
        "plt.ylabel('Count')\n",
        "plt.title('Distribution of Exercise-Induced Angina by Target')\n",
        "plt.legend(title='Exang')\n",
        "plt.show()\n",
        "\n",
        "# Calcular la correlación entre cp y exang\n",
        "correlation_exang = df[['target', 'exang']].corr().iloc[0, 1]\n",
        "print(f'Correlación: {correlation_exang:.2f}')"
      ]
    },
    {
      "cell_type": "code",
      "execution_count": null,
      "metadata": {
        "colab": {
          "base_uri": "https://localhost:8080/",
          "height": 498
        },
        "id": "NTzR0wYladlE",
        "outputId": "113b67a8-3282-426a-8a16-791580029cbd"
      },
      "outputs": [
        {
          "data": {
            "text/plain": [
              "<Figure size 1200x600 with 0 Axes>"
            ]
          },
          "metadata": {},
          "output_type": "display_data"
        },
        {
          "data": {
            "image/png": "[encoded data removed]",
            "text/plain": [
              "<Figure size 640x480 with 1 Axes>"
            ]
          },
          "metadata": {},
          "output_type": "display_data"
        },
        {
          "name": "stdout",
          "output_type": "stream",
          "text": [
            "Correlación: -0.43\n"
          ]
        }
      ],
      "source": [
        "# Gráfico de caja para depresión del ST inducida por ejercicio\n",
        "plt.figure(figsize=(12, 6))\n",
        "df.boxplot(column='oldpeak', by='target')\n",
        "plt.xlabel('Target')\n",
        "plt.ylabel('ST Depression Induced by Exercise')\n",
        "plt.title('Boxplot of ST Depression by Target')\n",
        "plt.suptitle('')\n",
        "plt.show()\n",
        "\n",
        "# Calcular la correlación entre cp y oldpeak\n",
        "correlation_oldpeak = df[['target', 'oldpeak']].corr().iloc[0, 1]\n",
        "print(f'Correlación: {correlation_oldpeak:.2f}')"
      ]
    },
    {
      "cell_type": "code",
      "execution_count": null,
      "metadata": {
        "colab": {
          "base_uri": "https://localhost:8080/",
          "height": 577
        },
        "id": "1YUpvCcWojYJ",
        "outputId": "e4a13e8f-e323-4558-8153-4d5f2e5712cc"
      },
      "outputs": [
        {
          "data": {
            "image/png": "[encoded data removed]",
            "text/plain": [
              "<Figure size 1000x600 with 1 Axes>"
            ]
          },
          "metadata": {},
          "output_type": "display_data"
        },
        {
          "name": "stdout",
          "output_type": "stream",
          "text": [
            "Correlación: 0.43\n"
          ]
        }
      ],
      "source": [
        "# Contar la frecuencia de pacientes con y sin enfermedad cardíaca por tipo de dolor en el pecho\n",
        "target_counts = df.groupby(['target', 'cp']).size().unstack()\n",
        "\n",
        "# Graficar\n",
        "target_counts.plot(kind='bar', stacked=True, figsize=(10, 6))\n",
        "plt.xlabel('Target')\n",
        "plt.ylabel('Count')\n",
        "plt.title('Distribution of Chest Pain Type by Target')\n",
        "plt.legend(title='Chest Pain')\n",
        "plt.show()\n",
        "\n",
        "# Calcular la correlación entre cp y target\n",
        "correlation_target = df[['target', 'cp']].corr().iloc[0, 1]\n",
        "print(f'Correlación: {correlation_target:.2f}')"
      ]
    },
    {
      "cell_type": "markdown",
      "metadata": {
        "id": "kG_RimFylTgv"
      },
      "source": [
        "Este es el análisis de las features en relación con el label (target)\n",
        "\n",
        "1. **Edad (Age)**: Aunque la correlación es débil, la distribución de la edad no muestra diferencias significativas entre los grupos. Podríamos descartar este feature.\n",
        "\n",
        "2. **Sexo (Sex)**: La correlación es débil, pero la distribución de género podría ser relevante. Mantengamos este feature.\n",
        "\n",
        "3. **Tipo de dolor en el pecho (Chest Pain Type)**: La correlación es moderada y las distribuciones varían entre los grupos. Mantengamos este feature.\n",
        "\n",
        "4. **Presión arterial en reposo (Resting Blood Pressure)**: La correlación es débil y las distribuciones son similares. Podríamos descartar este feature.\n",
        "\n",
        "5. **Colesterol sérico (Serum Cholesterol)**: La correlación es muy débil y las distribuciones son similares. Descartemos este feature.\n",
        "\n",
        "6. **Azúcar en sangre en ayunas (Fasting Blood Sugar)**: La correlación es extremadamente débil y las proporciones son similares. Descartemos este feature.\n",
        "\n",
        "7. **Resultados electrocardiográficos en reposo (Resting ECG Results)**: La correlación es moderada y las distribuciones varían. Mantengamos este feature.\n",
        "\n",
        "8. **Frecuencia cardíaca máxima alcanzada (Maximum Heart Rate Achieved)**: La correlación es moderada y las distribuciones difieren entre los grupos. Mantengamos este feature.\n",
        "\n",
        "9. **Angina inducida por ejercicio (Exercise-Induced Angina)**: La correlación es moderada y las distribuciones varían. Mantengamos este feature.\n",
        "\n",
        "10. **Depresión del segmento ST inducida por ejercicio (ST Depression Induced by Exercise)**: La correlación es moderada y las distribuciones difieren. Mantengamos este feature.\n",
        "\n",
        "En resumen, considero que las features relevantes son las siguientes:\n",
        "- Sexo (Sex)\n",
        "- Tipo de dolor en el pecho (Chest Pain Type)\n",
        "- Resultados electrocardiográficos en reposo (Resting ECG Results)\n",
        "- Frecuencia cardíaca máxima alcanzada (Maximum Heart Rate Achieved)\n",
        "- Angina inducida por ejercicio (Exercise-Induced Angina)\n",
        "- Depresión del segmento ST inducida por ejercicio (ST Depression Induced by Exercise)"
      ]
    },
    {
      "cell_type": "markdown",
      "metadata": {
        "id": "dvmCjlGbJtGG"
      },
      "source": [
        "Parte 2: Dividir los datos en training set, validation set y test set."
      ]
    },
    {
      "cell_type": "code",
      "execution_count": null,
      "metadata": {
        "colab": {
          "base_uri": "https://localhost:8080/",
          "height": 206
        },
        "id": "cnbT2YPj4Gsl",
        "outputId": "d487c510-d20b-492e-f029-1955e6067628"
      },
      "outputs": [
        {
          "data": {
            "application/vnd.google.colaboratory.intrinsic+json": {
              "summary": "{\n  \"name\": \"train_set\",\n  \"rows\": 212,\n  \"fields\": [\n    {\n      \"column\": \"age\",\n      \"properties\": {\n        \"dtype\": \"number\",\n        \"std\": 9,\n        \"min\": 29,\n        \"max\": 77,\n        \"num_unique_values\": 41,\n        \"samples\": [\n          60,\n          51,\n          44\n        ],\n        \"semantic_type\": \"\",\n        \"description\": \"\"\n      }\n    },\n    {\n      \"column\": \"sex\",\n      \"properties\": {\n        \"dtype\": \"number\",\n        \"std\": 0,\n        \"min\": 0,\n        \"max\": 1,\n        \"num_unique_values\": 2,\n        \"samples\": [\n          0,\n          1\n        ],\n        \"semantic_type\": \"\",\n        \"description\": \"\"\n      }\n    },\n    {\n      \"column\": \"cp\",\n      \"properties\": {\n        \"dtype\": \"number\",\n        \"std\": 1,\n        \"min\": 0,\n        \"max\": 3,\n        \"num_unique_values\": 4,\n        \"samples\": [\n          3,\n          1\n        ],\n        \"semantic_type\": \"\",\n        \"description\": \"\"\n      }\n    },\n    {\n      \"column\": \"trestbps\",\n      \"properties\": {\n        \"dtype\": \"number\",\n        \"std\": 17,\n        \"min\": 94,\n        \"max\": 200,\n        \"num_unique_values\": 43,\n        \"samples\": [\n          155,\n          102\n        ],\n        \"semantic_type\": \"\",\n        \"description\": \"\"\n      }\n    },\n    {\n      \"column\": \"chol\",\n      \"properties\": {\n        \"dtype\": \"number\",\n        \"std\": 52,\n        \"min\": 126,\n        \"max\": 564,\n        \"num_unique_values\": 123,\n        \"samples\": [\n          166,\n          318\n        ],\n        \"semantic_type\": \"\",\n        \"description\": \"\"\n      }\n    },\n    {\n      \"column\": \"fbs\",\n      \"properties\": {\n        \"dtype\": \"number\",\n        \"std\": 0,\n        \"min\": 0,\n        \"max\": 1,\n        \"num_unique_values\": 2,\n        \"samples\": [\n          1,\n          0\n        ],\n        \"semantic_type\": \"\",\n        \"description\": \"\"\n      }\n    },\n    {\n      \"column\": \"restecg\",\n      \"properties\": {\n        \"dtype\": \"number\",\n        \"std\": 0,\n        \"min\": 0,\n        \"max\": 2,\n        \"num_unique_values\": 3,\n        \"samples\": [\n          0,\n          1\n        ],\n        \"semantic_type\": \"\",\n        \"description\": \"\"\n      }\n    },\n    {\n      \"column\": \"thalach\",\n      \"properties\": {\n        \"dtype\": \"number\",\n        \"std\": 22,\n        \"min\": 71,\n        \"max\": 202,\n        \"num_unique_values\": 80,\n        \"samples\": [\n          166,\n          112\n        ],\n        \"semantic_type\": \"\",\n        \"description\": \"\"\n      }\n    },\n    {\n      \"column\": \"exang\",\n      \"properties\": {\n        \"dtype\": \"number\",\n        \"std\": 0,\n        \"min\": 0,\n        \"max\": 1,\n        \"num_unique_values\": 2,\n        \"samples\": [\n          0,\n          1\n        ],\n        \"semantic_type\": \"\",\n        \"description\": \"\"\n      }\n    },\n    {\n      \"column\": \"oldpeak\",\n      \"properties\": {\n        \"dtype\": \"number\",\n        \"std\": 1.2141207693637301,\n        \"min\": 0.0,\n        \"max\": 6.2,\n        \"num_unique_values\": 37,\n        \"samples\": [\n          3.0,\n          1.8\n        ],\n        \"semantic_type\": \"\",\n        \"description\": \"\"\n      }\n    },\n    {\n      \"column\": \"slope\",\n      \"properties\": {\n        \"dtype\": \"number\",\n        \"std\": 0,\n        \"min\": 0,\n        \"max\": 2,\n        \"num_unique_values\": 3,\n        \"samples\": [\n          1,\n          2\n        ],\n        \"semantic_type\": \"\",\n        \"description\": \"\"\n      }\n    },\n    {\n      \"column\": \"ca\",\n      \"properties\": {\n        \"dtype\": \"number\",\n        \"std\": 1,\n        \"min\": 0,\n        \"max\": 4,\n        \"num_unique_values\": 5,\n        \"samples\": [\n          0,\n          4\n        ],\n        \"semantic_type\": \"\",\n        \"description\": \"\"\n      }\n    },\n    {\n      \"column\": \"thal\",\n      \"properties\": {\n        \"dtype\": \"number\",\n        \"std\": 0,\n        \"min\": 0,\n        \"max\": 3,\n        \"num_unique_values\": 4,\n        \"samples\": [\n          3,\n          0\n        ],\n        \"semantic_type\": \"\",\n        \"description\": \"\"\n      }\n    },\n    {\n      \"column\": \"target\",\n      \"properties\": {\n        \"dtype\": \"number\",\n        \"std\": 0,\n        \"min\": 0,\n        \"max\": 1,\n        \"num_unique_values\": 2,\n        \"samples\": [\n          1,\n          0\n        ],\n        \"semantic_type\": \"\",\n        \"description\": \"\"\n      }\n    }\n  ]\n}",
              "type": "dataframe",
              "variable_name": "train_set"
            },
            "text/html": [
              "\n",
              "  <div id=\"df-b9ab7e72-8195-410f-a491-f3827382e208\" class=\"colab-df-container\">\n",
              "    <div>\n",
              "<style scoped>\n",
              "    .dataframe tbody tr th:only-of-type {\n",
              "        vertical-align: middle;\n",
              "    }\n",
              "\n",
              "    .dataframe tbody tr th {\n",
              "        vertical-align: top;\n",
              "    }\n",
              "\n",
              "    .dataframe thead th {\n",
              "        text-align: right;\n",
              "    }\n",
              "</style>\n",
              "<table border=\"1\" class=\"dataframe\">\n",
              "  <thead>\n",
              "    <tr style=\"text-align: right;\">\n",
              "      <th></th>\n",
              "      <th>age</th>\n",
              "      <th>sex</th>\n",
              "      <th>cp</th>\n",
              "      <th>trestbps</th>\n",
              "      <th>chol</th>\n",
              "      <th>fbs</th>\n",
              "      <th>restecg</th>\n",
              "      <th>thalach</th>\n",
              "      <th>exang</th>\n",
              "      <th>oldpeak</th>\n",
              "      <th>slope</th>\n",
              "      <th>ca</th>\n",
              "      <th>thal</th>\n",
              "      <th>target</th>\n",
              "    </tr>\n",
              "  </thead>\n",
              "  <tbody>\n",
              "    <tr>\n",
              "      <th>0</th>\n",
              "      <td>57</td>\n",
              "      <td>1</td>\n",
              "      <td>0</td>\n",
              "      <td>150</td>\n",
              "      <td>276</td>\n",
              "      <td>0</td>\n",
              "      <td>0</td>\n",
              "      <td>112</td>\n",
              "      <td>1</td>\n",
              "      <td>0.6</td>\n",
              "      <td>1</td>\n",
              "      <td>1</td>\n",
              "      <td>1</td>\n",
              "      <td>0</td>\n",
              "    </tr>\n",
              "    <tr>\n",
              "      <th>1</th>\n",
              "      <td>59</td>\n",
              "      <td>1</td>\n",
              "      <td>3</td>\n",
              "      <td>170</td>\n",
              "      <td>288</td>\n",
              "      <td>0</td>\n",
              "      <td>0</td>\n",
              "      <td>159</td>\n",
              "      <td>0</td>\n",
              "      <td>0.2</td>\n",
              "      <td>1</td>\n",
              "      <td>0</td>\n",
              "      <td>3</td>\n",
              "      <td>0</td>\n",
              "    </tr>\n",
              "    <tr>\n",
              "      <th>2</th>\n",
              "      <td>57</td>\n",
              "      <td>1</td>\n",
              "      <td>2</td>\n",
              "      <td>150</td>\n",
              "      <td>126</td>\n",
              "      <td>1</td>\n",
              "      <td>1</td>\n",
              "      <td>173</td>\n",
              "      <td>0</td>\n",
              "      <td>0.2</td>\n",
              "      <td>2</td>\n",
              "      <td>1</td>\n",
              "      <td>3</td>\n",
              "      <td>1</td>\n",
              "    </tr>\n",
              "    <tr>\n",
              "      <th>3</th>\n",
              "      <td>56</td>\n",
              "      <td>0</td>\n",
              "      <td>0</td>\n",
              "      <td>134</td>\n",
              "      <td>409</td>\n",
              "      <td>0</td>\n",
              "      <td>0</td>\n",
              "      <td>150</td>\n",
              "      <td>1</td>\n",
              "      <td>1.9</td>\n",
              "      <td>1</td>\n",
              "      <td>2</td>\n",
              "      <td>3</td>\n",
              "      <td>0</td>\n",
              "    </tr>\n",
              "    <tr>\n",
              "      <th>4</th>\n",
              "      <td>71</td>\n",
              "      <td>0</td>\n",
              "      <td>2</td>\n",
              "      <td>110</td>\n",
              "      <td>265</td>\n",
              "      <td>1</td>\n",
              "      <td>0</td>\n",
              "      <td>130</td>\n",
              "      <td>0</td>\n",
              "      <td>0.0</td>\n",
              "      <td>2</td>\n",
              "      <td>1</td>\n",
              "      <td>2</td>\n",
              "      <td>1</td>\n",
              "    </tr>\n",
              "  </tbody>\n",
              "</table>\n",
              "</div>\n",
              "    <div class=\"colab-df-buttons\">\n",
              "\n",
              "  <div class=\"colab-df-container\">\n",
              "    <button class=\"colab-df-convert\" onclick=\"convertToInteractive('df-b9ab7e72-8195-410f-a491-f3827382e208')\"\n",
              "            title=\"Convert this dataframe to an interactive table.\"\n",
              "            style=\"display:none;\">\n",
              "\n",
              "  <svg xmlns=\"http://www.w3.org/2000/svg\" height=\"24px\" viewBox=\"0 -960 960 960\">\n",
              "    <path d=\"M120-120v-720h720v720H120Zm60-500h600v-160H180v160Zm220 220h160v-160H400v160Zm0 220h160v-160H400v160ZM180-400h160v-160H180v160Zm440 0h160v-160H620v160ZM180-180h160v-160H180v160Zm440 0h160v-160H620v160Z\"/>\n",
              "  </svg>\n",
              "    </button>\n",
              "\n",
              "  <style>\n",
              "    .colab-df-container {\n",
              "      display:flex;\n",
              "      gap: 12px;\n",
              "    }\n",
              "\n",
              "    .colab-df-convert {\n",
              "      background-color: #E8F0FE;\n",
              "      border: none;\n",
              "      border-radius: 50%;\n",
              "      cursor: pointer;\n",
              "      display: none;\n",
              "      fill: #1967D2;\n",
              "      height: 32px;\n",
              "      padding: 0 0 0 0;\n",
              "      width: 32px;\n",
              "    }\n",
              "\n",
              "    .colab-df-convert:hover {\n",
              "      background-color: #E2EBFA;\n",
              "      box-shadow: 0px 1px 2px rgba(60, 64, 67, 0.3), 0px 1px 3px 1px rgba(60, 64, 67, 0.15);\n",
              "      fill: #174EA6;\n",
              "    }\n",
              "\n",
              "    .colab-df-buttons div {\n",
              "      margin-bottom: 4px;\n",
              "    }\n",
              "\n",
              "    [theme=dark] .colab-df-convert {\n",
              "      background-color: #3B4455;\n",
              "      fill: #D2E3FC;\n",
              "    }\n",
              "\n",
              "    [theme=dark] .colab-df-convert:hover {\n",
              "      background-color: #434B5C;\n",
              "      box-shadow: 0px 1px 3px 1px rgba(0, 0, 0, 0.15);\n",
              "      filter: drop-shadow(0px 1px 2px rgba(0, 0, 0, 0.3));\n",
              "      fill: #FFFFFF;\n",
              "    }\n",
              "  </style>\n",
              "\n",
              "    <script>\n",
              "      const buttonEl =\n",
              "        document.querySelector('#df-b9ab7e72-8195-410f-a491-f3827382e208 button.colab-df-convert');\n",
              "      buttonEl.style.display =\n",
              "        google.colab.kernel.accessAllowed ? 'block' : 'none';\n",
              "\n",
              "      async function convertToInteractive(key) {\n",
              "        const element = document.querySelector('#df-b9ab7e72-8195-410f-a491-f3827382e208');\n",
              "        const dataTable =\n",
              "          await google.colab.kernel.invokeFunction('convertToInteractive',\n",
              "                                                    [key], {});\n",
              "        if (!dataTable) return;\n",
              "\n",
              "        const docLinkHtml = 'Like what you see? Visit the ' +\n",
              "          '<a target=\"_blank\" href=https://colab.research.google.com/notebooks/data_table.ipynb>data table notebook</a>'\n",
              "          + ' to learn more about interactive tables.';\n",
              "        element.innerHTML = '';\n",
              "        dataTable['output_type'] = 'display_data';\n",
              "        await google.colab.output.renderOutput(dataTable, element);\n",
              "        const docLink = document.createElement('div');\n",
              "        docLink.innerHTML = docLinkHtml;\n",
              "        element.appendChild(docLink);\n",
              "      }\n",
              "    </script>\n",
              "  </div>\n",
              "\n",
              "\n",
              "<div id=\"df-1b8256b8-3f99-4be4-b40d-b23e0887f516\">\n",
              "  <button class=\"colab-df-quickchart\" onclick=\"quickchart('df-1b8256b8-3f99-4be4-b40d-b23e0887f516')\"\n",
              "            title=\"Suggest charts\"\n",
              "            style=\"display:none;\">\n",
              "\n",
              "<svg xmlns=\"http://www.w3.org/2000/svg\" height=\"24px\"viewBox=\"0 0 24 24\"\n",
              "     width=\"24px\">\n",
              "    <g>\n",
              "        <path d=\"M19 3H5c-1.1 0-2 .9-2 2v14c0 1.1.9 2 2 2h14c1.1 0 2-.9 2-2V5c0-1.1-.9-2-2-2zM9 17H7v-7h2v7zm4 0h-2V7h2v10zm4 0h-2v-4h2v4z\"/>\n",
              "    </g>\n",
              "</svg>\n",
              "  </button>\n",
              "\n",
              "<style>\n",
              "  .colab-df-quickchart {\n",
              "      --bg-color: #E8F0FE;\n",
              "      --fill-color: #1967D2;\n",
              "      --hover-bg-color: #E2EBFA;\n",
              "      --hover-fill-color: #174EA6;\n",
              "      --disabled-fill-color: #AAA;\n",
              "      --disabled-bg-color: #DDD;\n",
              "  }\n",
              "\n",
              "  [theme=dark] .colab-df-quickchart {\n",
              "      --bg-color: #3B4455;\n",
              "      --fill-color: #D2E3FC;\n",
              "      --hover-bg-color: #434B5C;\n",
              "      --hover-fill-color: #FFFFFF;\n",
              "      --disabled-bg-color: #3B4455;\n",
              "      --disabled-fill-color: #666;\n",
              "  }\n",
              "\n",
              "  .colab-df-quickchart {\n",
              "    background-color: var(--bg-color);\n",
              "    border: none;\n",
              "    border-radius: 50%;\n",
              "    cursor: pointer;\n",
              "    display: none;\n",
              "    fill: var(--fill-color);\n",
              "    height: 32px;\n",
              "    padding: 0;\n",
              "    width: 32px;\n",
              "  }\n",
              "\n",
              "  .colab-df-quickchart:hover {\n",
              "    background-color: var(--hover-bg-color);\n",
              "    box-shadow: 0 1px 2px rgba(60, 64, 67, 0.3), 0 1px 3px 1px rgba(60, 64, 67, 0.15);\n",
              "    fill: var(--button-hover-fill-color);\n",
              "  }\n",
              "\n",
              "  .colab-df-quickchart-complete:disabled,\n",
              "  .colab-df-quickchart-complete:disabled:hover {\n",
              "    background-color: var(--disabled-bg-color);\n",
              "    fill: var(--disabled-fill-color);\n",
              "    box-shadow: none;\n",
              "  }\n",
              "\n",
              "  .colab-df-spinner {\n",
              "    border: 2px solid var(--fill-color);\n",
              "    border-color: transparent;\n",
              "    border-bottom-color: var(--fill-color);\n",
              "    animation:\n",
              "      spin 1s steps(1) infinite;\n",
              "  }\n",
              "\n",
              "  @keyframes spin {\n",
              "    0% {\n",
              "      border-color: transparent;\n",
              "      border-bottom-color: var(--fill-color);\n",
              "      border-left-color: var(--fill-color);\n",
              "    }\n",
              "    20% {\n",
              "      border-color: transparent;\n",
              "      border-left-color: var(--fill-color);\n",
              "      border-top-color: var(--fill-color);\n",
              "    }\n",
              "    30% {\n",
              "      border-color: transparent;\n",
              "      border-left-color: var(--fill-color);\n",
              "      border-top-color: var(--fill-color);\n",
              "      border-right-color: var(--fill-color);\n",
              "    }\n",
              "    40% {\n",
              "      border-color: transparent;\n",
              "      border-right-color: var(--fill-color);\n",
              "      border-top-color: var(--fill-color);\n",
              "    }\n",
              "    60% {\n",
              "      border-color: transparent;\n",
              "      border-right-color: var(--fill-color);\n",
              "    }\n",
              "    80% {\n",
              "      border-color: transparent;\n",
              "      border-right-color: var(--fill-color);\n",
              "      border-bottom-color: var(--fill-color);\n",
              "    }\n",
              "    90% {\n",
              "      border-color: transparent;\n",
              "      border-bottom-color: var(--fill-color);\n",
              "    }\n",
              "  }\n",
              "</style>\n",
              "\n",
              "  <script>\n",
              "    async function quickchart(key) {\n",
              "      const quickchartButtonEl =\n",
              "        document.querySelector('#' + key + ' button');\n",
              "      quickchartButtonEl.disabled = true;  // To prevent multiple clicks.\n",
              "      quickchartButtonEl.classList.add('colab-df-spinner');\n",
              "      try {\n",
              "        const charts = await google.colab.kernel.invokeFunction(\n",
              "            'suggestCharts', [key], {});\n",
              "      } catch (error) {\n",
              "        console.error('Error during call to suggestCharts:', error);\n",
              "      }\n",
              "      quickchartButtonEl.classList.remove('colab-df-spinner');\n",
              "      quickchartButtonEl.classList.add('colab-df-quickchart-complete');\n",
              "    }\n",
              "    (() => {\n",
              "      let quickchartButtonEl =\n",
              "        document.querySelector('#df-1b8256b8-3f99-4be4-b40d-b23e0887f516 button');\n",
              "      quickchartButtonEl.style.display =\n",
              "        google.colab.kernel.accessAllowed ? 'block' : 'none';\n",
              "    })();\n",
              "  </script>\n",
              "</div>\n",
              "\n",
              "    </div>\n",
              "  </div>\n"
            ],
            "text/plain": [
              "   age  sex  cp  trestbps  chol  fbs  restecg  thalach  exang  oldpeak  slope  \\\n",
              "0   57    1   0       150   276    0        0      112      1      0.6      1   \n",
              "1   59    1   3       170   288    0        0      159      0      0.2      1   \n",
              "2   57    1   2       150   126    1        1      173      0      0.2      2   \n",
              "3   56    0   0       134   409    0        0      150      1      1.9      1   \n",
              "4   71    0   2       110   265    1        0      130      0      0.0      2   \n",
              "\n",
              "   ca  thal  target  \n",
              "0   1     1       0  \n",
              "1   0     3       0  \n",
              "2   1     3       1  \n",
              "3   2     3       0  \n",
              "4   1     2       1  "
            ]
          },
          "execution_count": 19,
          "metadata": {},
          "output_type": "execute_result"
        }
      ],
      "source": [
        "import pandas as pd\n",
        "import numpy as np\n",
        "\n",
        "# Establecemos las proporciones para cada conjunto\n",
        "train_ratio = 0.7\n",
        "validation_ratio = 0.15\n",
        "test_ratio = 0.15\n",
        "\n",
        "# Barajamos el DataFrame para mezclar las filas\n",
        "df_shuffled = df.sample(frac=1, random_state=42).reset_index(drop=True)\n",
        "\n",
        "# Calculamos los tamaños de cada conjunto\n",
        "train_size = int(train_ratio * len(df_shuffled))\n",
        "validation_size = int(validation_ratio * len(df_shuffled))\n",
        "test_size = len(df_shuffled) - train_size - validation_size\n",
        "\n",
        "# Dividimos el DataFrame\n",
        "train_set = df_shuffled.iloc[:train_size]\n",
        "validation_set = df_shuffled.iloc[train_size:train_size + validation_size]\n",
        "test_set = df_shuffled.iloc[train_size + validation_size:]\n",
        "\n",
        "# Ahora los tres conjuntos de datos estan divididos\n",
        "\n",
        "train_set.head()\n"
      ]
    },
    {
      "cell_type": "markdown",
      "metadata": {
        "id": "8oVThVyB3bp7"
      },
      "source": [
        "Ahora dividiré los datos en label y features"
      ]
    },
    {
      "cell_type": "code",
      "execution_count": null,
      "metadata": {
        "id": "OCuEanAhNKBt"
      },
      "outputs": [],
      "source": [
        "X_train = train_set[['age', 'sex', 'cp', 'trestbps', 'restecg', 'thalach',\n",
        "       'exang', 'oldpeak', 'slope', 'ca', 'thal']]\n",
        "y_train = train_set['target']\n",
        "\n",
        "X_val = validation_set[['age', 'sex', 'cp', 'trestbps', 'restecg', 'thalach',\n",
        "       'exang', 'oldpeak', 'slope', 'ca', 'thal']]\n",
        "y_val = validation_set['target']\n",
        "\n",
        "X_test = test_set[['age', 'sex', 'cp', 'trestbps', 'restecg', 'thalach',\n",
        "       'exang', 'oldpeak', 'slope', 'ca', 'thal']]\n",
        "y_test = test_set['target']"
      ]
    },
    {
      "cell_type": "markdown",
      "metadata": {
        "id": "O1L0pJT_HGs2"
      },
      "source": [
        "**Parte 3: Escalar los datos**"
      ]
    },
    {
      "cell_type": "code",
      "execution_count": null,
      "metadata": {
        "id": "K5kUpPR9KeCV"
      },
      "outputs": [],
      "source": [
        "# Escalar los datos\n",
        "scaler = StandardScaler()\n",
        "X_train_scaled = scaler.fit_transform(X_train)\n",
        "X_val_scaled = scaler.transform(X_val)\n",
        "X_test_scaled = scaler.transform(X_test)"
      ]
    },
    {
      "cell_type": "markdown",
      "metadata": {
        "id": "y6VbifR339zT"
      },
      "source": [
        "**Parte 4: Theta**"
      ]
    },
    {
      "cell_type": "code",
      "execution_count": null,
      "metadata": {
        "colab": {
          "base_uri": "https://localhost:8080/"
        },
        "id": "dxLgj0AD4C8T",
        "outputId": "73301b35-49d3-471e-932a-bb49820280dc"
      },
      "outputs": [
        {
          "data": {
            "text/plain": [
              "array([[-0.05341148],\n",
              "       [ 1.53704339],\n",
              "       [ 0.21010841],\n",
              "       [-0.46832746],\n",
              "       [ 1.52767285],\n",
              "       [-0.33596714],\n",
              "       [-0.36040568],\n",
              "       [ 2.59670566],\n",
              "       [ 0.78977744],\n",
              "       [-0.63354672],\n",
              "       [-1.39320302],\n",
              "       [-0.63320876]])"
            ]
          },
          "execution_count": 43,
          "metadata": {},
          "output_type": "execute_result"
        }
      ],
      "source": [
        "# Crear valor theta con valores iniciales\n",
        "theta = np.random.randn(len(X_train_scaled[0]) + 1, 1)\n",
        "theta"
      ]
    },
    {
      "cell_type": "code",
      "execution_count": null,
      "metadata": {
        "colab": {
          "base_uri": "https://localhost:8080/"
        },
        "id": "mY8f2uLK4UE9",
        "outputId": "4e89179e-350f-4a1a-c8ae-57e4e784675f"
      },
      "outputs": [
        {
          "name": "stdout",
          "output_type": "stream",
          "text": [
            "[[ 1.00000000e+00  3.01639277e-01  6.50245178e-01 -9.21029833e-01\n",
            "   1.08999360e+00 -1.03160798e+00 -1.66179963e+00  1.45521375e+00\n",
            "  -4.03449061e-01 -6.20111358e-01  2.39110181e-01 -2.17207788e+00]\n",
            " [ 1.00000000e+00  5.15510604e-01  6.50245178e-01  2.02256300e+00\n",
            "   2.24308065e+00 -1.03160798e+00  3.96138665e-01 -6.87184271e-01\n",
            "  -7.33685358e-01 -6.20111358e-01 -7.17330542e-01  1.12885768e+00]\n",
            " [ 1.00000000e+00  3.01639277e-01  6.50245178e-01  1.04136539e+00\n",
            "   1.08999360e+00  8.70138901e-01  1.00914156e+00 -6.87184271e-01\n",
            "  -7.33685358e-01  9.63787533e-01  2.39110181e-01  1.12885768e+00]\n",
            " [ 1.00000000e+00  1.94703614e-01 -1.53788145e+00 -9.21029833e-01\n",
            "   1.67523967e-01 -1.03160798e+00  2.06537364e-03  1.45521375e+00\n",
            "   6.69818904e-01 -6.20111358e-01  1.19555090e+00  1.12885768e+00]\n",
            " [ 1.00000000e+00  1.79873857e+00 -1.53788145e+00  1.04136539e+00\n",
            "  -1.21618049e+00 -1.03160798e+00 -8.73653051e-01 -6.87184271e-01\n",
            "  -8.98803506e-01  9.63787533e-01  2.39110181e-01 -5.21610099e-01]]\n",
            "(212, 12)\n"
          ]
        }
      ],
      "source": [
        "# Añadir x0 (columna de 1s) en X para multiplicar theta y obtener bias coeficient\n",
        "X_vect = np.c_[np.ones((len(X_train_scaled), 1)), X_train_scaled]\n",
        "print(X_vect[:5])\n",
        "print(X_vect.shape)"
      ]
    },
    {
      "cell_type": "markdown",
      "metadata": {
        "id": "vaAcOeVQH7R4"
      },
      "source": [
        "**Parte 5: Hacer regresión Logistica**"
      ]
    },
    {
      "cell_type": "code",
      "execution_count": null,
      "metadata": {
        "id": "sPNIjmQ8IArq"
      },
      "outputs": [],
      "source": [
        "#Definir la función sigmoide\n",
        "def sigmoid_function(X):\n",
        "  return 1/(1+math.e**(-X))"
      ]
    },
    {
      "cell_type": "code",
      "execution_count": null,
      "metadata": {
        "id": "5b9z4obgIIR3"
      },
      "outputs": [],
      "source": [
        "def log_regression3(X, y, theta, alpha):\n",
        "  y_ = np.reshape(y, (len(y), 1)) # shape (161,1)\n",
        "  N = len(X)\n",
        "  epoch = 0\n",
        "  avg_loss_list = []\n",
        "  prev_avg_loss = float('inf')  # Inicializar prev_avg_loss con un valor alto\n",
        "  avg_loss = float(0)  # Inicializar avg_loss con un valor bajo\n",
        "  while abs(prev_avg_loss - avg_loss) > 0.01  : #Si la diferencia de avg_loss es menor a 0.01 entonces se acaba el bucle\n",
        "    epoch = epoch + 1\n",
        "    sigmoid_x_theta = sigmoid_function(X_vect.dot(theta)) # shape: (161,6).(6,1) = (161,1)\n",
        "    grad = (1/N) * X_vect.T.dot(sigmoid_x_theta - y_) # shapes: (6,161).(161,1) = (6, 1)\n",
        "    theta = theta - (alpha * grad)\n",
        "    hyp = sigmoid_function(X_vect.dot(theta)) # shape (161,6).(6,1) = (161,1)\n",
        "    prev_avg_loss = avg_loss\n",
        "    avg_loss = -np.sum(np.dot(y_.T, np.log(hyp) + np.dot((1-y_).T, np.log(1-hyp)))) / len(hyp)\n",
        "    if epoch % 1000 == 0:\n",
        "      print('epoch: {} | avg_loss: {}'.format(epoch, avg_loss))\n",
        "    avg_loss_list.append(avg_loss)\n",
        "  print('epoch: {} | avg_loss: {}'.format(epoch, avg_loss))\n",
        "  plt.plot(np.arange(1, epoch), avg_loss_list[1:], color='red')\n",
        "  plt.title('Cost function')\n",
        "  plt.xlabel('Epochs')\n",
        "  plt.ylabel('Cost')\n",
        "  plt.show()\n",
        "  return theta\n",
        "\n",
        "\n",
        "#Función similar pero para probar distintos hiperparametros\n",
        "def log_regression_hyper(X, y, theta, alpha,specific_epochs):\n",
        "  y_ = np.reshape(y, (len(y), 1)) # shape (161,1)\n",
        "  N = len(X)\n",
        "  epoch = 0\n",
        "  avg_loss_list = []\n",
        "  prev_avg_loss = float('inf')  # Inicializar prev_avg_loss con un valor alto\n",
        "  avg_loss = float(0)  # Inicializar avg_loss con un valor bajo\n",
        "  # while abs(prev_avg_loss - avg_loss) > 0.001  :\n",
        "  while epoch < specific_epochs  :\n",
        "    epoch = epoch + 1\n",
        "    sigmoid_x_theta = sigmoid_function(X_vect.dot(theta)) # shape: (150,5).(5,1) = (150,1)\n",
        "    grad = (1/N) * X_vect.T.dot(sigmoid_x_theta - y_) # shapes: (6,161).(161,1) = (6, 1)\n",
        "    theta = theta - (alpha * grad)\n",
        "    hyp = sigmoid_function(X_vect.dot(theta)) # shape (161,6).(6,1) = (161,1)\n",
        "    prev_avg_loss = avg_loss\n",
        "    avg_loss = -np.sum(np.dot(y_.T, np.log(hyp) + np.dot((1-y_).T, np.log(1-hyp)))) / len(hyp)\n",
        "    if epoch % 1000 == 0:\n",
        "      print('epoch: {} | avg_loss: {}'.format(epoch, avg_loss))\n",
        "    avg_loss_list.append(avg_loss)\n",
        "  print('epoch: {} | avg_loss: {}'.format(epoch, avg_loss))\n",
        "  plt.plot(np.arange(1, epoch), avg_loss_list[1:], color='red')\n",
        "  plt.title('Cost function')\n",
        "  plt.xlabel('Epochs')\n",
        "  plt.ylabel('Cost')\n",
        "  plt.show()\n",
        "  return theta"
      ]
    },
    {
      "cell_type": "code",
      "execution_count": null,
      "metadata": {
        "colab": {
          "base_uri": "https://localhost:8080/",
          "height": 490
        },
        "id": "GDDzL23jIWJn",
        "outputId": "9c0c4040-78f0-46ed-9890-44d73714dfb9"
      },
      "outputs": [
        {
          "name": "stdout",
          "output_type": "stream",
          "text": [
            "epoch: 38 | avg_loss: 21.45890677187171\n"
          ]
        },
        {
          "data": {
            "image/png": "[encoded data removed]",
            "text/plain": [
              "<Figure size 640x480 with 1 Axes>"
            ]
          },
          "metadata": {},
          "output_type": "display_data"
        }
      ],
      "source": [
        "alpha = 1\n",
        "best_params = log_regression3(X_train_scaled, y_train, theta, alpha)"
      ]
    },
    {
      "cell_type": "code",
      "execution_count": null,
      "metadata": {
        "colab": {
          "base_uri": "https://localhost:8080/"
        },
        "id": "bPlfMdOtUSfu",
        "outputId": "7e90b802-d8fb-4fe0-de86-df11b287aa04"
      },
      "outputs": [
        {
          "name": "stdout",
          "output_type": "stream",
          "text": [
            "[[ 0.11258886]\n",
            " [-0.12118182]\n",
            " [-0.90733193]\n",
            " [ 0.69635426]\n",
            " [-0.31524333]\n",
            " [ 0.23996516]\n",
            " [ 0.58533831]\n",
            " [-0.52574917]\n",
            " [-0.61910558]\n",
            " [ 0.32854628]\n",
            " [-0.63201341]\n",
            " [-0.4840067 ]]\n"
          ]
        }
      ],
      "source": [
        "print(best_params)"
      ]
    },
    {
      "cell_type": "markdown",
      "metadata": {
        "id": "wh1tkPE0Qks5"
      },
      "source": [
        "**Parte 6: Probar datos en el validation set y utilizar diferentes hyperparametros para ver si hay mejorías**"
      ]
    },
    {
      "cell_type": "code",
      "execution_count": null,
      "metadata": {
        "id": "82LlK-z7KO0D"
      },
      "outputs": [],
      "source": [
        "def predict_log_regression(X, theta):\n",
        "    X_to_predict = np.c_[np.ones((len(X), 1)), X] # añadir x0 para bias\n",
        "    # print(X_to_predict)\n",
        "    # calcular la probabilidad con la función sigmoide\n",
        "    pred_probability = sigmoid_function(X_to_predict.dot(theta))\n",
        "    return pred_probability\n"
      ]
    },
    {
      "cell_type": "code",
      "execution_count": null,
      "metadata": {
        "colab": {
          "base_uri": "https://localhost:8080/"
        },
        "id": "gLDxtazQK6Kl",
        "outputId": "a47d883f-3ca1-458f-b474-181525922a55"
      },
      "outputs": [
        {
          "name": "stdout",
          "output_type": "stream",
          "text": [
            "La predicción para el dato de validation es: [[0.29913756]]\n"
          ]
        }
      ],
      "source": [
        "# Hacer las predicciones con el set de validación\n",
        "X_to_predict = [list(X_val_scaled[0])]\n",
        "\n",
        "X_vect_val = [list(X_val_scaled)]\n",
        "\n",
        "X_to_predict = np.c_[np.ones((len(X_to_predict), 1)), X_to_predict] # add x0 for bias\n",
        "\n",
        "pred_probability = sigmoid_function(X_to_predict.dot(best_params))\n",
        "\n",
        "print(\"La predicción para el dato de validation es:\", pred_probability)"
      ]
    },
    {
      "cell_type": "code",
      "execution_count": null,
      "metadata": {
        "colab": {
          "base_uri": "https://localhost:8080/"
        },
        "id": "awDluIO9SCvC",
        "outputId": "d0589eb4-d1bf-410d-85e5-72fd7a39939a"
      },
      "outputs": [
        {
          "name": "stdout",
          "output_type": "stream",
          "text": [
            "Predicted   0   1\n",
            "Actual           \n",
            "0          15   5\n",
            "1           2  23\n"
          ]
        }
      ],
      "source": [
        "y_true = y_val\n",
        "y_pred = np.array([predict_log_regression(x, best_params) for x in X_vect_val])\n",
        "\n",
        "pred_val = (y_pred >= 0.5).astype(int).flatten()\n",
        "\n",
        "\n",
        "conf_matrix = pd.crosstab(pd.Series(y_true.values, name='Actual'), pd.Series(pred_val, name='Predicted'))\n",
        "\n",
        "# # Visualiza la matriz de confusión\n",
        "print(conf_matrix)"
      ]
    },
    {
      "cell_type": "code",
      "execution_count": null,
      "metadata": {
        "colab": {
          "base_uri": "https://localhost:8080/"
        },
        "id": "HfXaatWrm96J",
        "outputId": "fb1899b2-357c-45d1-e14b-114eb3dcf8c2"
      },
      "outputs": [
        {
          "name": "stdout",
          "output_type": "stream",
          "text": [
            "Exactitud: 0.8444444444444444\n"
          ]
        }
      ],
      "source": [
        "accuracy = np.mean(y_true.values == pred_val)\n",
        "print(f'Exactitud: {accuracy}')"
      ]
    },
    {
      "cell_type": "markdown",
      "metadata": {
        "id": "mhrHb_-gJt3Z"
      },
      "source": [
        "Para evaluar si esta es la mejor opción en función de los hiperparámetros, analizaré cómo varía el rendimiento del modelo al modificar diferentes valores de alpha."
      ]
    },
    {
      "cell_type": "markdown",
      "metadata": {
        "id": "9hYWYrW9Ndte"
      },
      "source": [
        "**Alpha 0.1**"
      ]
    },
    {
      "cell_type": "code",
      "execution_count": null,
      "metadata": {
        "colab": {
          "base_uri": "https://localhost:8080/",
          "height": 490
        },
        "id": "LO1UhiAmOJnX",
        "outputId": "cf12425e-174e-4fab-cf33-cdaa0cb8e058"
      },
      "outputs": [
        {
          "name": "stdout",
          "output_type": "stream",
          "text": [
            "epoch: 249 | avg_loss: 22.055582070109477\n"
          ]
        },
        {
          "data": {
            "image/png": "[encoded data removed]",
            "text/plain": [
              "<Figure size 640x480 with 1 Axes>"
            ]
          },
          "metadata": {},
          "output_type": "display_data"
        }
      ],
      "source": [
        "alpha = 0.1\n",
        "best_params01 = log_regression3(X_train_scaled, y_train, theta, alpha)"
      ]
    },
    {
      "cell_type": "code",
      "execution_count": null,
      "metadata": {
        "colab": {
          "base_uri": "https://localhost:8080/"
        },
        "id": "AuhxsqWKOUSO",
        "outputId": "19713816-a6d2-405b-8b74-58839363a251"
      },
      "outputs": [
        {
          "name": "stdout",
          "output_type": "stream",
          "text": [
            "Predicted   0   1\n",
            "Actual           \n",
            "0          16   4\n",
            "1           2  23\n"
          ]
        }
      ],
      "source": [
        "y_pred = np.array([predict_log_regression(x, best_params01) for x in X_vect_val])\n",
        "\n",
        "pred_val = (y_pred >= 0.5).astype(int).flatten()\n",
        "\n",
        "\n",
        "conf_matrix = pd.crosstab(pd.Series(y_true.values, name='Actual'), pd.Series(pred_val, name='Predicted'))\n",
        "\n",
        "# # Visualiza la matriz de confusión\n",
        "print(conf_matrix)"
      ]
    },
    {
      "cell_type": "code",
      "execution_count": null,
      "metadata": {
        "colab": {
          "base_uri": "https://localhost:8080/"
        },
        "id": "lbh6xiZHOkRC",
        "outputId": "e0f186d2-a4d5-4e04-a08c-e97b40c1c39e"
      },
      "outputs": [
        {
          "name": "stdout",
          "output_type": "stream",
          "text": [
            "Exactitud: 0.8666666666666667\n"
          ]
        }
      ],
      "source": [
        "accuracy = np.mean(y_true.values == pred_val)\n",
        "print(f'Exactitud: {accuracy}')"
      ]
    },
    {
      "cell_type": "markdown",
      "metadata": {
        "id": "t8uSLI4dOxDf"
      },
      "source": [
        "**Con Alpha 0.01**"
      ]
    },
    {
      "cell_type": "code",
      "execution_count": null,
      "metadata": {
        "colab": {
          "base_uri": "https://localhost:8080/",
          "height": 855
        },
        "id": "XfIvNw5kO4au",
        "outputId": "22260022-d4ef-470d-f690-d865310ea16f"
      },
      "outputs": [
        {
          "name": "stdout",
          "output_type": "stream",
          "text": [
            "epoch: 1000 | avg_loss: 27.214313226320897\n",
            "epoch: 2000 | avg_loss: 22.75357554993642\n",
            "epoch: 3000 | avg_loss: 21.70824069748181\n",
            "epoch: 4000 | avg_loss: 21.48703352183875\n",
            "epoch: 5000 | avg_loss: 21.478227829186178\n",
            "epoch: 6000 | avg_loss: 21.513280175289285\n",
            "epoch: 7000 | avg_loss: 21.54969381397588\n",
            "epoch: 8000 | avg_loss: 21.578662040915\n",
            "epoch: 9000 | avg_loss: 21.599936563683336\n",
            "epoch: 10000 | avg_loss: 21.615079404315317\n",
            "epoch: 11000 | avg_loss: 21.625710555351265\n",
            "epoch: 12000 | avg_loss: 21.633126368876873\n",
            "epoch: 13000 | avg_loss: 21.638283306796488\n",
            "epoch: 14000 | avg_loss: 21.64186409820102\n",
            "epoch: 15000 | avg_loss: 21.644348778319117\n",
            "epoch: 16000 | avg_loss: 21.646072412427525\n",
            "epoch: 17000 | avg_loss: 21.647268034894676\n",
            "epoch: 18000 | avg_loss: 21.648097432931042\n",
            "epoch: 19000 | avg_loss: 21.648672837550247\n",
            "epoch: 20000 | avg_loss: 21.649072077406295\n",
            "epoch: 20000 | avg_loss: 21.649072077406295\n"
          ]
        },
        {
          "data": {
            "image/png": "[encoded data removed]",
            "text/plain": [
              "<Figure size 640x480 with 1 Axes>"
            ]
          },
          "metadata": {},
          "output_type": "display_data"
        }
      ],
      "source": [
        "alpha = 0.01\n",
        "best_params001 = log_regression_hyper(X_train_scaled, y_train, theta, alpha,20000)"
      ]
    },
    {
      "cell_type": "code",
      "execution_count": null,
      "metadata": {
        "colab": {
          "base_uri": "https://localhost:8080/"
        },
        "id": "LT-8VZ9_PqXv",
        "outputId": "0f2cb822-da41-4ffd-e8a6-1937c374e933"
      },
      "outputs": [
        {
          "name": "stdout",
          "output_type": "stream",
          "text": [
            "Predicted   0   1\n",
            "Actual           \n",
            "0          15   5\n",
            "1           2  23\n"
          ]
        }
      ],
      "source": [
        "y_pred = np.array([predict_log_regression(x, best_params001) for x in X_vect_val])\n",
        "\n",
        "pred_val = (y_pred >= 0.5).astype(int).flatten()\n",
        "\n",
        "\n",
        "conf_matrix = pd.crosstab(pd.Series(y_true.values, name='Actual'), pd.Series(pred_val, name='Predicted'))\n",
        "\n",
        "# # Visualiza la matriz de confusión\n",
        "print(conf_matrix)"
      ]
    },
    {
      "cell_type": "code",
      "execution_count": null,
      "metadata": {
        "colab": {
          "base_uri": "https://localhost:8080/"
        },
        "id": "4bSG-mXyPxw2",
        "outputId": "5f28372d-ff69-42f2-fba7-3fe1579542c4"
      },
      "outputs": [
        {
          "name": "stdout",
          "output_type": "stream",
          "text": [
            "Exactitud: 0.8444444444444444\n"
          ]
        }
      ],
      "source": [
        "accuracy = np.mean(y_true.values == pred_val)\n",
        "print(f'Exactitud: {accuracy}')"
      ]
    },
    {
      "cell_type": "markdown",
      "metadata": {
        "id": "VKQpAfkGO4Dk"
      },
      "source": [
        "Ajuste los valores de alpha para observar si el rendimiento del modelo mejoraba, en los resultados pude darme cuenta que se conseguían mejores resultados con el alpha en 0.1 aunque consumía más epochs.\n",
        "\n",
        "\n"
      ]
    },
    {
      "cell_type": "markdown",
      "metadata": {
        "id": "6mCX-rCfQeXt"
      },
      "source": [
        "**Parte 7, probar modelo en el test set:**"
      ]
    },
    {
      "cell_type": "code",
      "execution_count": null,
      "metadata": {
        "colab": {
          "base_uri": "https://localhost:8080/"
        },
        "id": "ROA89lTIRBtp",
        "outputId": "5a30d2d4-c9df-4497-ec32-fbb1108bc6ea"
      },
      "outputs": [
        {
          "name": "stdout",
          "output_type": "stream",
          "text": [
            "La predicción para el dato de test es: [[0.69205194]]\n"
          ]
        }
      ],
      "source": [
        "# Hacer predicciones en el test set\n",
        "X_to_predict = [list(X_test_scaled[0])]\n",
        "\n",
        "X_vect_test = [list(X_test_scaled)]\n",
        "\n",
        "X_to_predict = np.c_[np.ones((len(X_to_predict), 1)), X_to_predict] # añadir x0 para el bias\n",
        "\n",
        "pred_probability = sigmoid_function(X_to_predict.dot(best_params01))\n",
        "\n",
        "print(\"La predicción para el dato de test es:\", pred_probability)"
      ]
    },
    {
      "cell_type": "code",
      "execution_count": null,
      "metadata": {
        "colab": {
          "base_uri": "https://localhost:8080/"
        },
        "id": "8iovtSXDRwof",
        "outputId": "e323de52-320d-46cf-98ab-6d8a27ab08b8"
      },
      "outputs": [
        {
          "name": "stdout",
          "output_type": "stream",
          "text": [
            "Predicted   0   1\n",
            "Actual           \n",
            "0          17   4\n",
            "1           3  22\n"
          ]
        }
      ],
      "source": [
        "y_true = y_test\n",
        "y_pred = np.array([predict_log_regression(x, best_params01) for x in X_vect_test])\n",
        "\n",
        "pred_val = (y_pred >= 0.5).astype(int).flatten()\n",
        "\n",
        "\n",
        "conf_matrix = pd.crosstab(pd.Series(y_true.values, name='Actual'), pd.Series(pred_val, name='Predicted'))\n",
        "\n",
        "# # Visualiza la matriz de confusión\n",
        "print(conf_matrix)"
      ]
    },
    {
      "cell_type": "code",
      "execution_count": null,
      "metadata": {
        "id": "UjIPXMfYDBk1"
      },
      "outputs": [],
      "source": []
    },
    {
      "cell_type": "code",
      "execution_count": null,
      "metadata": {
        "colab": {
          "base_uri": "https://localhost:8080/"
        },
        "id": "glbuPPDXSi4a",
        "outputId": "52935c8f-019e-4299-9e17-1fa32b2d96cb"
      },
      "outputs": [
        {
          "name": "stdout",
          "output_type": "stream",
          "text": [
            "Exactitud: 0.8478260869565217\n"
          ]
        }
      ],
      "source": [
        "accuracy = np.mean(y_true.values == pred_val)\n",
        "print(f'Exactitud: {accuracy}')"
      ]
    },
    {
      "cell_type": "markdown",
      "metadata": {
        "id": "ZVHj-sEOSrtV"
      },
      "source": [
        "# **Reporte final de lo aprendido**\n",
        "\n",
        "En este trabajo, he desarrollado un modelo de regresión logística para clasificar enfermedades cardíacas. A través del análisis de datos y la selección de características, he aprendido la importancia de utilizar métodos gráficos y de correlación para mejorar la efectividad del modelo.\n",
        "\n",
        "**Lo Aprendido:**\n",
        "\n",
        "1. **Importancia de la Selección de Características:**\n",
        "   - Inicialmente, el modelo fue entrenado utilizando todas las características disponibles. Se observó una discrepancia minima entre la efectividad del modelo cuando se seleccionaban todas las características y cuando solo se seleccionaban las que tenían mayor correlación.\n",
        "   - En este caso no hubo tanta diferencia debido a que el dataset fue creado justamente para predecir las enfermedades en el corazón por lo que todos los features tienen una base médica, aún asi lo pudimos mejorar un poco\n",
        "\n",
        "2. **Uso de Gráficos y Correlación:**\n",
        "   - Para mejorar la precisión del modelo, se llevó a cabo un análisis exhaustivo de las características utilizando gráficos y correlaciones. Este proceso permitió identificar cuáles características eran más relevantes para el modelo.\n",
        "   - Se seleccionaron las características basadas en este análisis, eliminando las menos relevantes y las que presentaban una alta multicolinealidad.\n",
        "\n",
        "3. **Ajuste de hiperparametros:**\n",
        "   - Al comparar la efectividad del modelo con los datos de validación me pude dar cuenta de que con el alpha en 0.1 se conseguía un mejor rendimiento y resultados en el modelo, por lo que también pude aprender que es importante experimentar con los hiperparametros\n",
        "\n",
        "4. **Resultados Comparativos:**\n",
        "   - **Modelo con Todas las Características:**\n",
        "     - Exactitud en el conjunto de validación: 0.826\n",
        "     - Exactitud en el conjunto de prueba: 0.826\n",
        "   - **Modelo con Características Seleccionadas:**\n",
        "     - Exactitud en el conjunto de validación:  0.866\n",
        "     - Exactitud en el conjunto de prueba: 0.847\n",
        "\n",
        "**Importancia del Análisis de Datos:**\n",
        "\n",
        "El análisis de datos, incluyendo la visualización gráfica, la modificación de hiperparametros y la evaluación de correlaciones, juega un papel crucial en la selección de características para modelos predictivos. En mi experiencia, este análisis no solo ayuda a identificar las características más influyentes, sino que también contribuye a mejorar la capacidad de generalización del modelo en datos no vistos. Al seleccionar las características adecuadas, se logra una mejor precisión y estabilidad en la predicción, como se reflejó en los resultados del modelo.\n",
        "\n",
        "Modelo con todas las características: https://colab.research.google.com/drive/144U_YAJOld501C4JEF39MyQkFZZo4e9l?usp=sharing\n",
        "\n"
      ]
    }
  ],
  "metadata": {
    "colab": {
      "provenance": []
    },
    "kernelspec": {
      "display_name": "Python 3",
      "name": "python3"
    },
    "language_info": {
      "name": "python"
    }
  },
  "nbformat": 4,
  "nbformat_minor": 0
}
