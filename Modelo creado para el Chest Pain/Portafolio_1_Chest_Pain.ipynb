{
  "cells": [
    {
      "cell_type": "markdown",
      "metadata": {
        "id": "z9zE-MODH8XP"
      },
      "source": [
        "# **Josué Emmanuel Flores Mendoza A00833132**"
      ]
    },
    {
      "cell_type": "markdown",
      "metadata": {
        "id": "DJqSQCWmIDes"
      },
      "source": [
        " **Parte 1: Cargar datos, verificarlos y analizar features importantes**"
      ]
    },
    {
      "cell_type": "code",
      "execution_count": null,
      "metadata": {
        "colab": {
          "base_uri": "https://localhost:8080/"
        },
        "id": "WvPpbZfpHbTW",
        "outputId": "cf29fc45-a6a2-4d69-8a87-5d3cce5d5021"
      },
      "outputs": [
        {
          "name": "stdout",
          "output_type": "stream",
          "text": [
            "Mounted at /content/gdrive\n",
            "/content\n"
          ]
        }
      ],
      "source": [
        "#from google.colab import drive\n",
        "\n",
        "#drive.mount(\"/content/gdrive\")\n",
        "#!pwd # directorio de trabajo"
      ]
    },
    {
      "cell_type": "code",
      "execution_count": null,
      "metadata": {
        "colab": {
          "base_uri": "https://localhost:8080/"
        },
        "id": "StKlUCmwIZdq",
        "outputId": "1c6b8c02-9815-4463-883b-70a2c907e4d4"
      },
      "outputs": [
        {
          "name": "stdout",
          "output_type": "stream",
          "text": [
            "/content/gdrive/MyDrive/Actividades IA avanzada/Módulo ML/Portafolio 1\n",
            " heart-disease.csv  'Portafolio 1.ipynb'\n"
          ]
        }
      ],
      "source": [
        "#%cd \"/content/gdrive/MyDrive/Actividades IA avanzada/Módulo ML/Portafolio 1\"\n",
        "#!ls # Lista de archivos ubicados en el folder"
      ]
    },
    {
      "cell_type": "code",
      "execution_count": null,
      "metadata": {
        "id": "K4udcXS8IlZg"
      },
      "outputs": [],
      "source": [
        "# Importaciones\n",
        "import pandas as pd\n",
        "import numpy as np\n",
        "import matplotlib.pyplot as plt\n",
        "from sklearn.preprocessing import StandardScaler\n",
        "import math"
      ]
    },
    {
      "cell_type": "code",
      "execution_count": null,
      "metadata": {
        "colab": {
          "base_uri": "https://localhost:8080/",
          "height": 423
        },
        "id": "wH8uVyKhIeOh",
        "outputId": "54c7db86-9643-4b48-955d-ecc21799b686"
      },
      "outputs": [
        {
          "data": {
            "application/vnd.google.colaboratory.intrinsic+json": {
              "summary": "{\n  \"name\": \"df\",\n  \"rows\": 303,\n  \"fields\": [\n    {\n      \"column\": \"age\",\n      \"properties\": {\n        \"dtype\": \"number\",\n        \"std\": 9,\n        \"min\": 29,\n        \"max\": 77,\n        \"num_unique_values\": 41,\n        \"samples\": [\n          46,\n          66,\n          48\n        ],\n        \"semantic_type\": \"\",\n        \"description\": \"\"\n      }\n    },\n    {\n      \"column\": \"sex\",\n      \"properties\": {\n        \"dtype\": \"number\",\n        \"std\": 0,\n        \"min\": 0,\n        \"max\": 1,\n        \"num_unique_values\": 2,\n        \"samples\": [\n          0,\n          1\n        ],\n        \"semantic_type\": \"\",\n        \"description\": \"\"\n      }\n    },\n    {\n      \"column\": \"cp\",\n      \"properties\": {\n        \"dtype\": \"number\",\n        \"std\": 1,\n        \"min\": 0,\n        \"max\": 3,\n        \"num_unique_values\": 4,\n        \"samples\": [\n          2,\n          0\n        ],\n        \"semantic_type\": \"\",\n        \"description\": \"\"\n      }\n    },\n    {\n      \"column\": \"trestbps\",\n      \"properties\": {\n        \"dtype\": \"number\",\n        \"std\": 17,\n        \"min\": 94,\n        \"max\": 200,\n        \"num_unique_values\": 49,\n        \"samples\": [\n          104,\n          123\n        ],\n        \"semantic_type\": \"\",\n        \"description\": \"\"\n      }\n    },\n    {\n      \"column\": \"chol\",\n      \"properties\": {\n        \"dtype\": \"number\",\n        \"std\": 51,\n        \"min\": 126,\n        \"max\": 564,\n        \"num_unique_values\": 152,\n        \"samples\": [\n          277,\n          169\n        ],\n        \"semantic_type\": \"\",\n        \"description\": \"\"\n      }\n    },\n    {\n      \"column\": \"fbs\",\n      \"properties\": {\n        \"dtype\": \"number\",\n        \"std\": 0,\n        \"min\": 0,\n        \"max\": 1,\n        \"num_unique_values\": 2,\n        \"samples\": [\n          0,\n          1\n        ],\n        \"semantic_type\": \"\",\n        \"description\": \"\"\n      }\n    },\n    {\n      \"column\": \"restecg\",\n      \"properties\": {\n        \"dtype\": \"number\",\n        \"std\": 0,\n        \"min\": 0,\n        \"max\": 2,\n        \"num_unique_values\": 3,\n        \"samples\": [\n          0,\n          1\n        ],\n        \"semantic_type\": \"\",\n        \"description\": \"\"\n      }\n    },\n    {\n      \"column\": \"thalach\",\n      \"properties\": {\n        \"dtype\": \"number\",\n        \"std\": 22,\n        \"min\": 71,\n        \"max\": 202,\n        \"num_unique_values\": 91,\n        \"samples\": [\n          159,\n          152\n        ],\n        \"semantic_type\": \"\",\n        \"description\": \"\"\n      }\n    },\n    {\n      \"column\": \"exang\",\n      \"properties\": {\n        \"dtype\": \"number\",\n        \"std\": 0,\n        \"min\": 0,\n        \"max\": 1,\n        \"num_unique_values\": 2,\n        \"samples\": [\n          1,\n          0\n        ],\n        \"semantic_type\": \"\",\n        \"description\": \"\"\n      }\n    },\n    {\n      \"column\": \"oldpeak\",\n      \"properties\": {\n        \"dtype\": \"number\",\n        \"std\": 1.1610750220686348,\n        \"min\": 0.0,\n        \"max\": 6.2,\n        \"num_unique_values\": 40,\n        \"samples\": [\n          1.9,\n          3.0\n        ],\n        \"semantic_type\": \"\",\n        \"description\": \"\"\n      }\n    },\n    {\n      \"column\": \"slope\",\n      \"properties\": {\n        \"dtype\": \"number\",\n        \"std\": 0,\n        \"min\": 0,\n        \"max\": 2,\n        \"num_unique_values\": 3,\n        \"samples\": [\n          0,\n          2\n        ],\n        \"semantic_type\": \"\",\n        \"description\": \"\"\n      }\n    },\n    {\n      \"column\": \"ca\",\n      \"properties\": {\n        \"dtype\": \"number\",\n        \"std\": 1,\n        \"min\": 0,\n        \"max\": 4,\n        \"num_unique_values\": 5,\n        \"samples\": [\n          2,\n          4\n        ],\n        \"semantic_type\": \"\",\n        \"description\": \"\"\n      }\n    },\n    {\n      \"column\": \"thal\",\n      \"properties\": {\n        \"dtype\": \"number\",\n        \"std\": 0,\n        \"min\": 0,\n        \"max\": 3,\n        \"num_unique_values\": 4,\n        \"samples\": [\n          2,\n          0\n        ],\n        \"semantic_type\": \"\",\n        \"description\": \"\"\n      }\n    },\n    {\n      \"column\": \"target\",\n      \"properties\": {\n        \"dtype\": \"number\",\n        \"std\": 0,\n        \"min\": 0,\n        \"max\": 1,\n        \"num_unique_values\": 2,\n        \"samples\": [\n          0,\n          1\n        ],\n        \"semantic_type\": \"\",\n        \"description\": \"\"\n      }\n    }\n  ]\n}",
              "type": "dataframe",
              "variable_name": "df"
            },
            "text/html": [
              "\n",
              "  <div id=\"df-e35d04aa-0168-49db-be58-149dbd538b42\" class=\"colab-df-container\">\n",
              "    <div>\n",
              "<style scoped>\n",
              "    .dataframe tbody tr th:only-of-type {\n",
              "        vertical-align: middle;\n",
              "    }\n",
              "\n",
              "    .dataframe tbody tr th {\n",
              "        vertical-align: top;\n",
              "    }\n",
              "\n",
              "    .dataframe thead th {\n",
              "        text-align: right;\n",
              "    }\n",
              "</style>\n",
              "<table border=\"1\" class=\"dataframe\">\n",
              "  <thead>\n",
              "    <tr style=\"text-align: right;\">\n",
              "      <th></th>\n",
              "      <th>age</th>\n",
              "      <th>sex</th>\n",
              "      <th>cp</th>\n",
              "      <th>trestbps</th>\n",
              "      <th>chol</th>\n",
              "      <th>fbs</th>\n",
              "      <th>restecg</th>\n",
              "      <th>thalach</th>\n",
              "      <th>exang</th>\n",
              "      <th>oldpeak</th>\n",
              "      <th>slope</th>\n",
              "      <th>ca</th>\n",
              "      <th>thal</th>\n",
              "      <th>target</th>\n",
              "    </tr>\n",
              "  </thead>\n",
              "  <tbody>\n",
              "    <tr>\n",
              "      <th>0</th>\n",
              "      <td>63</td>\n",
              "      <td>1</td>\n",
              "      <td>3</td>\n",
              "      <td>145</td>\n",
              "      <td>233</td>\n",
              "      <td>1</td>\n",
              "      <td>0</td>\n",
              "      <td>150</td>\n",
              "      <td>0</td>\n",
              "      <td>2.3</td>\n",
              "      <td>0</td>\n",
              "      <td>0</td>\n",
              "      <td>1</td>\n",
              "      <td>1</td>\n",
              "    </tr>\n",
              "    <tr>\n",
              "      <th>1</th>\n",
              "      <td>37</td>\n",
              "      <td>1</td>\n",
              "      <td>2</td>\n",
              "      <td>130</td>\n",
              "      <td>250</td>\n",
              "      <td>0</td>\n",
              "      <td>1</td>\n",
              "      <td>187</td>\n",
              "      <td>0</td>\n",
              "      <td>3.5</td>\n",
              "      <td>0</td>\n",
              "      <td>0</td>\n",
              "      <td>2</td>\n",
              "      <td>1</td>\n",
              "    </tr>\n",
              "    <tr>\n",
              "      <th>2</th>\n",
              "      <td>41</td>\n",
              "      <td>0</td>\n",
              "      <td>1</td>\n",
              "      <td>130</td>\n",
              "      <td>204</td>\n",
              "      <td>0</td>\n",
              "      <td>0</td>\n",
              "      <td>172</td>\n",
              "      <td>0</td>\n",
              "      <td>1.4</td>\n",
              "      <td>2</td>\n",
              "      <td>0</td>\n",
              "      <td>2</td>\n",
              "      <td>1</td>\n",
              "    </tr>\n",
              "    <tr>\n",
              "      <th>3</th>\n",
              "      <td>56</td>\n",
              "      <td>1</td>\n",
              "      <td>1</td>\n",
              "      <td>120</td>\n",
              "      <td>236</td>\n",
              "      <td>0</td>\n",
              "      <td>1</td>\n",
              "      <td>178</td>\n",
              "      <td>0</td>\n",
              "      <td>0.8</td>\n",
              "      <td>2</td>\n",
              "      <td>0</td>\n",
              "      <td>2</td>\n",
              "      <td>1</td>\n",
              "    </tr>\n",
              "    <tr>\n",
              "      <th>4</th>\n",
              "      <td>57</td>\n",
              "      <td>0</td>\n",
              "      <td>0</td>\n",
              "      <td>120</td>\n",
              "      <td>354</td>\n",
              "      <td>0</td>\n",
              "      <td>1</td>\n",
              "      <td>163</td>\n",
              "      <td>1</td>\n",
              "      <td>0.6</td>\n",
              "      <td>2</td>\n",
              "      <td>0</td>\n",
              "      <td>2</td>\n",
              "      <td>1</td>\n",
              "    </tr>\n",
              "    <tr>\n",
              "      <th>...</th>\n",
              "      <td>...</td>\n",
              "      <td>...</td>\n",
              "      <td>...</td>\n",
              "      <td>...</td>\n",
              "      <td>...</td>\n",
              "      <td>...</td>\n",
              "      <td>...</td>\n",
              "      <td>...</td>\n",
              "      <td>...</td>\n",
              "      <td>...</td>\n",
              "      <td>...</td>\n",
              "      <td>...</td>\n",
              "      <td>...</td>\n",
              "      <td>...</td>\n",
              "    </tr>\n",
              "    <tr>\n",
              "      <th>298</th>\n",
              "      <td>57</td>\n",
              "      <td>0</td>\n",
              "      <td>0</td>\n",
              "      <td>140</td>\n",
              "      <td>241</td>\n",
              "      <td>0</td>\n",
              "      <td>1</td>\n",
              "      <td>123</td>\n",
              "      <td>1</td>\n",
              "      <td>0.2</td>\n",
              "      <td>1</td>\n",
              "      <td>0</td>\n",
              "      <td>3</td>\n",
              "      <td>0</td>\n",
              "    </tr>\n",
              "    <tr>\n",
              "      <th>299</th>\n",
              "      <td>45</td>\n",
              "      <td>1</td>\n",
              "      <td>3</td>\n",
              "      <td>110</td>\n",
              "      <td>264</td>\n",
              "      <td>0</td>\n",
              "      <td>1</td>\n",
              "      <td>132</td>\n",
              "      <td>0</td>\n",
              "      <td>1.2</td>\n",
              "      <td>1</td>\n",
              "      <td>0</td>\n",
              "      <td>3</td>\n",
              "      <td>0</td>\n",
              "    </tr>\n",
              "    <tr>\n",
              "      <th>300</th>\n",
              "      <td>68</td>\n",
              "      <td>1</td>\n",
              "      <td>0</td>\n",
              "      <td>144</td>\n",
              "      <td>193</td>\n",
              "      <td>1</td>\n",
              "      <td>1</td>\n",
              "      <td>141</td>\n",
              "      <td>0</td>\n",
              "      <td>3.4</td>\n",
              "      <td>1</td>\n",
              "      <td>2</td>\n",
              "      <td>3</td>\n",
              "      <td>0</td>\n",
              "    </tr>\n",
              "    <tr>\n",
              "      <th>301</th>\n",
              "      <td>57</td>\n",
              "      <td>1</td>\n",
              "      <td>0</td>\n",
              "      <td>130</td>\n",
              "      <td>131</td>\n",
              "      <td>0</td>\n",
              "      <td>1</td>\n",
              "      <td>115</td>\n",
              "      <td>1</td>\n",
              "      <td>1.2</td>\n",
              "      <td>1</td>\n",
              "      <td>1</td>\n",
              "      <td>3</td>\n",
              "      <td>0</td>\n",
              "    </tr>\n",
              "    <tr>\n",
              "      <th>302</th>\n",
              "      <td>57</td>\n",
              "      <td>0</td>\n",
              "      <td>1</td>\n",
              "      <td>130</td>\n",
              "      <td>236</td>\n",
              "      <td>0</td>\n",
              "      <td>0</td>\n",
              "      <td>174</td>\n",
              "      <td>0</td>\n",
              "      <td>0.0</td>\n",
              "      <td>1</td>\n",
              "      <td>1</td>\n",
              "      <td>2</td>\n",
              "      <td>0</td>\n",
              "    </tr>\n",
              "  </tbody>\n",
              "</table>\n",
              "<p>303 rows × 14 columns</p>\n",
              "</div>\n",
              "    <div class=\"colab-df-buttons\">\n",
              "\n",
              "  <div class=\"colab-df-container\">\n",
              "    <button class=\"colab-df-convert\" onclick=\"convertToInteractive('df-e35d04aa-0168-49db-be58-149dbd538b42')\"\n",
              "            title=\"Convert this dataframe to an interactive table.\"\n",
              "            style=\"display:none;\">\n",
              "\n",
              "  <svg xmlns=\"http://www.w3.org/2000/svg\" height=\"24px\" viewBox=\"0 -960 960 960\">\n",
              "    <path d=\"M120-120v-720h720v720H120Zm60-500h600v-160H180v160Zm220 220h160v-160H400v160Zm0 220h160v-160H400v160ZM180-400h160v-160H180v160Zm440 0h160v-160H620v160ZM180-180h160v-160H180v160Zm440 0h160v-160H620v160Z\"/>\n",
              "  </svg>\n",
              "    </button>\n",
              "\n",
              "  <style>\n",
              "    .colab-df-container {\n",
              "      display:flex;\n",
              "      gap: 12px;\n",
              "    }\n",
              "\n",
              "    .colab-df-convert {\n",
              "      background-color: #E8F0FE;\n",
              "      border: none;\n",
              "      border-radius: 50%;\n",
              "      cursor: pointer;\n",
              "      display: none;\n",
              "      fill: #1967D2;\n",
              "      height: 32px;\n",
              "      padding: 0 0 0 0;\n",
              "      width: 32px;\n",
              "    }\n",
              "\n",
              "    .colab-df-convert:hover {\n",
              "      background-color: #E2EBFA;\n",
              "      box-shadow: 0px 1px 2px rgba(60, 64, 67, 0.3), 0px 1px 3px 1px rgba(60, 64, 67, 0.15);\n",
              "      fill: #174EA6;\n",
              "    }\n",
              "\n",
              "    .colab-df-buttons div {\n",
              "      margin-bottom: 4px;\n",
              "    }\n",
              "\n",
              "    [theme=dark] .colab-df-convert {\n",
              "      background-color: #3B4455;\n",
              "      fill: #D2E3FC;\n",
              "    }\n",
              "\n",
              "    [theme=dark] .colab-df-convert:hover {\n",
              "      background-color: #434B5C;\n",
              "      box-shadow: 0px 1px 3px 1px rgba(0, 0, 0, 0.15);\n",
              "      filter: drop-shadow(0px 1px 2px rgba(0, 0, 0, 0.3));\n",
              "      fill: #FFFFFF;\n",
              "    }\n",
              "  </style>\n",
              "\n",
              "    <script>\n",
              "      const buttonEl =\n",
              "        document.querySelector('#df-e35d04aa-0168-49db-be58-149dbd538b42 button.colab-df-convert');\n",
              "      buttonEl.style.display =\n",
              "        google.colab.kernel.accessAllowed ? 'block' : 'none';\n",
              "\n",
              "      async function convertToInteractive(key) {\n",
              "        const element = document.querySelector('#df-e35d04aa-0168-49db-be58-149dbd538b42');\n",
              "        const dataTable =\n",
              "          await google.colab.kernel.invokeFunction('convertToInteractive',\n",
              "                                                    [key], {});\n",
              "        if (!dataTable) return;\n",
              "\n",
              "        const docLinkHtml = 'Like what you see? Visit the ' +\n",
              "          '<a target=\"_blank\" href=https://colab.research.google.com/notebooks/data_table.ipynb>data table notebook</a>'\n",
              "          + ' to learn more about interactive tables.';\n",
              "        element.innerHTML = '';\n",
              "        dataTable['output_type'] = 'display_data';\n",
              "        await google.colab.output.renderOutput(dataTable, element);\n",
              "        const docLink = document.createElement('div');\n",
              "        docLink.innerHTML = docLinkHtml;\n",
              "        element.appendChild(docLink);\n",
              "      }\n",
              "    </script>\n",
              "  </div>\n",
              "\n",
              "\n",
              "<div id=\"df-fb9242e2-c653-42c7-abab-37b6bf7f2071\">\n",
              "  <button class=\"colab-df-quickchart\" onclick=\"quickchart('df-fb9242e2-c653-42c7-abab-37b6bf7f2071')\"\n",
              "            title=\"Suggest charts\"\n",
              "            style=\"display:none;\">\n",
              "\n",
              "<svg xmlns=\"http://www.w3.org/2000/svg\" height=\"24px\"viewBox=\"0 0 24 24\"\n",
              "     width=\"24px\">\n",
              "    <g>\n",
              "        <path d=\"M19 3H5c-1.1 0-2 .9-2 2v14c0 1.1.9 2 2 2h14c1.1 0 2-.9 2-2V5c0-1.1-.9-2-2-2zM9 17H7v-7h2v7zm4 0h-2V7h2v10zm4 0h-2v-4h2v4z\"/>\n",
              "    </g>\n",
              "</svg>\n",
              "  </button>\n",
              "\n",
              "<style>\n",
              "  .colab-df-quickchart {\n",
              "      --bg-color: #E8F0FE;\n",
              "      --fill-color: #1967D2;\n",
              "      --hover-bg-color: #E2EBFA;\n",
              "      --hover-fill-color: #174EA6;\n",
              "      --disabled-fill-color: #AAA;\n",
              "      --disabled-bg-color: #DDD;\n",
              "  }\n",
              "\n",
              "  [theme=dark] .colab-df-quickchart {\n",
              "      --bg-color: #3B4455;\n",
              "      --fill-color: #D2E3FC;\n",
              "      --hover-bg-color: #434B5C;\n",
              "      --hover-fill-color: #FFFFFF;\n",
              "      --disabled-bg-color: #3B4455;\n",
              "      --disabled-fill-color: #666;\n",
              "  }\n",
              "\n",
              "  .colab-df-quickchart {\n",
              "    background-color: var(--bg-color);\n",
              "    border: none;\n",
              "    border-radius: 50%;\n",
              "    cursor: pointer;\n",
              "    display: none;\n",
              "    fill: var(--fill-color);\n",
              "    height: 32px;\n",
              "    padding: 0;\n",
              "    width: 32px;\n",
              "  }\n",
              "\n",
              "  .colab-df-quickchart:hover {\n",
              "    background-color: var(--hover-bg-color);\n",
              "    box-shadow: 0 1px 2px rgba(60, 64, 67, 0.3), 0 1px 3px 1px rgba(60, 64, 67, 0.15);\n",
              "    fill: var(--button-hover-fill-color);\n",
              "  }\n",
              "\n",
              "  .colab-df-quickchart-complete:disabled,\n",
              "  .colab-df-quickchart-complete:disabled:hover {\n",
              "    background-color: var(--disabled-bg-color);\n",
              "    fill: var(--disabled-fill-color);\n",
              "    box-shadow: none;\n",
              "  }\n",
              "\n",
              "  .colab-df-spinner {\n",
              "    border: 2px solid var(--fill-color);\n",
              "    border-color: transparent;\n",
              "    border-bottom-color: var(--fill-color);\n",
              "    animation:\n",
              "      spin 1s steps(1) infinite;\n",
              "  }\n",
              "\n",
              "  @keyframes spin {\n",
              "    0% {\n",
              "      border-color: transparent;\n",
              "      border-bottom-color: var(--fill-color);\n",
              "      border-left-color: var(--fill-color);\n",
              "    }\n",
              "    20% {\n",
              "      border-color: transparent;\n",
              "      border-left-color: var(--fill-color);\n",
              "      border-top-color: var(--fill-color);\n",
              "    }\n",
              "    30% {\n",
              "      border-color: transparent;\n",
              "      border-left-color: var(--fill-color);\n",
              "      border-top-color: var(--fill-color);\n",
              "      border-right-color: var(--fill-color);\n",
              "    }\n",
              "    40% {\n",
              "      border-color: transparent;\n",
              "      border-right-color: var(--fill-color);\n",
              "      border-top-color: var(--fill-color);\n",
              "    }\n",
              "    60% {\n",
              "      border-color: transparent;\n",
              "      border-right-color: var(--fill-color);\n",
              "    }\n",
              "    80% {\n",
              "      border-color: transparent;\n",
              "      border-right-color: var(--fill-color);\n",
              "      border-bottom-color: var(--fill-color);\n",
              "    }\n",
              "    90% {\n",
              "      border-color: transparent;\n",
              "      border-bottom-color: var(--fill-color);\n",
              "    }\n",
              "  }\n",
              "</style>\n",
              "\n",
              "  <script>\n",
              "    async function quickchart(key) {\n",
              "      const quickchartButtonEl =\n",
              "        document.querySelector('#' + key + ' button');\n",
              "      quickchartButtonEl.disabled = true;  // To prevent multiple clicks.\n",
              "      quickchartButtonEl.classList.add('colab-df-spinner');\n",
              "      try {\n",
              "        const charts = await google.colab.kernel.invokeFunction(\n",
              "            'suggestCharts', [key], {});\n",
              "      } catch (error) {\n",
              "        console.error('Error during call to suggestCharts:', error);\n",
              "      }\n",
              "      quickchartButtonEl.classList.remove('colab-df-spinner');\n",
              "      quickchartButtonEl.classList.add('colab-df-quickchart-complete');\n",
              "    }\n",
              "    (() => {\n",
              "      let quickchartButtonEl =\n",
              "        document.querySelector('#df-fb9242e2-c653-42c7-abab-37b6bf7f2071 button');\n",
              "      quickchartButtonEl.style.display =\n",
              "        google.colab.kernel.accessAllowed ? 'block' : 'none';\n",
              "    })();\n",
              "  </script>\n",
              "</div>\n",
              "\n",
              "  <div id=\"id_8ac04744-728a-4283-8229-a4ebe4e36798\">\n",
              "    <style>\n",
              "      .colab-df-generate {\n",
              "        background-color: #E8F0FE;\n",
              "        border: none;\n",
              "        border-radius: 50%;\n",
              "        cursor: pointer;\n",
              "        display: none;\n",
              "        fill: #1967D2;\n",
              "        height: 32px;\n",
              "        padding: 0 0 0 0;\n",
              "        width: 32px;\n",
              "      }\n",
              "\n",
              "      .colab-df-generate:hover {\n",
              "        background-color: #E2EBFA;\n",
              "        box-shadow: 0px 1px 2px rgba(60, 64, 67, 0.3), 0px 1px 3px 1px rgba(60, 64, 67, 0.15);\n",
              "        fill: #174EA6;\n",
              "      }\n",
              "\n",
              "      [theme=dark] .colab-df-generate {\n",
              "        background-color: #3B4455;\n",
              "        fill: #D2E3FC;\n",
              "      }\n",
              "\n",
              "      [theme=dark] .colab-df-generate:hover {\n",
              "        background-color: #434B5C;\n",
              "        box-shadow: 0px 1px 3px 1px rgba(0, 0, 0, 0.15);\n",
              "        filter: drop-shadow(0px 1px 2px rgba(0, 0, 0, 0.3));\n",
              "        fill: #FFFFFF;\n",
              "      }\n",
              "    </style>\n",
              "    <button class=\"colab-df-generate\" onclick=\"generateWithVariable('df')\"\n",
              "            title=\"Generate code using this dataframe.\"\n",
              "            style=\"display:none;\">\n",
              "\n",
              "  <svg xmlns=\"http://www.w3.org/2000/svg\" height=\"24px\"viewBox=\"0 0 24 24\"\n",
              "       width=\"24px\">\n",
              "    <path d=\"M7,19H8.4L18.45,9,17,7.55,7,17.6ZM5,21V16.75L18.45,3.32a2,2,0,0,1,2.83,0l1.4,1.43a1.91,1.91,0,0,1,.58,1.4,1.91,1.91,0,0,1-.58,1.4L9.25,21ZM18.45,9,17,7.55Zm-12,3A5.31,5.31,0,0,0,4.9,8.1,5.31,5.31,0,0,0,1,6.5,5.31,5.31,0,0,0,4.9,4.9,5.31,5.31,0,0,0,6.5,1,5.31,5.31,0,0,0,8.1,4.9,5.31,5.31,0,0,0,12,6.5,5.46,5.46,0,0,0,6.5,12Z\"/>\n",
              "  </svg>\n",
              "    </button>\n",
              "    <script>\n",
              "      (() => {\n",
              "      const buttonEl =\n",
              "        document.querySelector('#id_8ac04744-728a-4283-8229-a4ebe4e36798 button.colab-df-generate');\n",
              "      buttonEl.style.display =\n",
              "        google.colab.kernel.accessAllowed ? 'block' : 'none';\n",
              "\n",
              "      buttonEl.onclick = () => {\n",
              "        google.colab.notebook.generateWithVariable('df');\n",
              "      }\n",
              "      })();\n",
              "    </script>\n",
              "  </div>\n",
              "\n",
              "    </div>\n",
              "  </div>\n"
            ],
            "text/plain": [
              "     age  sex  cp  trestbps  chol  fbs  restecg  thalach  exang  oldpeak  \\\n",
              "0     63    1   3       145   233    1        0      150      0      2.3   \n",
              "1     37    1   2       130   250    0        1      187      0      3.5   \n",
              "2     41    0   1       130   204    0        0      172      0      1.4   \n",
              "3     56    1   1       120   236    0        1      178      0      0.8   \n",
              "4     57    0   0       120   354    0        1      163      1      0.6   \n",
              "..   ...  ...  ..       ...   ...  ...      ...      ...    ...      ...   \n",
              "298   57    0   0       140   241    0        1      123      1      0.2   \n",
              "299   45    1   3       110   264    0        1      132      0      1.2   \n",
              "300   68    1   0       144   193    1        1      141      0      3.4   \n",
              "301   57    1   0       130   131    0        1      115      1      1.2   \n",
              "302   57    0   1       130   236    0        0      174      0      0.0   \n",
              "\n",
              "     slope  ca  thal  target  \n",
              "0        0   0     1       1  \n",
              "1        0   0     2       1  \n",
              "2        2   0     2       1  \n",
              "3        2   0     2       1  \n",
              "4        2   0     2       1  \n",
              "..     ...  ..   ...     ...  \n",
              "298      1   0     3       0  \n",
              "299      1   0     3       0  \n",
              "300      1   2     3       0  \n",
              "301      1   1     3       0  \n",
              "302      1   1     2       0  \n",
              "\n",
              "[303 rows x 14 columns]"
            ]
          },
          "execution_count": 126,
          "metadata": {},
          "output_type": "execute_result"
        }
      ],
      "source": [
        "# Cargar dataframe\n",
        "df = pd.read_csv('heart-disease.csv')\n",
        "df"
      ]
    },
    {
      "cell_type": "code",
      "execution_count": null,
      "metadata": {
        "colab": {
          "base_uri": "https://localhost:8080/"
        },
        "id": "OSv9-0G4NrdX",
        "outputId": "36dc2690-1a48-4dcd-f53a-e1740a9fd58d"
      },
      "outputs": [
        {
          "data": {
            "text/plain": [
              "Index(['age', 'sex', 'cp', 'trestbps', 'chol', 'fbs', 'restecg', 'thalach',\n",
              "       'exang', 'oldpeak', 'slope', 'ca', 'thal', 'target'],\n",
              "      dtype='object')"
            ]
          },
          "execution_count": 127,
          "metadata": {},
          "output_type": "execute_result"
        }
      ],
      "source": [
        "df.columns"
      ]
    },
    {
      "cell_type": "markdown",
      "metadata": {
        "id": "zvDeXTgRJD-E"
      },
      "source": [
        "Columns\n",
        "\n",
        "*   age: Age of the patient (in years)\n",
        "*   sex: Sex of the patient (1 = male, 0 = female)\n",
        "*   cp: Chest pain type (1-4) Chest pain type (0 = typical angina, 1 = atypical angina, 2 = non-anginal pain, 3 = asymptomatic)\n",
        "*   trestbps: Resting blood pressure (in mm Hg on admission to the hospital)\n",
        "*   chol: Serum cholesterol in mg/dl\n",
        "*   fbs: Fasting blood sugar > 120 mg/dl (1 = true; 0 = false)\n",
        "*   restecg: Resting electrocardiographic results (0-2)\n",
        "*   thalach: Maximum heart rate achieved\n",
        "*   exang: Exercise-induced angina (1 = yes; 0 = no)\n",
        "*   oldpeak: ST depression induced by exercise relative to rest"
      ]
    },
    {
      "cell_type": "code",
      "execution_count": null,
      "metadata": {
        "colab": {
          "base_uri": "https://localhost:8080/",
          "height": 475
        },
        "id": "x3hBv_xRL2F-",
        "outputId": "80d7bbff-05d4-469f-9d5e-e56bdd1eb2a8"
      },
      "outputs": [
        {
          "data": {
            "image/png": "[encoded data removed]",
            "text/plain": [
              "<Figure size 640x480 with 1 Axes>"
            ]
          },
          "metadata": {},
          "output_type": "display_data"
        }
      ],
      "source": [
        "import matplotlib.pyplot as plt\n",
        "\n",
        "# Ver la distribución de la columna 'cp'\n",
        "df['cp'].value_counts().plot(kind='bar')\n",
        "plt.xlabel('Chest Pain Type')\n",
        "plt.ylabel('Count')\n",
        "plt.title('Distributción de Chest Pain Types')\n",
        "plt.show()\n"
      ]
    },
    {
      "cell_type": "markdown",
      "metadata": {
        "id": "rwkIWU_oMAUu"
      },
      "source": [
        "\n",
        "**Descripción de la selección de datos:**\n",
        "\n",
        "Dado que los datos no estaban distribuidos de manera uniforme y algunas categorías tenían muy pocos registros, decidí centrar el análisis en los dos tipos de dolor en el pecho con mayor cantidad de datos: el tipo 0 (angina típica) y el tipo 2 (dolor no anginal). Por lo tanto, eliminé los registros correspondientes a otros tipos de dolor y transformé el tipo 2 en 1, con el fin de facilitar la construcción de un modelo de regresión logística binaria.\n",
        "\n",
        "**Actualización:**\n",
        "\n",
        "Observé que el conjunto de datos contenía una columna adicional denominada \"target\" que no estaba descrita en la fuente original de Kaggle. Esta columna indica si el sujeto presenta una enfermedad cardíaca (1) o no (0). Aunque realizaré un análisis adicional en otro documento centrado en el objetivo principal del conjunto de datos, en este análisis continuaré enfocándome en la predicción del tipo de dolor en el pecho.\n"
      ]
    },
    {
      "cell_type": "code",
      "execution_count": null,
      "metadata": {
        "colab": {
          "base_uri": "https://localhost:8080/",
          "height": 315
        },
        "id": "Ge8McPht2mnB",
        "outputId": "ad98892c-1d15-4dc4-d8aa-9b2f0ee3e4df"
      },
      "outputs": [
        {
          "name": "stderr",
          "output_type": "stream",
          "text": [
            "<ipython-input-129-da9428e0e7e6>:3: SettingWithCopyWarning: \n",
            "A value is trying to be set on a copy of a slice from a DataFrame.\n",
            "Try using .loc[row_indexer,col_indexer] = value instead\n",
            "\n",
            "See the caveats in the documentation: https://pandas.pydata.org/pandas-docs/stable/user_guide/indexing.html#returning-a-view-versus-a-copy\n",
            "  df_filtered['cp'] = df_filtered['cp'].replace(2, 1)\n"
          ]
        },
        {
          "data": {
            "application/vnd.google.colaboratory.intrinsic+json": {
              "summary": "{\n  \"name\": \"df_filtered\",\n  \"rows\": 230,\n  \"fields\": [\n    {\n      \"column\": \"age\",\n      \"properties\": {\n        \"dtype\": \"number\",\n        \"std\": 8,\n        \"min\": 35,\n        \"max\": 77,\n        \"num_unique_values\": 38,\n        \"samples\": [\n          40,\n          77,\n          48\n        ],\n        \"semantic_type\": \"\",\n        \"description\": \"\"\n      }\n    },\n    {\n      \"column\": \"sex\",\n      \"properties\": {\n        \"dtype\": \"number\",\n        \"std\": 0,\n        \"min\": 0,\n        \"max\": 1,\n        \"num_unique_values\": 2,\n        \"samples\": [\n          0,\n          1\n        ],\n        \"semantic_type\": \"\",\n        \"description\": \"\"\n      }\n    },\n    {\n      \"column\": \"cp\",\n      \"properties\": {\n        \"dtype\": \"number\",\n        \"std\": 0,\n        \"min\": 0,\n        \"max\": 1,\n        \"num_unique_values\": 2,\n        \"samples\": [\n          0,\n          1\n        ],\n        \"semantic_type\": \"\",\n        \"description\": \"\"\n      }\n    },\n    {\n      \"column\": \"trestbps\",\n      \"properties\": {\n        \"dtype\": \"number\",\n        \"std\": 17,\n        \"min\": 94,\n        \"max\": 200,\n        \"num_unique_values\": 45,\n        \"samples\": [\n          144,\n          129\n        ],\n        \"semantic_type\": \"\",\n        \"description\": \"\"\n      }\n    },\n    {\n      \"column\": \"chol\",\n      \"properties\": {\n        \"dtype\": \"number\",\n        \"std\": 54,\n        \"min\": 126,\n        \"max\": 564,\n        \"num_unique_values\": 139,\n        \"samples\": [\n          176,\n          215\n        ],\n        \"semantic_type\": \"\",\n        \"description\": \"\"\n      }\n    },\n    {\n      \"column\": \"fbs\",\n      \"properties\": {\n        \"dtype\": \"number\",\n        \"std\": 0,\n        \"min\": 0,\n        \"max\": 1,\n        \"num_unique_values\": 2,\n        \"samples\": [\n          1,\n          0\n        ],\n        \"semantic_type\": \"\",\n        \"description\": \"\"\n      }\n    },\n    {\n      \"column\": \"restecg\",\n      \"properties\": {\n        \"dtype\": \"number\",\n        \"std\": 0,\n        \"min\": 0,\n        \"max\": 2,\n        \"num_unique_values\": 3,\n        \"samples\": [\n          1,\n          0\n        ],\n        \"semantic_type\": \"\",\n        \"description\": \"\"\n      }\n    },\n    {\n      \"column\": \"thalach\",\n      \"properties\": {\n        \"dtype\": \"number\",\n        \"std\": 22,\n        \"min\": 71,\n        \"max\": 194,\n        \"num_unique_values\": 83,\n        \"samples\": [\n          186,\n          187\n        ],\n        \"semantic_type\": \"\",\n        \"description\": \"\"\n      }\n    },\n    {\n      \"column\": \"exang\",\n      \"properties\": {\n        \"dtype\": \"number\",\n        \"std\": 0,\n        \"min\": 0,\n        \"max\": 1,\n        \"num_unique_values\": 2,\n        \"samples\": [\n          1,\n          0\n        ],\n        \"semantic_type\": \"\",\n        \"description\": \"\"\n      }\n    },\n    {\n      \"column\": \"oldpeak\",\n      \"properties\": {\n        \"dtype\": \"number\",\n        \"std\": 1.2067193686630973,\n        \"min\": 0.0,\n        \"max\": 6.2,\n        \"num_unique_values\": 37,\n        \"samples\": [\n          2.0,\n          1.8\n        ],\n        \"semantic_type\": \"\",\n        \"description\": \"\"\n      }\n    },\n    {\n      \"column\": \"slope\",\n      \"properties\": {\n        \"dtype\": \"number\",\n        \"std\": 0,\n        \"min\": 0,\n        \"max\": 2,\n        \"num_unique_values\": 3,\n        \"samples\": [\n          0,\n          2\n        ],\n        \"semantic_type\": \"\",\n        \"description\": \"\"\n      }\n    },\n    {\n      \"column\": \"ca\",\n      \"properties\": {\n        \"dtype\": \"number\",\n        \"std\": 1,\n        \"min\": 0,\n        \"max\": 4,\n        \"num_unique_values\": 5,\n        \"samples\": [\n          1,\n          4\n        ],\n        \"semantic_type\": \"\",\n        \"description\": \"\"\n      }\n    },\n    {\n      \"column\": \"thal\",\n      \"properties\": {\n        \"dtype\": \"number\",\n        \"std\": 0,\n        \"min\": 0,\n        \"max\": 3,\n        \"num_unique_values\": 4,\n        \"samples\": [\n          1,\n          0\n        ],\n        \"semantic_type\": \"\",\n        \"description\": \"\"\n      }\n    },\n    {\n      \"column\": \"target\",\n      \"properties\": {\n        \"dtype\": \"number\",\n        \"std\": 0,\n        \"min\": 0,\n        \"max\": 1,\n        \"num_unique_values\": 2,\n        \"samples\": [\n          0,\n          1\n        ],\n        \"semantic_type\": \"\",\n        \"description\": \"\"\n      }\n    }\n  ]\n}",
              "type": "dataframe",
              "variable_name": "df_filtered"
            },
            "text/html": [
              "\n",
              "  <div id=\"df-ec8aeaa1-86e6-4d36-ab1b-b5daeb3fd21c\" class=\"colab-df-container\">\n",
              "    <div>\n",
              "<style scoped>\n",
              "    .dataframe tbody tr th:only-of-type {\n",
              "        vertical-align: middle;\n",
              "    }\n",
              "\n",
              "    .dataframe tbody tr th {\n",
              "        vertical-align: top;\n",
              "    }\n",
              "\n",
              "    .dataframe thead th {\n",
              "        text-align: right;\n",
              "    }\n",
              "</style>\n",
              "<table border=\"1\" class=\"dataframe\">\n",
              "  <thead>\n",
              "    <tr style=\"text-align: right;\">\n",
              "      <th></th>\n",
              "      <th>age</th>\n",
              "      <th>sex</th>\n",
              "      <th>cp</th>\n",
              "      <th>trestbps</th>\n",
              "      <th>chol</th>\n",
              "      <th>fbs</th>\n",
              "      <th>restecg</th>\n",
              "      <th>thalach</th>\n",
              "      <th>exang</th>\n",
              "      <th>oldpeak</th>\n",
              "      <th>slope</th>\n",
              "      <th>ca</th>\n",
              "      <th>thal</th>\n",
              "      <th>target</th>\n",
              "    </tr>\n",
              "  </thead>\n",
              "  <tbody>\n",
              "    <tr>\n",
              "      <th>1</th>\n",
              "      <td>37</td>\n",
              "      <td>1</td>\n",
              "      <td>1</td>\n",
              "      <td>130</td>\n",
              "      <td>250</td>\n",
              "      <td>0</td>\n",
              "      <td>1</td>\n",
              "      <td>187</td>\n",
              "      <td>0</td>\n",
              "      <td>3.5</td>\n",
              "      <td>0</td>\n",
              "      <td>0</td>\n",
              "      <td>2</td>\n",
              "      <td>1</td>\n",
              "    </tr>\n",
              "    <tr>\n",
              "      <th>4</th>\n",
              "      <td>57</td>\n",
              "      <td>0</td>\n",
              "      <td>0</td>\n",
              "      <td>120</td>\n",
              "      <td>354</td>\n",
              "      <td>0</td>\n",
              "      <td>1</td>\n",
              "      <td>163</td>\n",
              "      <td>1</td>\n",
              "      <td>0.6</td>\n",
              "      <td>2</td>\n",
              "      <td>0</td>\n",
              "      <td>2</td>\n",
              "      <td>1</td>\n",
              "    </tr>\n",
              "    <tr>\n",
              "      <th>5</th>\n",
              "      <td>57</td>\n",
              "      <td>1</td>\n",
              "      <td>0</td>\n",
              "      <td>140</td>\n",
              "      <td>192</td>\n",
              "      <td>0</td>\n",
              "      <td>1</td>\n",
              "      <td>148</td>\n",
              "      <td>0</td>\n",
              "      <td>0.4</td>\n",
              "      <td>1</td>\n",
              "      <td>0</td>\n",
              "      <td>1</td>\n",
              "      <td>1</td>\n",
              "    </tr>\n",
              "    <tr>\n",
              "      <th>8</th>\n",
              "      <td>52</td>\n",
              "      <td>1</td>\n",
              "      <td>1</td>\n",
              "      <td>172</td>\n",
              "      <td>199</td>\n",
              "      <td>1</td>\n",
              "      <td>1</td>\n",
              "      <td>162</td>\n",
              "      <td>0</td>\n",
              "      <td>0.5</td>\n",
              "      <td>2</td>\n",
              "      <td>0</td>\n",
              "      <td>3</td>\n",
              "      <td>1</td>\n",
              "    </tr>\n",
              "    <tr>\n",
              "      <th>9</th>\n",
              "      <td>57</td>\n",
              "      <td>1</td>\n",
              "      <td>1</td>\n",
              "      <td>150</td>\n",
              "      <td>168</td>\n",
              "      <td>0</td>\n",
              "      <td>1</td>\n",
              "      <td>174</td>\n",
              "      <td>0</td>\n",
              "      <td>1.6</td>\n",
              "      <td>2</td>\n",
              "      <td>0</td>\n",
              "      <td>2</td>\n",
              "      <td>1</td>\n",
              "    </tr>\n",
              "  </tbody>\n",
              "</table>\n",
              "</div>\n",
              "    <div class=\"colab-df-buttons\">\n",
              "\n",
              "  <div class=\"colab-df-container\">\n",
              "    <button class=\"colab-df-convert\" onclick=\"convertToInteractive('df-ec8aeaa1-86e6-4d36-ab1b-b5daeb3fd21c')\"\n",
              "            title=\"Convert this dataframe to an interactive table.\"\n",
              "            style=\"display:none;\">\n",
              "\n",
              "  <svg xmlns=\"http://www.w3.org/2000/svg\" height=\"24px\" viewBox=\"0 -960 960 960\">\n",
              "    <path d=\"M120-120v-720h720v720H120Zm60-500h600v-160H180v160Zm220 220h160v-160H400v160Zm0 220h160v-160H400v160ZM180-400h160v-160H180v160Zm440 0h160v-160H620v160ZM180-180h160v-160H180v160Zm440 0h160v-160H620v160Z\"/>\n",
              "  </svg>\n",
              "    </button>\n",
              "\n",
              "  <style>\n",
              "    .colab-df-container {\n",
              "      display:flex;\n",
              "      gap: 12px;\n",
              "    }\n",
              "\n",
              "    .colab-df-convert {\n",
              "      background-color: #E8F0FE;\n",
              "      border: none;\n",
              "      border-radius: 50%;\n",
              "      cursor: pointer;\n",
              "      display: none;\n",
              "      fill: #1967D2;\n",
              "      height: 32px;\n",
              "      padding: 0 0 0 0;\n",
              "      width: 32px;\n",
              "    }\n",
              "\n",
              "    .colab-df-convert:hover {\n",
              "      background-color: #E2EBFA;\n",
              "      box-shadow: 0px 1px 2px rgba(60, 64, 67, 0.3), 0px 1px 3px 1px rgba(60, 64, 67, 0.15);\n",
              "      fill: #174EA6;\n",
              "    }\n",
              "\n",
              "    .colab-df-buttons div {\n",
              "      margin-bottom: 4px;\n",
              "    }\n",
              "\n",
              "    [theme=dark] .colab-df-convert {\n",
              "      background-color: #3B4455;\n",
              "      fill: #D2E3FC;\n",
              "    }\n",
              "\n",
              "    [theme=dark] .colab-df-convert:hover {\n",
              "      background-color: #434B5C;\n",
              "      box-shadow: 0px 1px 3px 1px rgba(0, 0, 0, 0.15);\n",
              "      filter: drop-shadow(0px 1px 2px rgba(0, 0, 0, 0.3));\n",
              "      fill: #FFFFFF;\n",
              "    }\n",
              "  </style>\n",
              "\n",
              "    <script>\n",
              "      const buttonEl =\n",
              "        document.querySelector('#df-ec8aeaa1-86e6-4d36-ab1b-b5daeb3fd21c button.colab-df-convert');\n",
              "      buttonEl.style.display =\n",
              "        google.colab.kernel.accessAllowed ? 'block' : 'none';\n",
              "\n",
              "      async function convertToInteractive(key) {\n",
              "        const element = document.querySelector('#df-ec8aeaa1-86e6-4d36-ab1b-b5daeb3fd21c');\n",
              "        const dataTable =\n",
              "          await google.colab.kernel.invokeFunction('convertToInteractive',\n",
              "                                                    [key], {});\n",
              "        if (!dataTable) return;\n",
              "\n",
              "        const docLinkHtml = 'Like what you see? Visit the ' +\n",
              "          '<a target=\"_blank\" href=https://colab.research.google.com/notebooks/data_table.ipynb>data table notebook</a>'\n",
              "          + ' to learn more about interactive tables.';\n",
              "        element.innerHTML = '';\n",
              "        dataTable['output_type'] = 'display_data';\n",
              "        await google.colab.output.renderOutput(dataTable, element);\n",
              "        const docLink = document.createElement('div');\n",
              "        docLink.innerHTML = docLinkHtml;\n",
              "        element.appendChild(docLink);\n",
              "      }\n",
              "    </script>\n",
              "  </div>\n",
              "\n",
              "\n",
              "<div id=\"df-331e76fc-9050-4d0e-86d0-0cd56e4e663f\">\n",
              "  <button class=\"colab-df-quickchart\" onclick=\"quickchart('df-331e76fc-9050-4d0e-86d0-0cd56e4e663f')\"\n",
              "            title=\"Suggest charts\"\n",
              "            style=\"display:none;\">\n",
              "\n",
              "<svg xmlns=\"http://www.w3.org/2000/svg\" height=\"24px\"viewBox=\"0 0 24 24\"\n",
              "     width=\"24px\">\n",
              "    <g>\n",
              "        <path d=\"M19 3H5c-1.1 0-2 .9-2 2v14c0 1.1.9 2 2 2h14c1.1 0 2-.9 2-2V5c0-1.1-.9-2-2-2zM9 17H7v-7h2v7zm4 0h-2V7h2v10zm4 0h-2v-4h2v4z\"/>\n",
              "    </g>\n",
              "</svg>\n",
              "  </button>\n",
              "\n",
              "<style>\n",
              "  .colab-df-quickchart {\n",
              "      --bg-color: #E8F0FE;\n",
              "      --fill-color: #1967D2;\n",
              "      --hover-bg-color: #E2EBFA;\n",
              "      --hover-fill-color: #174EA6;\n",
              "      --disabled-fill-color: #AAA;\n",
              "      --disabled-bg-color: #DDD;\n",
              "  }\n",
              "\n",
              "  [theme=dark] .colab-df-quickchart {\n",
              "      --bg-color: #3B4455;\n",
              "      --fill-color: #D2E3FC;\n",
              "      --hover-bg-color: #434B5C;\n",
              "      --hover-fill-color: #FFFFFF;\n",
              "      --disabled-bg-color: #3B4455;\n",
              "      --disabled-fill-color: #666;\n",
              "  }\n",
              "\n",
              "  .colab-df-quickchart {\n",
              "    background-color: var(--bg-color);\n",
              "    border: none;\n",
              "    border-radius: 50%;\n",
              "    cursor: pointer;\n",
              "    display: none;\n",
              "    fill: var(--fill-color);\n",
              "    height: 32px;\n",
              "    padding: 0;\n",
              "    width: 32px;\n",
              "  }\n",
              "\n",
              "  .colab-df-quickchart:hover {\n",
              "    background-color: var(--hover-bg-color);\n",
              "    box-shadow: 0 1px 2px rgba(60, 64, 67, 0.3), 0 1px 3px 1px rgba(60, 64, 67, 0.15);\n",
              "    fill: var(--button-hover-fill-color);\n",
              "  }\n",
              "\n",
              "  .colab-df-quickchart-complete:disabled,\n",
              "  .colab-df-quickchart-complete:disabled:hover {\n",
              "    background-color: var(--disabled-bg-color);\n",
              "    fill: var(--disabled-fill-color);\n",
              "    box-shadow: none;\n",
              "  }\n",
              "\n",
              "  .colab-df-spinner {\n",
              "    border: 2px solid var(--fill-color);\n",
              "    border-color: transparent;\n",
              "    border-bottom-color: var(--fill-color);\n",
              "    animation:\n",
              "      spin 1s steps(1) infinite;\n",
              "  }\n",
              "\n",
              "  @keyframes spin {\n",
              "    0% {\n",
              "      border-color: transparent;\n",
              "      border-bottom-color: var(--fill-color);\n",
              "      border-left-color: var(--fill-color);\n",
              "    }\n",
              "    20% {\n",
              "      border-color: transparent;\n",
              "      border-left-color: var(--fill-color);\n",
              "      border-top-color: var(--fill-color);\n",
              "    }\n",
              "    30% {\n",
              "      border-color: transparent;\n",
              "      border-left-color: var(--fill-color);\n",
              "      border-top-color: var(--fill-color);\n",
              "      border-right-color: var(--fill-color);\n",
              "    }\n",
              "    40% {\n",
              "      border-color: transparent;\n",
              "      border-right-color: var(--fill-color);\n",
              "      border-top-color: var(--fill-color);\n",
              "    }\n",
              "    60% {\n",
              "      border-color: transparent;\n",
              "      border-right-color: var(--fill-color);\n",
              "    }\n",
              "    80% {\n",
              "      border-color: transparent;\n",
              "      border-right-color: var(--fill-color);\n",
              "      border-bottom-color: var(--fill-color);\n",
              "    }\n",
              "    90% {\n",
              "      border-color: transparent;\n",
              "      border-bottom-color: var(--fill-color);\n",
              "    }\n",
              "  }\n",
              "</style>\n",
              "\n",
              "  <script>\n",
              "    async function quickchart(key) {\n",
              "      const quickchartButtonEl =\n",
              "        document.querySelector('#' + key + ' button');\n",
              "      quickchartButtonEl.disabled = true;  // To prevent multiple clicks.\n",
              "      quickchartButtonEl.classList.add('colab-df-spinner');\n",
              "      try {\n",
              "        const charts = await google.colab.kernel.invokeFunction(\n",
              "            'suggestCharts', [key], {});\n",
              "      } catch (error) {\n",
              "        console.error('Error during call to suggestCharts:', error);\n",
              "      }\n",
              "      quickchartButtonEl.classList.remove('colab-df-spinner');\n",
              "      quickchartButtonEl.classList.add('colab-df-quickchart-complete');\n",
              "    }\n",
              "    (() => {\n",
              "      let quickchartButtonEl =\n",
              "        document.querySelector('#df-331e76fc-9050-4d0e-86d0-0cd56e4e663f button');\n",
              "      quickchartButtonEl.style.display =\n",
              "        google.colab.kernel.accessAllowed ? 'block' : 'none';\n",
              "    })();\n",
              "  </script>\n",
              "</div>\n",
              "\n",
              "    </div>\n",
              "  </div>\n"
            ],
            "text/plain": [
              "   age  sex  cp  trestbps  chol  fbs  restecg  thalach  exang  oldpeak  slope  \\\n",
              "1   37    1   1       130   250    0        1      187      0      3.5      0   \n",
              "4   57    0   0       120   354    0        1      163      1      0.6      2   \n",
              "5   57    1   0       140   192    0        1      148      0      0.4      1   \n",
              "8   52    1   1       172   199    1        1      162      0      0.5      2   \n",
              "9   57    1   1       150   168    0        1      174      0      1.6      2   \n",
              "\n",
              "   ca  thal  target  \n",
              "1   0     2       1  \n",
              "4   0     2       1  \n",
              "5   0     1       1  \n",
              "8   0     3       1  \n",
              "9   0     2       1  "
            ]
          },
          "execution_count": 129,
          "metadata": {},
          "output_type": "execute_result"
        }
      ],
      "source": [
        "df_filtered = df[(df['cp'] == 0) | (df['cp'] == 2)]\n",
        "# Convertimos los valores 2 en 1 en la columna 'cp'\n",
        "df_filtered['cp'] = df_filtered['cp'].replace(2, 1)\n",
        "\n",
        "df_filtered.head()"
      ]
    },
    {
      "cell_type": "markdown",
      "metadata": {
        "id": "I_0aPxQPanQX"
      },
      "source": [
        "Procederé a graficar los datos para identificar posibles relaciones entre las características (features) y la variable objetivo (label). Adicionalmente, calcularé la correlación de cada una de las características con la variable objetivo para determinar cuáles son las características más relevantes del conjunto de datos."
      ]
    },
    {
      "cell_type": "code",
      "execution_count": null,
      "metadata": {
        "colab": {
          "base_uri": "https://localhost:8080/",
          "height": 591
        },
        "id": "rv_Kzk8pVnOg",
        "outputId": "295faac1-a6b5-4853-9496-f27c1ce89be2"
      },
      "outputs": [
        {
          "data": {
            "image/png": "[encoded data removed]",
            "text/plain": [
              "<Figure size 1200x600 with 1 Axes>"
            ]
          },
          "metadata": {},
          "output_type": "display_data"
        },
        {
          "name": "stdout",
          "output_type": "stream",
          "text": [
            "Correlación: -0.12\n"
          ]
        }
      ],
      "source": [
        "import matplotlib.pyplot as plt\n",
        "\n",
        "# Histogramas para comparar la distribución de la edad\n",
        "plt.figure(figsize=(12, 6))\n",
        "for cp_type in df_filtered['cp'].unique():\n",
        "    plt.hist(df_filtered[df_filtered['cp'] == cp_type]['age'], bins=20, alpha=0.5, label=f'CP {cp_type}')\n",
        "plt.xlabel('Age')\n",
        "plt.ylabel('Frequency')\n",
        "plt.title('Distribution of Age by Chest Pain Type')\n",
        "plt.legend()\n",
        "plt.show()\n",
        "correlation_age = df_filtered[['cp', 'age']].corr().iloc[0, 1]\n",
        "print(f'Correlación: {correlation_age:.2f}')"
      ]
    },
    {
      "cell_type": "code",
      "execution_count": null,
      "metadata": {
        "colab": {
          "base_uri": "https://localhost:8080/",
          "height": 585
        },
        "id": "NmU4zMhxY0vu",
        "outputId": "6187f4b0-3d4a-49ca-b9df-d301e45c5a4d"
      },
      "outputs": [
        {
          "data": {
            "image/png": "[encoded data removed]",
            "text/plain": [
              "<Figure size 1000x600 with 1 Axes>"
            ]
          },
          "metadata": {},
          "output_type": "display_data"
        },
        {
          "name": "stdout",
          "output_type": "stream",
          "text": [
            "Correlación: -0.13\n"
          ]
        }
      ],
      "source": [
        "# Contar la frecuencia de sexo por tipo de dolor en el pecho\n",
        "sex_counts = df_filtered.groupby(['cp', 'sex']).size().unstack()\n",
        "\n",
        "# Graficar\n",
        "sex_counts.plot(kind='bar', stacked=True, figsize=(10, 6))\n",
        "plt.xlabel('Chest Pain Type')\n",
        "plt.ylabel('Count')\n",
        "plt.title('Distribution of Sex by Chest Pain Type')\n",
        "plt.legend(title='Sex')\n",
        "plt.show()\n",
        "\n",
        "correlation_sex = df_filtered[['cp', 'sex']].corr().iloc[0, 1]\n",
        "print(f'Correlación: {correlation_sex:.2f}')\n"
      ]
    },
    {
      "cell_type": "code",
      "execution_count": null,
      "metadata": {
        "colab": {
          "base_uri": "https://localhost:8080/",
          "height": 507
        },
        "id": "U2XKR46AZI7T",
        "outputId": "c04e5946-cd94-425f-c6c4-d33b7645934e"
      },
      "outputs": [
        {
          "data": {
            "text/plain": [
              "<Figure size 1200x600 with 0 Axes>"
            ]
          },
          "metadata": {},
          "output_type": "display_data"
        },
        {
          "data": {
            "image/png": "[encoded data removed]",
            "text/plain": [
              "<Figure size 640x480 with 1 Axes>"
            ]
          },
          "metadata": {},
          "output_type": "display_data"
        },
        {
          "name": "stdout",
          "output_type": "stream",
          "text": [
            "Correlación: -0.05\n"
          ]
        }
      ],
      "source": [
        "# Gráfico de caja para presión arterial en reposo\n",
        "plt.figure(figsize=(12, 6))\n",
        "df_filtered.boxplot(column='trestbps', by='cp')\n",
        "plt.xlabel('Chest Pain Type')\n",
        "plt.ylabel('Resting Blood Pressure (mm Hg)')\n",
        "plt.title('Boxplot of Resting Blood Pressure by Chest Pain Type')\n",
        "plt.suptitle('')\n",
        "plt.show()\n",
        "\n",
        "correlation_trestbps = df_filtered[['cp', 'trestbps']].corr().iloc[0, 1]\n",
        "print(f'Correlación: {correlation_trestbps:.2f}')"
      ]
    },
    {
      "cell_type": "code",
      "execution_count": null,
      "metadata": {
        "colab": {
          "base_uri": "https://localhost:8080/",
          "height": 507
        },
        "id": "F4rysphVZNrk",
        "outputId": "7808d09d-98c1-4f8b-a758-fa8e02b2e116"
      },
      "outputs": [
        {
          "data": {
            "text/plain": [
              "<Figure size 1200x600 with 0 Axes>"
            ]
          },
          "metadata": {},
          "output_type": "display_data"
        },
        {
          "data": {
            "image/png": "[encoded data removed]",
            "text/plain": [
              "<Figure size 640x480 with 1 Axes>"
            ]
          },
          "metadata": {},
          "output_type": "display_data"
        },
        {
          "name": "stdout",
          "output_type": "stream",
          "text": [
            "Correlación: -0.06\n"
          ]
        }
      ],
      "source": [
        "# Gráfico de caja para colesterol\n",
        "plt.figure(figsize=(12, 6))\n",
        "df_filtered.boxplot(column='chol', by='cp')\n",
        "plt.xlabel('Chest Pain Type')\n",
        "plt.ylabel('Serum Cholesterol (mg/dl)')\n",
        "plt.title('Boxplot of Serum Cholesterol by Chest Pain Type')\n",
        "plt.suptitle('')\n",
        "plt.show()\n",
        "correlation_chol = df_filtered[['cp', 'chol']].corr().iloc[0, 1]\n",
        "print(f'Correlación: {correlation_chol:.2f}')"
      ]
    },
    {
      "cell_type": "code",
      "execution_count": null,
      "metadata": {
        "colab": {
          "base_uri": "https://localhost:8080/",
          "height": 585
        },
        "id": "Z7GaUJ3DZUPB",
        "outputId": "90332441-9555-4fb8-9d7e-e723dc67d3eb"
      },
      "outputs": [
        {
          "data": {
            "image/png": "[encoded data removed]",
            "text/plain": [
              "<Figure size 1000x600 with 1 Axes>"
            ]
          },
          "metadata": {},
          "output_type": "display_data"
        },
        {
          "name": "stdout",
          "output_type": "stream",
          "text": [
            "Correlación: 0.09\n"
          ]
        }
      ],
      "source": [
        "# Contar la frecuencia de azúcar en sangre en ayunas por tipo de dolor en el pecho\n",
        "fbs_counts = df_filtered.groupby(['cp', 'fbs']).size().unstack()\n",
        "\n",
        "#fbs: Fasting blood sugar > 120 mg/dl (1 = true; 0 = false)\n",
        "# Graficar\n",
        "fbs_counts.plot(kind='bar', stacked=True, figsize=(10, 6))\n",
        "plt.xlabel('Chest Pain Type')\n",
        "plt.ylabel('Count')\n",
        "plt.title('Distribution of Fasting Blood Sugar by Chest Pain Type')\n",
        "plt.legend(title='FBS')\n",
        "plt.show()\n",
        "# Calcular la correlación entre cp y fbs\n",
        "correlation_fbs = df_filtered[['cp', 'fbs']].corr().iloc[0, 1]\n",
        "print(f'Correlación: {correlation_fbs:.2f}')"
      ]
    },
    {
      "cell_type": "code",
      "execution_count": null,
      "metadata": {
        "colab": {
          "base_uri": "https://localhost:8080/",
          "height": 585
        },
        "id": "DoZ6f1IWZhMc",
        "outputId": "b8e554a0-2c58-4da1-ddbf-ae38b2aa0df1"
      },
      "outputs": [
        {
          "data": {
            "image/png": "[encoded data removed]",
            "text/plain": [
              "<Figure size 1000x600 with 1 Axes>"
            ]
          },
          "metadata": {},
          "output_type": "display_data"
        },
        {
          "name": "stdout",
          "output_type": "stream",
          "text": [
            "Correlación: 0.11\n"
          ]
        }
      ],
      "source": [
        "# Contar la frecuencia de resultados electrocardiográficos por tipo de dolor en el pecho\n",
        "restecg_counts = df_filtered.groupby(['cp', 'restecg']).size().unstack()\n",
        "\n",
        "# Graficar\n",
        "restecg_counts.plot(kind='bar', stacked=True, figsize=(10, 6))\n",
        "plt.xlabel('Chest Pain Type')\n",
        "plt.ylabel('Count')\n",
        "plt.title('Distribution of Resting ECG Results by Chest Pain Type')\n",
        "plt.legend(title='Rest ECG')\n",
        "plt.show()\n",
        "correlation_restecg = df_filtered[['cp', 'restecg']].corr().iloc[0, 1]\n",
        "print(f'Correlación: {correlation_restecg:.2f}')"
      ]
    },
    {
      "cell_type": "code",
      "execution_count": null,
      "metadata": {
        "colab": {
          "base_uri": "https://localhost:8080/",
          "height": 591
        },
        "id": "_NLZ3dNOZm93",
        "outputId": "a3c88ca3-6d1f-4d7f-c069-7b409c392e14"
      },
      "outputs": [
        {
          "data": {
            "image/png": "[encoded data removed]",
            "text/plain": [
              "<Figure size 1200x600 with 1 Axes>"
            ]
          },
          "metadata": {},
          "output_type": "display_data"
        },
        {
          "name": "stdout",
          "output_type": "stream",
          "text": [
            "Correlación: 0.32\n"
          ]
        }
      ],
      "source": [
        "# Histogramas para comparar la distribución de la frecuencia cardíaca máxima\n",
        "plt.figure(figsize=(12, 6))\n",
        "for cp_type in df_filtered['cp'].unique():\n",
        "    plt.hist(df_filtered[df_filtered['cp'] == cp_type]['thalach'], bins=20, alpha=0.5, label=f'CP {cp_type}')\n",
        "plt.xlabel('Maximum Heart Rate Achieved')\n",
        "plt.ylabel('Frequency')\n",
        "plt.title('Distribution of Maximum Heart Rate by Chest Pain Type')\n",
        "plt.legend()\n",
        "plt.show()\n",
        "# Calcular la correlación entre cp y thalach\n",
        "correlation_thalach = df_filtered[['cp', 'thalach']].corr().iloc[0, 1]\n",
        "print(f'Correlación: {correlation_thalach:.2f}')"
      ]
    },
    {
      "cell_type": "code",
      "execution_count": null,
      "metadata": {
        "colab": {
          "base_uri": "https://localhost:8080/",
          "height": 585
        },
        "id": "b9Hjp-nAaQZp",
        "outputId": "e7affba0-a92b-4f40-a936-6998aa278227"
      },
      "outputs": [
        {
          "data": {
            "image/png": "[encoded data removed]",
            "text/plain": [
              "<Figure size 1000x600 with 1 Axes>"
            ]
          },
          "metadata": {},
          "output_type": "display_data"
        },
        {
          "name": "stdout",
          "output_type": "stream",
          "text": [
            "Correlación: -0.43\n"
          ]
        }
      ],
      "source": [
        "# Contar la frecuencia de angina inducida por ejercicio por tipo de dolor en el pecho\n",
        "exang_counts = df_filtered.groupby(['cp', 'exang']).size().unstack()\n",
        "\n",
        "# Graficar\n",
        "exang_counts.plot(kind='bar', stacked=True, figsize=(10, 6))\n",
        "plt.xlabel('Chest Pain Type')\n",
        "plt.ylabel('Count')\n",
        "plt.title('Distribution of Exercise-Induced Angina by Chest Pain Type')\n",
        "plt.legend(title='Exang')\n",
        "plt.show()\n",
        "\n",
        "# Calcular la correlación entre cp y exang\n",
        "correlation_exang = df_filtered[['cp', 'exang']].corr().iloc[0, 1]\n",
        "print(f'Correlación: {correlation_exang:.2f}')"
      ]
    },
    {
      "cell_type": "code",
      "execution_count": null,
      "metadata": {
        "colab": {
          "base_uri": "https://localhost:8080/",
          "height": 507
        },
        "id": "NTzR0wYladlE",
        "outputId": "dcc1ffdf-588e-478a-80b6-57cb92716b6b"
      },
      "outputs": [
        {
          "data": {
            "text/plain": [
              "<Figure size 1200x600 with 0 Axes>"
            ]
          },
          "metadata": {},
          "output_type": "display_data"
        },
        {
          "data": {
            "image/png": "[encoded data removed]",
            "text/plain": [
              "<Figure size 640x480 with 1 Axes>"
            ]
          },
          "metadata": {},
          "output_type": "display_data"
        },
        {
          "name": "stdout",
          "output_type": "stream",
          "text": [
            "Correlación: -0.24\n"
          ]
        }
      ],
      "source": [
        "# Gráfico de caja para depresión del ST inducida por ejercicio\n",
        "plt.figure(figsize=(12, 6))\n",
        "df_filtered.boxplot(column='oldpeak', by='cp')\n",
        "plt.xlabel('Chest Pain Type')\n",
        "plt.ylabel('ST Depression Induced by Exercise')\n",
        "plt.title('Boxplot of ST Depression by Chest Pain Type')\n",
        "plt.suptitle('')\n",
        "plt.show()\n",
        "\n",
        "# Calcular la correlación entre cp y oldpeak\n",
        "correlation_oldpeak = df_filtered[['cp', 'oldpeak']].corr().iloc[0, 1]\n",
        "print(f'Correlación: {correlation_oldpeak:.2f}')"
      ]
    },
    {
      "cell_type": "code",
      "execution_count": null,
      "metadata": {
        "colab": {
          "base_uri": "https://localhost:8080/",
          "height": 585
        },
        "id": "1YUpvCcWojYJ",
        "outputId": "ec930cf7-52e1-4bf2-8d02-e773499d2d2b"
      },
      "outputs": [
        {
          "data": {
            "image/png": "[encoded data removed]",
            "text/plain": [
              "<Figure size 1000x600 with 1 Axes>"
            ]
          },
          "metadata": {},
          "output_type": "display_data"
        },
        {
          "name": "stdout",
          "output_type": "stream",
          "text": [
            "Correlación: 0.51\n"
          ]
        }
      ],
      "source": [
        "# Contar la frecuencia de pacientes con y sin enfermedad cardíaca por tipo de dolor en el pecho\n",
        "target_counts = df_filtered.groupby(['cp', 'target']).size().unstack()\n",
        "\n",
        "# Graficar\n",
        "target_counts.plot(kind='bar', stacked=True, figsize=(10, 6))\n",
        "plt.xlabel('Chest Pain Type')\n",
        "plt.ylabel('Count')\n",
        "plt.title('Distribution of Heart Disease by Chest Pain Type')\n",
        "plt.legend(title='Target')\n",
        "plt.show()\n",
        "\n",
        "# Calcular la correlación entre cp y target\n",
        "correlation_target = df_filtered[['cp', 'target']].corr().iloc[0, 1]\n",
        "print(f'Correlación: {correlation_target:.2f}')"
      ]
    },
    {
      "cell_type": "markdown",
      "metadata": {
        "id": "kG_RimFylTgv"
      },
      "source": [
        "Tras analizar la correlación y las gráficas de cada una de las características en relación con la variable objetivo, considero que las características más importantes son las siguientes:\n",
        "\n",
        "1. **Frecuencia Cardíaca Máxima Alcanzada (Thalach)**: La correlación de 0.32 sugiere que la frecuencia cardíaca máxima podría ser un buen predictor. Además, la gráfica revela diferencias notables entre los dos tipos de dolor en el pecho en términos de frecuencia cardíaca. Este factor podría ser relevante para incluir en el modelo.\n",
        "\n",
        "2. **Angina Inducida por Ejercicio (Exang)**: Aunque la correlación es negativa (-0.43), sigue siendo una característica relevante. La gráfica indica que la presencia de angina inducida por ejercicio varía significativamente entre los dos tipos de dolor en el pecho. Se recomienda considerar esta característica en el análisis.\n",
        "\n",
        "3. **Depresión del ST Inducida por Ejercicio (Oldpeak)**: La correlación de -0.24 sugiere una relación moderada. La gráfica muestra diferencias en los niveles de depresión del ST entre los dos tipos de dolor en el pecho. Sería beneficioso explorar esta característica más a fondo.\n",
        "\n",
        "4. **Edad**: Aunque la correlación es débil, la gráfica muestra algunos patrones interesantes, como una mayor concentración de casos de CP 0 alrededor de los 58 años. Aunque no es la característica más fuerte, podría ser considerada en el análisis.\n",
        "\n",
        "5. **Target**: La correlación es fuerte, y la gráfica indica que los pacientes con enfermedades cardíacas tienden a presentar dolor en el pecho de tipo no anginal, mientras que aquellos sin enfermedades tienden a experimentar dolor en el pecho anginal.\n",
        "\n",
        "Procederé a desarrollar un modelo utilizando únicamente estas características para evaluar si se puede mejorar el rendimiento del modelo ya que anteriormente lo hice con todas las variables pero la efectividad del modelo variaba mucho entre el validation set y el training set."
      ]
    },
    {
      "cell_type": "markdown",
      "metadata": {
        "id": "dvmCjlGbJtGG"
      },
      "source": [
        "Parte 2: Dividir los datos en training set, validation set y test set."
      ]
    },
    {
      "cell_type": "code",
      "execution_count": null,
      "metadata": {
        "colab": {
          "base_uri": "https://localhost:8080/",
          "height": 206
        },
        "id": "cnbT2YPj4Gsl",
        "outputId": "d0a969d2-17cc-4501-9454-6588c6c141ac"
      },
      "outputs": [
        {
          "data": {
            "application/vnd.google.colaboratory.intrinsic+json": {
              "summary": "{\n  \"name\": \"train_set\",\n  \"rows\": 161,\n  \"fields\": [\n    {\n      \"column\": \"age\",\n      \"properties\": {\n        \"dtype\": \"number\",\n        \"std\": 8,\n        \"min\": 35,\n        \"max\": 77,\n        \"num_unique_values\": 35,\n        \"samples\": [\n          70,\n          46,\n          60\n        ],\n        \"semantic_type\": \"\",\n        \"description\": \"\"\n      }\n    },\n    {\n      \"column\": \"sex\",\n      \"properties\": {\n        \"dtype\": \"number\",\n        \"std\": 0,\n        \"min\": 0,\n        \"max\": 1,\n        \"num_unique_values\": 2,\n        \"samples\": [\n          0,\n          1\n        ],\n        \"semantic_type\": \"\",\n        \"description\": \"\"\n      }\n    },\n    {\n      \"column\": \"cp\",\n      \"properties\": {\n        \"dtype\": \"number\",\n        \"std\": 0,\n        \"min\": 0,\n        \"max\": 1,\n        \"num_unique_values\": 2,\n        \"samples\": [\n          1,\n          0\n        ],\n        \"semantic_type\": \"\",\n        \"description\": \"\"\n      }\n    },\n    {\n      \"column\": \"trestbps\",\n      \"properties\": {\n        \"dtype\": \"number\",\n        \"std\": 17,\n        \"min\": 94,\n        \"max\": 200,\n        \"num_unique_values\": 40,\n        \"samples\": [\n          136,\n          135\n        ],\n        \"semantic_type\": \"\",\n        \"description\": \"\"\n      }\n    },\n    {\n      \"column\": \"chol\",\n      \"properties\": {\n        \"dtype\": \"number\",\n        \"std\": 55,\n        \"min\": 126,\n        \"max\": 564,\n        \"num_unique_values\": 108,\n        \"samples\": [\n          214,\n          205\n        ],\n        \"semantic_type\": \"\",\n        \"description\": \"\"\n      }\n    },\n    {\n      \"column\": \"fbs\",\n      \"properties\": {\n        \"dtype\": \"number\",\n        \"std\": 0,\n        \"min\": 0,\n        \"max\": 1,\n        \"num_unique_values\": 2,\n        \"samples\": [\n          1,\n          0\n        ],\n        \"semantic_type\": \"\",\n        \"description\": \"\"\n      }\n    },\n    {\n      \"column\": \"restecg\",\n      \"properties\": {\n        \"dtype\": \"number\",\n        \"std\": 0,\n        \"min\": 0,\n        \"max\": 2,\n        \"num_unique_values\": 3,\n        \"samples\": [\n          1,\n          0\n        ],\n        \"semantic_type\": \"\",\n        \"description\": \"\"\n      }\n    },\n    {\n      \"column\": \"thalach\",\n      \"properties\": {\n        \"dtype\": \"number\",\n        \"std\": 22,\n        \"min\": 71,\n        \"max\": 194,\n        \"num_unique_values\": 75,\n        \"samples\": [\n          123,\n          139\n        ],\n        \"semantic_type\": \"\",\n        \"description\": \"\"\n      }\n    },\n    {\n      \"column\": \"exang\",\n      \"properties\": {\n        \"dtype\": \"number\",\n        \"std\": 0,\n        \"min\": 0,\n        \"max\": 1,\n        \"num_unique_values\": 2,\n        \"samples\": [\n          0,\n          1\n        ],\n        \"semantic_type\": \"\",\n        \"description\": \"\"\n      }\n    },\n    {\n      \"column\": \"oldpeak\",\n      \"properties\": {\n        \"dtype\": \"number\",\n        \"std\": 1.2694740804734017,\n        \"min\": 0.0,\n        \"max\": 6.2,\n        \"num_unique_values\": 36,\n        \"samples\": [\n          6.2,\n          5.6\n        ],\n        \"semantic_type\": \"\",\n        \"description\": \"\"\n      }\n    },\n    {\n      \"column\": \"slope\",\n      \"properties\": {\n        \"dtype\": \"number\",\n        \"std\": 0,\n        \"min\": 0,\n        \"max\": 2,\n        \"num_unique_values\": 3,\n        \"samples\": [\n          1,\n          2\n        ],\n        \"semantic_type\": \"\",\n        \"description\": \"\"\n      }\n    },\n    {\n      \"column\": \"ca\",\n      \"properties\": {\n        \"dtype\": \"number\",\n        \"std\": 1,\n        \"min\": 0,\n        \"max\": 4,\n        \"num_unique_values\": 5,\n        \"samples\": [\n          3,\n          4\n        ],\n        \"semantic_type\": \"\",\n        \"description\": \"\"\n      }\n    },\n    {\n      \"column\": \"thal\",\n      \"properties\": {\n        \"dtype\": \"number\",\n        \"std\": 0,\n        \"min\": 0,\n        \"max\": 3,\n        \"num_unique_values\": 4,\n        \"samples\": [\n          2,\n          0\n        ],\n        \"semantic_type\": \"\",\n        \"description\": \"\"\n      }\n    },\n    {\n      \"column\": \"target\",\n      \"properties\": {\n        \"dtype\": \"number\",\n        \"std\": 0,\n        \"min\": 0,\n        \"max\": 1,\n        \"num_unique_values\": 2,\n        \"samples\": [\n          1,\n          0\n        ],\n        \"semantic_type\": \"\",\n        \"description\": \"\"\n      }\n    }\n  ]\n}",
              "type": "dataframe",
              "variable_name": "train_set"
            },
            "text/html": [
              "\n",
              "  <div id=\"df-0e94db9c-cb82-4998-981f-3495c0c78b62\" class=\"colab-df-container\">\n",
              "    <div>\n",
              "<style scoped>\n",
              "    .dataframe tbody tr th:only-of-type {\n",
              "        vertical-align: middle;\n",
              "    }\n",
              "\n",
              "    .dataframe tbody tr th {\n",
              "        vertical-align: top;\n",
              "    }\n",
              "\n",
              "    .dataframe thead th {\n",
              "        text-align: right;\n",
              "    }\n",
              "</style>\n",
              "<table border=\"1\" class=\"dataframe\">\n",
              "  <thead>\n",
              "    <tr style=\"text-align: right;\">\n",
              "      <th></th>\n",
              "      <th>age</th>\n",
              "      <th>sex</th>\n",
              "      <th>cp</th>\n",
              "      <th>trestbps</th>\n",
              "      <th>chol</th>\n",
              "      <th>fbs</th>\n",
              "      <th>restecg</th>\n",
              "      <th>thalach</th>\n",
              "      <th>exang</th>\n",
              "      <th>oldpeak</th>\n",
              "      <th>slope</th>\n",
              "      <th>ca</th>\n",
              "      <th>thal</th>\n",
              "      <th>target</th>\n",
              "    </tr>\n",
              "  </thead>\n",
              "  <tbody>\n",
              "    <tr>\n",
              "      <th>0</th>\n",
              "      <td>57</td>\n",
              "      <td>1</td>\n",
              "      <td>0</td>\n",
              "      <td>110</td>\n",
              "      <td>335</td>\n",
              "      <td>0</td>\n",
              "      <td>1</td>\n",
              "      <td>143</td>\n",
              "      <td>1</td>\n",
              "      <td>3.0</td>\n",
              "      <td>1</td>\n",
              "      <td>1</td>\n",
              "      <td>3</td>\n",
              "      <td>0</td>\n",
              "    </tr>\n",
              "    <tr>\n",
              "      <th>1</th>\n",
              "      <td>53</td>\n",
              "      <td>1</td>\n",
              "      <td>1</td>\n",
              "      <td>130</td>\n",
              "      <td>246</td>\n",
              "      <td>1</td>\n",
              "      <td>0</td>\n",
              "      <td>173</td>\n",
              "      <td>0</td>\n",
              "      <td>0.0</td>\n",
              "      <td>2</td>\n",
              "      <td>3</td>\n",
              "      <td>2</td>\n",
              "      <td>1</td>\n",
              "    </tr>\n",
              "    <tr>\n",
              "      <th>2</th>\n",
              "      <td>43</td>\n",
              "      <td>1</td>\n",
              "      <td>0</td>\n",
              "      <td>150</td>\n",
              "      <td>247</td>\n",
              "      <td>0</td>\n",
              "      <td>1</td>\n",
              "      <td>171</td>\n",
              "      <td>0</td>\n",
              "      <td>1.5</td>\n",
              "      <td>2</td>\n",
              "      <td>0</td>\n",
              "      <td>2</td>\n",
              "      <td>1</td>\n",
              "    </tr>\n",
              "    <tr>\n",
              "      <th>3</th>\n",
              "      <td>62</td>\n",
              "      <td>0</td>\n",
              "      <td>0</td>\n",
              "      <td>150</td>\n",
              "      <td>244</td>\n",
              "      <td>0</td>\n",
              "      <td>1</td>\n",
              "      <td>154</td>\n",
              "      <td>1</td>\n",
              "      <td>1.4</td>\n",
              "      <td>1</td>\n",
              "      <td>0</td>\n",
              "      <td>2</td>\n",
              "      <td>0</td>\n",
              "    </tr>\n",
              "    <tr>\n",
              "      <th>4</th>\n",
              "      <td>51</td>\n",
              "      <td>1</td>\n",
              "      <td>1</td>\n",
              "      <td>110</td>\n",
              "      <td>175</td>\n",
              "      <td>0</td>\n",
              "      <td>1</td>\n",
              "      <td>123</td>\n",
              "      <td>0</td>\n",
              "      <td>0.6</td>\n",
              "      <td>2</td>\n",
              "      <td>0</td>\n",
              "      <td>2</td>\n",
              "      <td>1</td>\n",
              "    </tr>\n",
              "  </tbody>\n",
              "</table>\n",
              "</div>\n",
              "    <div class=\"colab-df-buttons\">\n",
              "\n",
              "  <div class=\"colab-df-container\">\n",
              "    <button class=\"colab-df-convert\" onclick=\"convertToInteractive('df-0e94db9c-cb82-4998-981f-3495c0c78b62')\"\n",
              "            title=\"Convert this dataframe to an interactive table.\"\n",
              "            style=\"display:none;\">\n",
              "\n",
              "  <svg xmlns=\"http://www.w3.org/2000/svg\" height=\"24px\" viewBox=\"0 -960 960 960\">\n",
              "    <path d=\"M120-120v-720h720v720H120Zm60-500h600v-160H180v160Zm220 220h160v-160H400v160Zm0 220h160v-160H400v160ZM180-400h160v-160H180v160Zm440 0h160v-160H620v160ZM180-180h160v-160H180v160Zm440 0h160v-160H620v160Z\"/>\n",
              "  </svg>\n",
              "    </button>\n",
              "\n",
              "  <style>\n",
              "    .colab-df-container {\n",
              "      display:flex;\n",
              "      gap: 12px;\n",
              "    }\n",
              "\n",
              "    .colab-df-convert {\n",
              "      background-color: #E8F0FE;\n",
              "      border: none;\n",
              "      border-radius: 50%;\n",
              "      cursor: pointer;\n",
              "      display: none;\n",
              "      fill: #1967D2;\n",
              "      height: 32px;\n",
              "      padding: 0 0 0 0;\n",
              "      width: 32px;\n",
              "    }\n",
              "\n",
              "    .colab-df-convert:hover {\n",
              "      background-color: #E2EBFA;\n",
              "      box-shadow: 0px 1px 2px rgba(60, 64, 67, 0.3), 0px 1px 3px 1px rgba(60, 64, 67, 0.15);\n",
              "      fill: #174EA6;\n",
              "    }\n",
              "\n",
              "    .colab-df-buttons div {\n",
              "      margin-bottom: 4px;\n",
              "    }\n",
              "\n",
              "    [theme=dark] .colab-df-convert {\n",
              "      background-color: #3B4455;\n",
              "      fill: #D2E3FC;\n",
              "    }\n",
              "\n",
              "    [theme=dark] .colab-df-convert:hover {\n",
              "      background-color: #434B5C;\n",
              "      box-shadow: 0px 1px 3px 1px rgba(0, 0, 0, 0.15);\n",
              "      filter: drop-shadow(0px 1px 2px rgba(0, 0, 0, 0.3));\n",
              "      fill: #FFFFFF;\n",
              "    }\n",
              "  </style>\n",
              "\n",
              "    <script>\n",
              "      const buttonEl =\n",
              "        document.querySelector('#df-0e94db9c-cb82-4998-981f-3495c0c78b62 button.colab-df-convert');\n",
              "      buttonEl.style.display =\n",
              "        google.colab.kernel.accessAllowed ? 'block' : 'none';\n",
              "\n",
              "      async function convertToInteractive(key) {\n",
              "        const element = document.querySelector('#df-0e94db9c-cb82-4998-981f-3495c0c78b62');\n",
              "        const dataTable =\n",
              "          await google.colab.kernel.invokeFunction('convertToInteractive',\n",
              "                                                    [key], {});\n",
              "        if (!dataTable) return;\n",
              "\n",
              "        const docLinkHtml = 'Like what you see? Visit the ' +\n",
              "          '<a target=\"_blank\" href=https://colab.research.google.com/notebooks/data_table.ipynb>data table notebook</a>'\n",
              "          + ' to learn more about interactive tables.';\n",
              "        element.innerHTML = '';\n",
              "        dataTable['output_type'] = 'display_data';\n",
              "        await google.colab.output.renderOutput(dataTable, element);\n",
              "        const docLink = document.createElement('div');\n",
              "        docLink.innerHTML = docLinkHtml;\n",
              "        element.appendChild(docLink);\n",
              "      }\n",
              "    </script>\n",
              "  </div>\n",
              "\n",
              "\n",
              "<div id=\"df-47fc32fc-5e31-44bd-8997-13bd2cbacd6b\">\n",
              "  <button class=\"colab-df-quickchart\" onclick=\"quickchart('df-47fc32fc-5e31-44bd-8997-13bd2cbacd6b')\"\n",
              "            title=\"Suggest charts\"\n",
              "            style=\"display:none;\">\n",
              "\n",
              "<svg xmlns=\"http://www.w3.org/2000/svg\" height=\"24px\"viewBox=\"0 0 24 24\"\n",
              "     width=\"24px\">\n",
              "    <g>\n",
              "        <path d=\"M19 3H5c-1.1 0-2 .9-2 2v14c0 1.1.9 2 2 2h14c1.1 0 2-.9 2-2V5c0-1.1-.9-2-2-2zM9 17H7v-7h2v7zm4 0h-2V7h2v10zm4 0h-2v-4h2v4z\"/>\n",
              "    </g>\n",
              "</svg>\n",
              "  </button>\n",
              "\n",
              "<style>\n",
              "  .colab-df-quickchart {\n",
              "      --bg-color: #E8F0FE;\n",
              "      --fill-color: #1967D2;\n",
              "      --hover-bg-color: #E2EBFA;\n",
              "      --hover-fill-color: #174EA6;\n",
              "      --disabled-fill-color: #AAA;\n",
              "      --disabled-bg-color: #DDD;\n",
              "  }\n",
              "\n",
              "  [theme=dark] .colab-df-quickchart {\n",
              "      --bg-color: #3B4455;\n",
              "      --fill-color: #D2E3FC;\n",
              "      --hover-bg-color: #434B5C;\n",
              "      --hover-fill-color: #FFFFFF;\n",
              "      --disabled-bg-color: #3B4455;\n",
              "      --disabled-fill-color: #666;\n",
              "  }\n",
              "\n",
              "  .colab-df-quickchart {\n",
              "    background-color: var(--bg-color);\n",
              "    border: none;\n",
              "    border-radius: 50%;\n",
              "    cursor: pointer;\n",
              "    display: none;\n",
              "    fill: var(--fill-color);\n",
              "    height: 32px;\n",
              "    padding: 0;\n",
              "    width: 32px;\n",
              "  }\n",
              "\n",
              "  .colab-df-quickchart:hover {\n",
              "    background-color: var(--hover-bg-color);\n",
              "    box-shadow: 0 1px 2px rgba(60, 64, 67, 0.3), 0 1px 3px 1px rgba(60, 64, 67, 0.15);\n",
              "    fill: var(--button-hover-fill-color);\n",
              "  }\n",
              "\n",
              "  .colab-df-quickchart-complete:disabled,\n",
              "  .colab-df-quickchart-complete:disabled:hover {\n",
              "    background-color: var(--disabled-bg-color);\n",
              "    fill: var(--disabled-fill-color);\n",
              "    box-shadow: none;\n",
              "  }\n",
              "\n",
              "  .colab-df-spinner {\n",
              "    border: 2px solid var(--fill-color);\n",
              "    border-color: transparent;\n",
              "    border-bottom-color: var(--fill-color);\n",
              "    animation:\n",
              "      spin 1s steps(1) infinite;\n",
              "  }\n",
              "\n",
              "  @keyframes spin {\n",
              "    0% {\n",
              "      border-color: transparent;\n",
              "      border-bottom-color: var(--fill-color);\n",
              "      border-left-color: var(--fill-color);\n",
              "    }\n",
              "    20% {\n",
              "      border-color: transparent;\n",
              "      border-left-color: var(--fill-color);\n",
              "      border-top-color: var(--fill-color);\n",
              "    }\n",
              "    30% {\n",
              "      border-color: transparent;\n",
              "      border-left-color: var(--fill-color);\n",
              "      border-top-color: var(--fill-color);\n",
              "      border-right-color: var(--fill-color);\n",
              "    }\n",
              "    40% {\n",
              "      border-color: transparent;\n",
              "      border-right-color: var(--fill-color);\n",
              "      border-top-color: var(--fill-color);\n",
              "    }\n",
              "    60% {\n",
              "      border-color: transparent;\n",
              "      border-right-color: var(--fill-color);\n",
              "    }\n",
              "    80% {\n",
              "      border-color: transparent;\n",
              "      border-right-color: var(--fill-color);\n",
              "      border-bottom-color: var(--fill-color);\n",
              "    }\n",
              "    90% {\n",
              "      border-color: transparent;\n",
              "      border-bottom-color: var(--fill-color);\n",
              "    }\n",
              "  }\n",
              "</style>\n",
              "\n",
              "  <script>\n",
              "    async function quickchart(key) {\n",
              "      const quickchartButtonEl =\n",
              "        document.querySelector('#' + key + ' button');\n",
              "      quickchartButtonEl.disabled = true;  // To prevent multiple clicks.\n",
              "      quickchartButtonEl.classList.add('colab-df-spinner');\n",
              "      try {\n",
              "        const charts = await google.colab.kernel.invokeFunction(\n",
              "            'suggestCharts', [key], {});\n",
              "      } catch (error) {\n",
              "        console.error('Error during call to suggestCharts:', error);\n",
              "      }\n",
              "      quickchartButtonEl.classList.remove('colab-df-spinner');\n",
              "      quickchartButtonEl.classList.add('colab-df-quickchart-complete');\n",
              "    }\n",
              "    (() => {\n",
              "      let quickchartButtonEl =\n",
              "        document.querySelector('#df-47fc32fc-5e31-44bd-8997-13bd2cbacd6b button');\n",
              "      quickchartButtonEl.style.display =\n",
              "        google.colab.kernel.accessAllowed ? 'block' : 'none';\n",
              "    })();\n",
              "  </script>\n",
              "</div>\n",
              "\n",
              "    </div>\n",
              "  </div>\n"
            ],
            "text/plain": [
              "   age  sex  cp  trestbps  chol  fbs  restecg  thalach  exang  oldpeak  slope  \\\n",
              "0   57    1   0       110   335    0        1      143      1      3.0      1   \n",
              "1   53    1   1       130   246    1        0      173      0      0.0      2   \n",
              "2   43    1   0       150   247    0        1      171      0      1.5      2   \n",
              "3   62    0   0       150   244    0        1      154      1      1.4      1   \n",
              "4   51    1   1       110   175    0        1      123      0      0.6      2   \n",
              "\n",
              "   ca  thal  target  \n",
              "0   1     3       0  \n",
              "1   3     2       1  \n",
              "2   0     2       1  \n",
              "3   0     2       0  \n",
              "4   0     2       1  "
            ]
          },
          "execution_count": 140,
          "metadata": {},
          "output_type": "execute_result"
        }
      ],
      "source": [
        "import pandas as pd\n",
        "import numpy as np\n",
        "\n",
        "# Establecemos las proporciones para cada conjunto\n",
        "train_ratio = 0.7\n",
        "validation_ratio = 0.15\n",
        "test_ratio = 0.15\n",
        "\n",
        "# Barajamos el DataFrame para mezclar las filas\n",
        "df_shuffled = df_filtered.sample(frac=1, random_state=42).reset_index(drop=True)\n",
        "\n",
        "# Calculamos los tamaños de cada conjunto\n",
        "train_size = int(train_ratio * len(df_shuffled))\n",
        "validation_size = int(validation_ratio * len(df_shuffled))\n",
        "test_size = len(df_shuffled) - train_size - validation_size\n",
        "\n",
        "# Dividimos el DataFrame\n",
        "train_set = df_shuffled.iloc[:train_size]\n",
        "validation_set = df_shuffled.iloc[train_size:train_size + validation_size]\n",
        "test_set = df_shuffled.iloc[train_size + validation_size:]\n",
        "\n",
        "# Ahora los tres conjuntos de datos estan divididos\n",
        "\n",
        "train_set.head()\n"
      ]
    },
    {
      "cell_type": "markdown",
      "metadata": {
        "id": "8oVThVyB3bp7"
      },
      "source": [
        "Ahora dividiré los datos en label y features"
      ]
    },
    {
      "cell_type": "code",
      "execution_count": null,
      "metadata": {
        "id": "OCuEanAhNKBt"
      },
      "outputs": [],
      "source": [
        "X_train = train_set[['age', 'thalach',\n",
        "       'exang', 'oldpeak', 'target']]\n",
        "y_train = train_set['cp']\n",
        "\n",
        "X_val = validation_set[['age','thalach',\n",
        "       'exang', 'oldpeak', 'target']]\n",
        "y_val = validation_set['cp']\n",
        "\n",
        "X_test = test_set[['age', 'thalach',\n",
        "       'exang', 'oldpeak', 'target']]\n",
        "y_test = test_set['cp']"
      ]
    },
    {
      "cell_type": "markdown",
      "metadata": {
        "id": "O1L0pJT_HGs2"
      },
      "source": [
        "**Parte 3: Escalar los datos**"
      ]
    },
    {
      "cell_type": "code",
      "execution_count": null,
      "metadata": {
        "id": "K5kUpPR9KeCV"
      },
      "outputs": [],
      "source": [
        "# Escalar los datos\n",
        "scaler = StandardScaler()\n",
        "X_train_scaled = scaler.fit_transform(X_train)\n",
        "X_val_scaled = scaler.transform(X_val)\n",
        "X_test_scaled = scaler.transform(X_test)"
      ]
    },
    {
      "cell_type": "markdown",
      "metadata": {
        "id": "y6VbifR339zT"
      },
      "source": [
        "**Parte 4: Theta**"
      ]
    },
    {
      "cell_type": "code",
      "execution_count": null,
      "metadata": {
        "colab": {
          "base_uri": "https://localhost:8080/"
        },
        "id": "dxLgj0AD4C8T",
        "outputId": "c49c02fa-518f-492d-8aa5-76bd35250398"
      },
      "outputs": [
        {
          "data": {
            "text/plain": [
              "array([[ 0.57032667],\n",
              "       [ 0.57449604],\n",
              "       [ 0.03391187],\n",
              "       [ 0.29602914],\n",
              "       [-0.05408336],\n",
              "       [-0.04139281]])"
            ]
          },
          "execution_count": 143,
          "metadata": {},
          "output_type": "execute_result"
        }
      ],
      "source": [
        "# Crear valor theta con valores iniciales\n",
        "theta = np.random.randn(len(X_train_scaled[0]) + 1, 1)\n",
        "theta"
      ]
    },
    {
      "cell_type": "code",
      "execution_count": null,
      "metadata": {
        "colab": {
          "base_uri": "https://localhost:8080/"
        },
        "id": "mY8f2uLK4UE9",
        "outputId": "fe6c389d-21b3-488f-f2a1-038ee201c945"
      },
      "outputs": [
        {
          "name": "stdout",
          "output_type": "stream",
          "text": [
            "[[ 1.          0.16524786 -0.15774502  1.21528724  1.36196586 -0.92226607]\n",
            " [ 1.         -0.28378008  1.188383   -0.82285074 -1.00859093  1.08428579]\n",
            " [ 1.         -1.40634993  1.09864113 -0.82285074  0.17668746  1.08428579]\n",
            " [ 1.          0.72653279  0.33583525  1.21528724  0.0976689  -0.92226607]\n",
            " [ 1.         -0.50829405 -1.0551637  -0.82285074 -0.53447957  1.08428579]]\n",
            "(161, 6)\n"
          ]
        }
      ],
      "source": [
        "# Añadir x0 (columna de 1s) en X para multiplicar theta y obtener bias coeficient\n",
        "X_vect = np.c_[np.ones((len(X_train_scaled), 1)), X_train_scaled]\n",
        "print(X_vect[:5])\n",
        "print(X_vect.shape)"
      ]
    },
    {
      "cell_type": "markdown",
      "metadata": {
        "id": "vaAcOeVQH7R4"
      },
      "source": [
        "**Parte 5: Hacer regresión Logistica**"
      ]
    },
    {
      "cell_type": "code",
      "execution_count": null,
      "metadata": {
        "id": "sPNIjmQ8IArq"
      },
      "outputs": [],
      "source": [
        "#Definir la función sigmoide\n",
        "def sigmoid_function(X):\n",
        "  return 1/(1+math.e**(-X))"
      ]
    },
    {
      "cell_type": "code",
      "execution_count": null,
      "metadata": {
        "id": "5b9z4obgIIR3"
      },
      "outputs": [],
      "source": [
        "def log_regression3(X, y, theta, alpha):\n",
        "  y_ = np.reshape(y, (len(y), 1)) # shape (161,1)\n",
        "  N = len(X)\n",
        "  epoch = 0\n",
        "  avg_loss_list = []\n",
        "  prev_avg_loss = float('inf')  # Inicializar prev_avg_loss con un valor alto\n",
        "  avg_loss = float(0)  # Inicializar avg_loss con un valor bajo\n",
        "  while abs(prev_avg_loss - avg_loss) > 0.01  : #Si la diferencia de avg_loss es menor a 0.01 entonces se acaba el bucle\n",
        "    epoch = epoch + 1\n",
        "    sigmoid_x_theta = sigmoid_function(X_vect.dot(theta)) # shape: (161,6).(6,1) = (161,1)\n",
        "    grad = (1/N) * X_vect.T.dot(sigmoid_x_theta - y_) # shapes: (6,161).(161,1) = (6, 1)\n",
        "    theta = theta - (alpha * grad)\n",
        "    hyp = sigmoid_function(X_vect.dot(theta)) # shape (161,6).(6,1) = (161,1)\n",
        "    prev_avg_loss = avg_loss\n",
        "    avg_loss = -np.sum(np.dot(y_.T, np.log(hyp) + np.dot((1-y_).T, np.log(1-hyp)))) / len(hyp)\n",
        "    if epoch % 1000 == 0:\n",
        "      print('epoch: {} | avg_loss: {}'.format(epoch, avg_loss))\n",
        "    avg_loss_list.append(avg_loss)\n",
        "  print('epoch: {} | avg_loss: {}'.format(epoch, avg_loss))\n",
        "  plt.plot(np.arange(1, epoch), avg_loss_list[1:], color='red')\n",
        "  plt.title('Cost function')\n",
        "  plt.xlabel('Epochs')\n",
        "  plt.ylabel('Cost')\n",
        "  plt.show()\n",
        "  return theta\n",
        "\n",
        "\n",
        "#Función similar pero para probar distintos hiperparametros\n",
        "def log_regression_hyper(X, y, theta, alpha,specific_epochs):\n",
        "  y_ = np.reshape(y, (len(y), 1)) # shape (161,1)\n",
        "  N = len(X)\n",
        "  epoch = 0\n",
        "  avg_loss_list = []\n",
        "  prev_avg_loss = float('inf')  # Inicializar prev_avg_loss con un valor alto\n",
        "  avg_loss = float(0)  # Inicializar avg_loss con un valor bajo\n",
        "  # while abs(prev_avg_loss - avg_loss) > 0.001  :\n",
        "  while epoch < specific_epochs  :\n",
        "    epoch = epoch + 1\n",
        "    sigmoid_x_theta = sigmoid_function(X_vect.dot(theta)) # shape: (150,5).(5,1) = (150,1)\n",
        "    grad = (1/N) * X_vect.T.dot(sigmoid_x_theta - y_) # shapes: (6,161).(161,1) = (6, 1)\n",
        "    theta = theta - (alpha * grad)\n",
        "    hyp = sigmoid_function(X_vect.dot(theta)) # shape (161,6).(6,1) = (161,1)\n",
        "    prev_avg_loss = avg_loss\n",
        "    avg_loss = -np.sum(np.dot(y_.T, np.log(hyp) + np.dot((1-y_).T, np.log(1-hyp)))) / len(hyp)\n",
        "    if epoch % 1000 == 0:\n",
        "      print('epoch: {} | avg_loss: {}'.format(epoch, avg_loss))\n",
        "    avg_loss_list.append(avg_loss)\n",
        "  print('epoch: {} | avg_loss: {}'.format(epoch, avg_loss))\n",
        "  plt.plot(np.arange(1, epoch), avg_loss_list[1:], color='red')\n",
        "  plt.title('Cost function')\n",
        "  plt.xlabel('Epochs')\n",
        "  plt.ylabel('Cost')\n",
        "  plt.show()\n",
        "  return theta"
      ]
    },
    {
      "cell_type": "code",
      "execution_count": null,
      "metadata": {
        "colab": {
          "base_uri": "https://localhost:8080/",
          "height": 498
        },
        "id": "GDDzL23jIWJn",
        "outputId": "68cd1005-ee0c-400d-c26c-5d4c8ae02d28"
      },
      "outputs": [
        {
          "name": "stdout",
          "output_type": "stream",
          "text": [
            "epoch: 34 | avg_loss: 13.722412104307995\n"
          ]
        },
        {
          "data": {
            "image/png": "[encoded data removed]",
            "text/plain": [
              "<Figure size 640x480 with 1 Axes>"
            ]
          },
          "metadata": {},
          "output_type": "display_data"
        }
      ],
      "source": [
        "alpha = 1\n",
        "best_params = log_regression3(X_train_scaled, y_train, theta, alpha)"
      ]
    },
    {
      "cell_type": "code",
      "execution_count": null,
      "metadata": {
        "colab": {
          "base_uri": "https://localhost:8080/"
        },
        "id": "bPlfMdOtUSfu",
        "outputId": "d2931805-3eae-403b-b2b5-bcdcb02baa7c"
      },
      "outputs": [
        {
          "name": "stdout",
          "output_type": "stream",
          "text": [
            "[[-0.83413304]\n",
            " [ 0.21544548]\n",
            " [ 0.47375874]\n",
            " [-0.44279001]\n",
            " [ 0.0695737 ]\n",
            " [ 0.92348547]]\n"
          ]
        }
      ],
      "source": [
        "print(best_params)"
      ]
    },
    {
      "cell_type": "markdown",
      "metadata": {
        "id": "wh1tkPE0Qks5"
      },
      "source": [
        "**Parte 6: Probar datos en el validation set y utilizar diferentes hyperparametros para ver si hay mejorías**"
      ]
    },
    {
      "cell_type": "code",
      "execution_count": null,
      "metadata": {
        "id": "82LlK-z7KO0D"
      },
      "outputs": [],
      "source": [
        "def predict_log_regression(X, theta):\n",
        "    X_to_predict = np.c_[np.ones((len(X), 1)), X] # añadir x0 para bias\n",
        "    # print(X_to_predict)\n",
        "    # calcular la probabilidad con la función sigmoide\n",
        "    pred_probability = sigmoid_function(X_to_predict.dot(theta))\n",
        "    return pred_probability\n"
      ]
    },
    {
      "cell_type": "code",
      "execution_count": null,
      "metadata": {
        "colab": {
          "base_uri": "https://localhost:8080/"
        },
        "id": "gLDxtazQK6Kl",
        "outputId": "40376f8a-3c1a-4b9d-eb99-b4f20a700baa"
      },
      "outputs": [
        {
          "name": "stdout",
          "output_type": "stream",
          "text": [
            "La predicción para el dato de validation es: [[0.10689585]]\n"
          ]
        }
      ],
      "source": [
        "# Hacer las predicciones con el set de validación\n",
        "X_to_predict = [list(X_val_scaled[0])]\n",
        "\n",
        "X_vect_val = [list(X_val_scaled)]\n",
        "\n",
        "X_to_predict = np.c_[np.ones((len(X_to_predict), 1)), X_to_predict] # add x0 for bias\n",
        "\n",
        "pred_probability = sigmoid_function(X_to_predict.dot(best_params))\n",
        "\n",
        "print(\"La predicción para el dato de validation es:\", pred_probability)"
      ]
    },
    {
      "cell_type": "code",
      "execution_count": null,
      "metadata": {
        "colab": {
          "base_uri": "https://localhost:8080/"
        },
        "id": "awDluIO9SCvC",
        "outputId": "1991a39c-0cd8-4322-e780-6b935e2b3678"
      },
      "outputs": [
        {
          "name": "stdout",
          "output_type": "stream",
          "text": [
            "Predicted   0  1\n",
            "Actual          \n",
            "0          19  4\n",
            "1           3  8\n"
          ]
        }
      ],
      "source": [
        "y_true = y_val\n",
        "y_pred = np.array([predict_log_regression(x, best_params) for x in X_vect_val])\n",
        "\n",
        "pred_val = (y_pred >= 0.5).astype(int).flatten()\n",
        "\n",
        "\n",
        "conf_matrix = pd.crosstab(pd.Series(y_true.values, name='Actual'), pd.Series(pred_val, name='Predicted'))\n",
        "\n",
        "# # Visualiza la matriz de confusión\n",
        "print(conf_matrix)"
      ]
    },
    {
      "cell_type": "code",
      "execution_count": null,
      "metadata": {
        "colab": {
          "base_uri": "https://localhost:8080/"
        },
        "id": "HfXaatWrm96J",
        "outputId": "92f936a7-1257-47ec-bf20-5e031c29c8c0"
      },
      "outputs": [
        {
          "name": "stdout",
          "output_type": "stream",
          "text": [
            "Exactitud: 0.7941176470588235\n"
          ]
        }
      ],
      "source": [
        "accuracy = np.mean(y_true.values == pred_val)\n",
        "print(f'Exactitud: {accuracy}')"
      ]
    },
    {
      "cell_type": "markdown",
      "metadata": {
        "id": "mhrHb_-gJt3Z"
      },
      "source": [
        "Para evaluar si esta es la mejor opción en función de los hiperparámetros, analizaré cómo varía el rendimiento del modelo al modificar diferentes valores de alpha."
      ]
    },
    {
      "cell_type": "markdown",
      "metadata": {
        "id": "9hYWYrW9Ndte"
      },
      "source": [
        "**Alpha 0.1**"
      ]
    },
    {
      "cell_type": "code",
      "execution_count": null,
      "metadata": {
        "colab": {
          "base_uri": "https://localhost:8080/",
          "height": 498
        },
        "id": "LO1UhiAmOJnX",
        "outputId": "9fd3a08c-ec35-46ac-9c5c-022cdb5922d9"
      },
      "outputs": [
        {
          "name": "stdout",
          "output_type": "stream",
          "text": [
            "epoch: 177 | avg_loss: 14.377609865693366\n"
          ]
        },
        {
          "data": {
            "image/png": "[encoded data removed]",
            "text/plain": [
              "<Figure size 640x480 with 1 Axes>"
            ]
          },
          "metadata": {},
          "output_type": "display_data"
        }
      ],
      "source": [
        "alpha = 0.1\n",
        "best_params01 = log_regression3(X_train_scaled, y_train, theta, alpha)"
      ]
    },
    {
      "cell_type": "code",
      "execution_count": null,
      "metadata": {
        "colab": {
          "base_uri": "https://localhost:8080/"
        },
        "id": "AuhxsqWKOUSO",
        "outputId": "ddb505a3-6200-42f6-e9b1-44a1531a0bc5"
      },
      "outputs": [
        {
          "name": "stdout",
          "output_type": "stream",
          "text": [
            "Predicted   0  1\n",
            "Actual          \n",
            "0          18  5\n",
            "1           3  8\n"
          ]
        }
      ],
      "source": [
        "y_pred = np.array([predict_log_regression(x, best_params01) for x in X_vect_val])\n",
        "\n",
        "pred_val = (y_pred >= 0.5).astype(int).flatten()\n",
        "\n",
        "\n",
        "conf_matrix = pd.crosstab(pd.Series(y_true.values, name='Actual'), pd.Series(pred_val, name='Predicted'))\n",
        "\n",
        "# # Visualiza la matriz de confusión\n",
        "print(conf_matrix)"
      ]
    },
    {
      "cell_type": "code",
      "execution_count": null,
      "metadata": {
        "colab": {
          "base_uri": "https://localhost:8080/"
        },
        "id": "lbh6xiZHOkRC",
        "outputId": "e31f233d-5507-4794-d617-dba80deefefe"
      },
      "outputs": [
        {
          "name": "stdout",
          "output_type": "stream",
          "text": [
            "Exactitud: 0.7647058823529411\n"
          ]
        }
      ],
      "source": [
        "accuracy = np.mean(y_true.values == pred_val)\n",
        "print(f'Exactitud: {accuracy}')"
      ]
    },
    {
      "cell_type": "markdown",
      "metadata": {
        "id": "t8uSLI4dOxDf"
      },
      "source": [
        "**Con Alpha 0.01**"
      ]
    },
    {
      "cell_type": "code",
      "execution_count": null,
      "metadata": {
        "colab": {
          "base_uri": "https://localhost:8080/",
          "height": 863
        },
        "id": "XfIvNw5kO4au",
        "outputId": "a77b4467-d274-4fd6-98a1-6dd5dac1fda4"
      },
      "outputs": [
        {
          "name": "stdout",
          "output_type": "stream",
          "text": [
            "epoch: 1000 | avg_loss: 15.989076771807479\n",
            "epoch: 2000 | avg_loss: 14.1965987565186\n",
            "epoch: 3000 | avg_loss: 13.810078997443812\n",
            "epoch: 4000 | avg_loss: 13.696885226668886\n",
            "epoch: 5000 | avg_loss: 13.65767713727657\n",
            "epoch: 6000 | avg_loss: 13.642561220152185\n",
            "epoch: 7000 | avg_loss: 13.63623668137255\n",
            "epoch: 8000 | avg_loss: 13.63340200029781\n",
            "epoch: 9000 | avg_loss: 13.632055618970417\n",
            "epoch: 10000 | avg_loss: 13.631385575785446\n",
            "epoch: 11000 | avg_loss: 13.631040095233182\n",
            "epoch: 12000 | avg_loss: 13.630857359222059\n",
            "epoch: 13000 | avg_loss: 13.630758984485617\n",
            "epoch: 14000 | avg_loss: 13.630705394376026\n",
            "epoch: 15000 | avg_loss: 13.630675972557627\n",
            "epoch: 16000 | avg_loss: 13.630659737553824\n",
            "epoch: 17000 | avg_loss: 13.630650749803609\n",
            "epoch: 18000 | avg_loss: 13.63064576375605\n",
            "epoch: 19000 | avg_loss: 13.630642994006203\n",
            "epoch: 20000 | avg_loss: 13.630641454104486\n",
            "epoch: 20000 | avg_loss: 13.630641454104486\n"
          ]
        },
        {
          "data": {
            "image/png": "[encoded data removed]",
            "text/plain": [
              "<Figure size 640x480 with 1 Axes>"
            ]
          },
          "metadata": {},
          "output_type": "display_data"
        }
      ],
      "source": [
        "alpha = 0.01\n",
        "best_params001 = log_regression_hyper(X_train_scaled, y_train, theta, alpha,20000)"
      ]
    },
    {
      "cell_type": "code",
      "execution_count": null,
      "metadata": {
        "colab": {
          "base_uri": "https://localhost:8080/"
        },
        "id": "LT-8VZ9_PqXv",
        "outputId": "0df0666b-d473-40c8-9797-32b8714127ae"
      },
      "outputs": [
        {
          "name": "stdout",
          "output_type": "stream",
          "text": [
            "Predicted   0  1\n",
            "Actual          \n",
            "0          19  4\n",
            "1           3  8\n"
          ]
        }
      ],
      "source": [
        "y_pred = np.array([predict_log_regression(x, best_params001) for x in X_vect_val])\n",
        "\n",
        "pred_val = (y_pred >= 0.5).astype(int).flatten()\n",
        "\n",
        "\n",
        "conf_matrix = pd.crosstab(pd.Series(y_true.values, name='Actual'), pd.Series(pred_val, name='Predicted'))\n",
        "\n",
        "# # Visualiza la matriz de confusión\n",
        "print(conf_matrix)"
      ]
    },
    {
      "cell_type": "code",
      "execution_count": null,
      "metadata": {
        "colab": {
          "base_uri": "https://localhost:8080/"
        },
        "id": "4bSG-mXyPxw2",
        "outputId": "789c067c-782c-4444-d410-f123ae9798d3"
      },
      "outputs": [
        {
          "name": "stdout",
          "output_type": "stream",
          "text": [
            "Exactitud: 0.7941176470588235\n"
          ]
        }
      ],
      "source": [
        "accuracy = np.mean(y_true.values == pred_val)\n",
        "print(f'Exactitud: {accuracy}')"
      ]
    },
    {
      "cell_type": "markdown",
      "metadata": {
        "id": "VKQpAfkGO4Dk"
      },
      "source": [
        "Intenté ajustar los valores de alpha para observar si el rendimiento del modelo mejoraba, pero los resultados obtenidos fueron muy similares entre sí, con la única diferencia en el número de epochs. En este caso, optaría por utilizar un valor de alpha de 1."
      ]
    },
    {
      "cell_type": "markdown",
      "metadata": {
        "id": "6mCX-rCfQeXt"
      },
      "source": [
        "**Parte 7, probar modelo en el test set:**"
      ]
    },
    {
      "cell_type": "code",
      "execution_count": null,
      "metadata": {
        "colab": {
          "base_uri": "https://localhost:8080/"
        },
        "id": "ROA89lTIRBtp",
        "outputId": "056db049-6c03-49f4-ae1b-5b6b3bd8d648"
      },
      "outputs": [
        {
          "name": "stdout",
          "output_type": "stream",
          "text": [
            "La predicción para el dato de test es: [[0.57169053]]\n"
          ]
        }
      ],
      "source": [
        "# Hacer predicciones en el test set\n",
        "X_to_predict = [list(X_test_scaled[0])]\n",
        "\n",
        "X_vect_test = [list(X_test_scaled)]\n",
        "\n",
        "X_to_predict = np.c_[np.ones((len(X_to_predict), 1)), X_to_predict] # añadir x0 para el bias\n",
        "\n",
        "pred_probability = sigmoid_function(X_to_predict.dot(best_params))\n",
        "\n",
        "print(\"La predicción para el dato de test es:\", pred_probability)"
      ]
    },
    {
      "cell_type": "code",
      "execution_count": null,
      "metadata": {
        "colab": {
          "base_uri": "https://localhost:8080/"
        },
        "id": "8iovtSXDRwof",
        "outputId": "8744cd3f-cc51-4d2a-e251-d03d77bd620f"
      },
      "outputs": [
        {
          "name": "stdout",
          "output_type": "stream",
          "text": [
            "Predicted   0   1\n",
            "Actual           \n",
            "0          14   3\n",
            "1           6  12\n"
          ]
        }
      ],
      "source": [
        "y_true = y_test\n",
        "y_pred = np.array([predict_log_regression(x, best_params) for x in X_vect_test])\n",
        "\n",
        "pred_val = (y_pred >= 0.5).astype(int).flatten()\n",
        "\n",
        "\n",
        "conf_matrix = pd.crosstab(pd.Series(y_true.values, name='Actual'), pd.Series(pred_val, name='Predicted'))\n",
        "\n",
        "# # Visualiza la matriz de confusión\n",
        "print(conf_matrix)"
      ]
    },
    {
      "cell_type": "code",
      "execution_count": null,
      "metadata": {
        "colab": {
          "base_uri": "https://localhost:8080/"
        },
        "id": "glbuPPDXSi4a",
        "outputId": "147495d4-0b47-48b8-f3a5-0127c70d7833"
      },
      "outputs": [
        {
          "name": "stdout",
          "output_type": "stream",
          "text": [
            "Exactitud: 0.7428571428571429\n"
          ]
        }
      ],
      "source": [
        "accuracy = np.mean(y_true.values == pred_val)\n",
        "print(f'Exactitud: {accuracy}')"
      ]
    },
    {
      "cell_type": "markdown",
      "metadata": {
        "id": "ZVHj-sEOSrtV"
      },
      "source": [
        "# **Reporte final de lo aprendido**\n",
        "### Reporte Final sobre Análisis de Datos y Uso de Regresión Logística\n",
        "\n",
        "En este trabajo, he desarrollado un modelo de regresión logística para clasificar el tipo de dolor en el pecho (chest pain) en un dataset de enfermedades cardíacas. A través del análisis de datos y la selección de características, he aprendido la importancia de utilizar métodos gráficos y de correlación para mejorar la efectividad del modelo.\n",
        "\n",
        "**Lo Aprendido:**\n",
        "\n",
        "1. **Importancia de la Selección de Características:**\n",
        "   - Inicialmente, el modelo fue entrenado utilizando todas las características disponibles. Sin embargo, se observó una discrepancia significativa entre la efectividad del modelo en el conjunto de entrenamiento y el conjunto de validación.\n",
        "   - La exactitud en el conjunto de validación con todas las características fue de 0.794, mientras que en el conjunto de prueba fue de 0.629. Esta diferencia sugiere que el modelo estaba sobreajustado a las características del conjunto de entrenamiento.\n",
        "\n",
        "2. **Uso de Gráficos y Correlación:**\n",
        "   - Para mejorar la precisión del modelo, se llevó a cabo un análisis exhaustivo de las características utilizando gráficos y correlaciones. Este proceso permitió identificar cuáles características eran más relevantes para el modelo.\n",
        "   - Se seleccionaron las características basadas en este análisis, eliminando las menos relevantes y las que presentaban una alta multicolinealidad.\n",
        "\n",
        "3. **Ajuste de hiperparametros:**\n",
        "   - Al comparar la efectividad del modelo con los datos de validación me pude dar cuenta de que no había mucha variación por lo que opte por quedarme con el modelo con alpha = 1 ya que tenía los mismos resultados y a menores epochs\n",
        "\n",
        "3. **Resultados Comparativos:**\n",
        "   - **Modelo con Todas las Características:**\n",
        "     - Exactitud en el conjunto de validación: 0.794\n",
        "     - Exactitud en el conjunto de prueba: 0.657\n",
        "   - **Modelo con Características Seleccionadas:**\n",
        "     - Exactitud en el conjunto de validación: 0.794\n",
        "     - Exactitud en el conjunto de prueba: 0.743\n",
        "\n",
        "**Importancia del Análisis de Datos:**\n",
        "\n",
        "El análisis de datos, incluyendo la visualización gráfica y la evaluación de correlaciones, juega un papel crucial en la selección de características para modelos predictivos. En mi experiencia, este análisis no solo ayuda a identificar las características más influyentes, sino que también contribuye a reducir el sobreajuste y mejorar la capacidad de generalización del modelo en datos no vistos. Al seleccionar las características adecuadas, se logra una mejor precisión y estabilidad en la predicción, como se reflejó en los resultados del modelo.\n",
        "\n",
        "Modelo con todas las características: https://colab.research.google.com/drive/14Aa8nk9kV6mryF-090cRH28sEjGCMJru?usp=sharing\n",
        "\n",
        "**Actualización:**\n",
        "\n",
        "Observé que el conjunto de datos contenía una columna adicional denominada \"target\" que no estaba descrita en la fuente original de Kaggle. Esta columna indica si el sujeto presenta una enfermedad cardíaca (1) o no (0). Aunque realizaré un análisis adicional en otro documento centrado en el objetivo principal del conjunto de datos, en este análisis continuaré enfocándome en la predicción del tipo de dolor en el pecho.\n",
        "\n",
        "Modelo con label en target (objetivo principal): https://colab.research.google.com/drive/1HrXiPQaNXl1NWNNg-zEH3LtVNAxN26aO?usp=sharing\n"
      ]
    }
  ],
  "metadata": {
    "colab": {
      "provenance": []
    },
    "kernelspec": {
      "display_name": "Python 3",
      "name": "python3"
    },
    "language_info": {
      "name": "python"
    }
  },
  "nbformat": 4,
  "nbformat_minor": 0
}
